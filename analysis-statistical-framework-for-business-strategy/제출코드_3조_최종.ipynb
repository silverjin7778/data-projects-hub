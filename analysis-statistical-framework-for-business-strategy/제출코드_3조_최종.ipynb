{
 "cells": [
  {
   "cell_type": "code",
   "execution_count": 2,
   "id": "a3758f56-53a7-4e59-9bc4-a590f8d9aa6d",
   "metadata": {
    "id": "a3758f56-53a7-4e59-9bc4-a590f8d9aa6d"
   },
   "outputs": [],
   "source": [
    "import os\n",
    "import pandas as pd\n",
    "import numpy as np\n",
    "import seaborn as sns\n",
    "import matplotlib.pyplot as plt\n",
    "import warnings\n",
    "warnings.filterwarnings('ignore')\n",
    "\n",
    "plt.rcParams['font.family']='NanumBarunGothic'\n",
    "plt.rcParams['axes.unicode_minus'] = False\n",
    "pd.set_option('display.max_columns', None)"
   ]
  },
  {
   "cell_type": "markdown",
   "id": "b11b49e5-0b41-4711-8837-c02a9f417ebb",
   "metadata": {
    "id": "b11b49e5-0b41-4711-8837-c02a9f417ebb",
    "jp-MarkdownHeadingCollapsed": true
   },
   "source": [
    "# 데이터 불러오기, 병합 및 변경내용\n",
    "- 컬럼 제거 : 데이터셋 log&service 겹치는 컬럼 제거\n",
    "- 컬럼명 변경 : service에 있는 평점은 해당 서비스의 평균 평점이므로 평균평점으로 컬럼명을 바꾸고 조인함\n",
    "- 컬럼 추가 : `판매금액`*`수수료`-> `L사매출` , `사용기기`-> `사용기기_제조사`, `사용OS`-> `운영체제`\n",
    "- 안 써도 될 만한 컬럼 : '사용기기', '사용OS', '판매자ID'(판매자도 유니크한 의미를 가져서)"
   ]
  },
  {
   "cell_type": "code",
   "execution_count": 3,
   "id": "fbe8cfac-c121-4e34-84a8-ce1968e66d99",
   "metadata": {
    "id": "fbe8cfac-c121-4e34-84a8-ce1968e66d99"
   },
   "outputs": [],
   "source": [
    "import os\n",
    "import pandas as pd\n",
    "import numpy as np\n",
    "import seaborn as sns\n",
    "import matplotlib.pyplot as plt\n",
    "plt.rcParams['font.family']='Malgun Gothic'\n",
    "plt.rcParams['axes.unicode_minus'] = False\n",
    "pd.set_option('display.max_columns', None)\n",
    "\n",
    "li = ['Customer_data.csv', 'Expert_Data.csv','Log_Data02.csv', 'Service_Data.csv']\n",
    "customer = pd.read_csv(li[0])\n",
    "expert = pd.read_csv(li[1])\n",
    "log = pd.read_csv(li[2])\n",
    "service = pd.read_csv(li[3], encoding='cp949')\n",
    "log['L사매출'] = log['판매금액']*log['수수료율']\n",
    "\n",
    "service.columns = ['서비스명', '판매자', '서비스가격', '평균평점', '대분류', '서비스번호', '누적판매수']\n",
    "service = service[['평균평점','서비스번호', '누적판매수']]\n",
    "\n",
    "l_s = pd.merge(log, service, how='left', on='서비스번호')\n",
    "l_s_e = pd.merge(l_s, expert, how='left', on='판매자')\n",
    "df = pd.merge(l_s_e, customer, how='left', on='고객ID')\n",
    "\n",
    "\n",
    "df.columns= ['거래일자', '수수료율', '고객ID', '프로그램수정횟수', '추가결제금액', '거래취소여부', '거래취소일자',\n",
    "       '서비스명', '판매자', '판매금액', '서비스가격', '평점', '이용자수', '대분류', '서비스번호', 'L사매출',\n",
    "       '평균평점', '누적판매수', '판매자ID', '판매_서비스_수', '총_판매_금액', '프리미엄_서비스_가입여부',\n",
    "       '신속_알람_서비스_사용여부', '사용기기', '사용OS', '유입경로', '회원상태', '거주지', '연령', '성별',\n",
    "       '서비스총구매수', '총구매금액', '총수정요청수', '총추가결제금액']"
   ]
  },
  {
   "cell_type": "code",
   "execution_count": 4,
   "id": "a10caaea-2f51-4ab4-a6d3-be99a590e778",
   "metadata": {
    "id": "a10caaea-2f51-4ab4-a6d3-be99a590e778"
   },
   "outputs": [],
   "source": [
    "org_df = df.copy()"
   ]
  },
  {
   "cell_type": "code",
   "execution_count": 5,
   "id": "ec050a46-5da6-49bb-b2b5-e60ed0024951",
   "metadata": {
    "id": "ec050a46-5da6-49bb-b2b5-e60ed0024951"
   },
   "outputs": [],
   "source": [
    "df = org_df.copy()"
   ]
  },
  {
   "cell_type": "markdown",
   "id": "9d9857f1-506a-40ab-a5b5-87217ecb04e1",
   "metadata": {
    "id": "9d9857f1-506a-40ab-a5b5-87217ecb04e1"
   },
   "source": [
    "# 데이터 전처리"
   ]
  },
  {
   "cell_type": "markdown",
   "id": "6de5122f-42bd-40a2-beeb-f403dea158a0",
   "metadata": {
    "id": "6de5122f-42bd-40a2-beeb-f403dea158a0",
    "jp-MarkdownHeadingCollapsed": true
   },
   "source": [
    "## 결측치 처리\n",
    "- 인스턴스 제거 : \"서비스명\",\"판매자\",\"판매금액\",\"서비스가격\",\"평점\",\"이용자수\",\"대분류\",\"서비스번호\",\"L사매출\",\"평균평점\",\"누적판매수\",\"판매_서비스_수\"</br>\n",
    ",\"총_판매_금액\",\"프리미엄_서비스_가입여부\",\"신속_알람_서비스_사용여부\",\"총구매금액\", \"연령\", \"성별\", \"유입경로\"\n",
    "</br>이유 : 서비스명, 판매자, 서비스번호 등 결측치를 채울 수 있는 중요 요소들이 결측치 임으로\n",
    "\n",
    "- 조건 인스턴스 제거 : 프로그램수정횟수가 float\n",
    "\n",
    "- 결측치대체 : 거래취소여부 fillna(0)\n",
    "- 컬럼 유지 : 거래취소일자 : 거래취소여부는 결측치 0으로 채우고 거래취소일자는 제거(결측치율도 높고, 살릴 수 있을 것 같지 않아서)"
   ]
  },
  {
   "cell_type": "code",
   "execution_count": 6,
   "id": "14151a83-590c-4df9-82cb-301c72b7a141",
   "metadata": {
    "colab": {
     "base_uri": "https://localhost:8080/"
    },
    "id": "14151a83-590c-4df9-82cb-301c72b7a141",
    "outputId": "1d87584b-a956-4b06-955f-5364f723640e",
    "scrolled": true
   },
   "outputs": [
    {
     "name": "stdout",
     "output_type": "stream",
     "text": [
      "float64\t거래취소여부     개수:339702    \t결측치율 : 98.66%\n",
      "float64\t거래취소일자     개수:339702    \t결측치율 : 98.66%\n",
      "object\t서비스명       개수:22        \t결측치율 : 0.01%\n",
      "object\t판매자        개수:22        \t결측치율 : 0.01%\n",
      "float64\t판매금액       개수:21        \t결측치율 : 0.01%\n",
      "float64\t서비스가격      개수:22        \t결측치율 : 0.01%\n",
      "float64\t평점         개수:22        \t결측치율 : 0.01%\n",
      "float64\t이용자수       개수:22        \t결측치율 : 0.01%\n",
      "object\t대분류        개수:22        \t결측치율 : 0.01%\n",
      "float64\t서비스번호      개수:22        \t결측치율 : 0.01%\n",
      "float64\tL사매출       개수:21        \t결측치율 : 0.01%\n",
      "float64\t평균평점       개수:22        \t결측치율 : 0.01%\n",
      "float64\t누적판매수      개수:22        \t결측치율 : 0.01%\n",
      "object\t판매자ID      개수:22        \t결측치율 : 0.01%\n",
      "float64\t판매_서비스_수   개수:22        \t결측치율 : 0.01%\n",
      "float64\t총_판매_금액    개수:22        \t결측치율 : 0.01%\n",
      "object\t프리미엄_서비스_가입여부 개수:22        \t결측치율 : 0.01%\n",
      "object\t신속_알람_서비스_사용여부 개수:22        \t결측치율 : 0.01%\n",
      "object\t유입경로       개수:3840      \t결측치율 : 1.12%\n",
      "float64\t연령         개수:4702      \t결측치율 : 1.37%\n",
      "object\t성별         개수:25637     \t결측치율 : 7.45%\n",
      "float64\t총구매금액      개수:5         \t결측치율 : 0.00%\n"
     ]
    }
   ],
   "source": [
    "for col in df.columns:\n",
    "    if df[col].isna().sum() !=0 :\n",
    "        print('{}\\t{:<10} 개수:{:<10}\\t결측치율 : {:.2f}%'.format(df[col].dtypes,col,df[col].isna().sum(),df[col].isna().sum()/df.shape[0]*100))"
   ]
  },
  {
   "cell_type": "code",
   "execution_count": 7,
   "id": "569a5dd8-ab1d-46e3-8fd0-5f28f1150a76",
   "metadata": {
    "colab": {
     "base_uri": "https://localhost:8080/",
     "height": 0
    },
    "id": "569a5dd8-ab1d-46e3-8fd0-5f28f1150a76",
    "outputId": "bb4bedd7-7d47-4ede-e0ba-d36e917aa7d8",
    "scrolled": true
   },
   "outputs": [
    {
     "data": {
      "image/png": "[encoded data removed]",
      "text/plain": [
       "<Figure size 640x480 with 1 Axes>"
      ]
     },
     "metadata": {},
     "output_type": "display_data"
    }
   ],
   "source": [
    "df2 = df[['거래취소일자','거래취소여부']].copy()\n",
    "df2 = df2.dropna()\n",
    "df2['거래취소일자'] = pd.to_datetime(df['거래취소일자'], format='%Y%m%d')\n",
    "df2.groupby('거래취소일자')['거래취소여부'].sum().plot(kind='line')\n",
    "plt.show()"
   ]
  },
  {
   "cell_type": "code",
   "execution_count": 8,
   "id": "5282ac15-6773-4d3a-b6f0-17b89825dd46",
   "metadata": {
    "colab": {
     "base_uri": "https://localhost:8080/"
    },
    "id": "5282ac15-6773-4d3a-b6f0-17b89825dd46",
    "outputId": "edadd9bc-213b-40b4-9796-b3dd629c97b9"
   },
   "outputs": [
    {
     "data": {
      "text/plain": [
       "(310730, 32)"
      ]
     },
     "execution_count": 8,
     "metadata": {},
     "output_type": "execute_result"
    }
   ],
   "source": [
    "# 인스턴스 제거\n",
    "col = [\"서비스명\",\"판매자\",\"판매금액\",\"서비스가격\",\"평점\",\"이용자수\",\"대분류\",\"서비스번호\",\"L사매출\",\"평균평점\",\"누적판매수\",\"판매_서비스_수\",\"총_판매_금액\",\"프리미엄_서비스_가입여부\"\n",
    "       ,\"신속_알람_서비스_사용여부\",\"총구매금액\",'연령','성별','유입경로']\n",
    "\n",
    "df = df.dropna(subset = col, axis=0)\n",
    "\n",
    "# 결측치 대체\n",
    "df['거래취소여부'] = df['거래취소여부'].fillna(0)\n",
    "df = df.reset_index(drop=True)\n",
    "\n",
    "# 컬럼 제거\n",
    "df = df.drop(columns=['거래취소일자', '평점'],axis=1)\n",
    "# 평점은 중복되어 평균평점 남김\n",
    "\n",
    "# 조건 인스턴스 제거\n",
    "cond = (0 < df['프로그램수정횟수'] * 10) & (df['프로그램수정횟수'] * 10 < 10)\n",
    "idx = df.loc[cond,:].index\n",
    "df = df.drop(index=idx).reset_index(drop=True)\n",
    "df.shape"
   ]
  },
  {
   "cell_type": "code",
   "execution_count": 9,
   "id": "124c5f9d-aadb-49ad-8ae6-9977ffe1075c",
   "metadata": {
    "id": "124c5f9d-aadb-49ad-8ae6-9977ffe1075c"
   },
   "outputs": [],
   "source": [
    "for col in df.columns:\n",
    "    if df[col].isna().sum() !=0 :\n",
    "        print('{}\\t{:<10} 개수:{:<10}\\t결측치율 : {:.2f}%'.format(df[col].dtypes,col,df[col].isna().sum(),df[col].isna().sum()/df.shape[0]*100))"
   ]
  },
  {
   "cell_type": "markdown",
   "id": "af92dda9-0f5f-4fa8-8ead-dbf2c4a31e88",
   "metadata": {
    "id": "af92dda9-0f5f-4fa8-8ead-dbf2c4a31e88",
    "jp-MarkdownHeadingCollapsed": true
   },
   "source": [
    "## 파생 변수 생성"
   ]
  },
  {
   "cell_type": "code",
   "execution_count": 10,
   "id": "03450de5-5cb2-4efa-b7ca-fb2fef109426",
   "metadata": {
    "id": "03450de5-5cb2-4efa-b7ca-fb2fef109426"
   },
   "outputs": [],
   "source": [
    "# 삼성, LG, 애플 기기 모델 정의\n",
    "삼성 = {'SM', 'SHV', 'SHW', 'SC', 'IM', 'GT'}\n",
    "엘지 = {'LG', 'LGM', 'LM'}\n",
    "애플 = {'iPhone', 'iPad'}\n",
    "\n",
    "# 브랜드 매칭 함수 정의\n",
    "def get_brand(device_name):\n",
    "    if any(model in device_name for model in 삼성):\n",
    "        return 'SAMSUNG'\n",
    "    elif any(model in device_name for model in 엘지):\n",
    "        return 'LG'\n",
    "    elif any(model in device_name for model in 애플):\n",
    "        return 'APPLE'\n",
    "    else:\n",
    "        return 'ETC'\n",
    "\n",
    "df['사용기기_제조사']= df['사용기기'].astype(str).apply(get_brand)\n",
    "df = df.drop(columns=['사용기기'], axis=1)\n",
    "# 연령대는 이상치 처리후\n",
    "# df['연령대'] = df['연령']//10*10\n",
    "df['L사매출'] = (df['판매금액']+ df['추가결제금액']*2)*df['수수료율'].astype(float)*0.01\n",
    "df['판매금액_5만원'] = ['5만원 초과 지불 고객' if x > 50000 else '5만원 이하 지불 고객' for x in df['판매금액']]\n",
    "df['판매금액_20만원'] = ['20만원 이상 지불 고객' if x >= 200000 else '20만원 미만 지불 고객' for x in df['판매금액']]\n",
    "df['거래일자']=pd.to_datetime(df['거래일자'].astype(str), format='%Y%m%d')\n",
    "\n",
    "df['요일'] = df['거래일자'].dt.day_name()\n",
    "\n",
    "요일 = {\n",
    "    'Monday': '월',\n",
    "    'Tuesday': '화',\n",
    "    'Wednesday': '수',\n",
    "    'Thursday': '목',\n",
    "    'Friday': '금',\n",
    "    'Saturday': '토',\n",
    "    'Sunday': '일'\n",
    "}\n",
    "df['요일'] = df['거래일자'].dt.day_name().map(요일)\n",
    "\n",
    "clm = '평균평점'\n",
    "col_name = clm+'_구간화'\n",
    "df[col_name]= pd.cut(df['평균평점'],\n",
    "                   bins=[-0.99, 0.0, 0.5, 1.0, 1.5, 2.0, 2.5, 3.0, 3.5, 4.0, 4.5, 5.0]\n",
    "                   , labels=['리뷰없음', \"0.0초과 0.5이하\", \"0.5초과 1.0이하\", \"1.0초과 1.5이하\", \"1.5초과 2.0이하\",\n",
    "                                \"2.0초과 2.5이하\", \"2.5초과 3.0이하\", \"3.0초과 3.5이하\", \"3.5초과 4.0이하\",\n",
    "                                \"4.0초과 4.5이하\", \"4.5초과 5.0이하\"], right=True)\n",
    "\n",
    "# 운영체제\n",
    "df['운영체제'] = ['iOS' if i.startswith('iOS') else i[:7] for i in df['사용OS']]\n",
    "\n",
    "# 일회다회\n",
    "df_주문수 = df.groupby('고객ID').agg(주문수=('고객ID', 'size')).reset_index()\n",
    "df_주문수['일회다회'] = df_주문수['주문수'].apply(lambda x: '일회' if x == 1 else '다회')\n",
    "df = pd.merge(df, df_주문수, how='left', on='고객ID')\n",
    "\n",
    "\n",
    "df = df[df.columns.drop(['사용OS', '판매자ID'])]"
   ]
  },
  {
   "cell_type": "code",
   "execution_count": 11,
   "id": "f97e9185-7fa8-4761-abd4-29147283d94c",
   "metadata": {
    "colab": {
     "base_uri": "https://localhost:8080/"
    },
    "id": "f97e9185-7fa8-4761-abd4-29147283d94c",
    "outputId": "76becfcb-262d-4c63-fb94-38c80947d0d2"
   },
   "outputs": [
    {
     "data": {
      "text/plain": [
       "(310730, 37)"
      ]
     },
     "execution_count": 11,
     "metadata": {},
     "output_type": "execute_result"
    }
   ],
   "source": [
    "df.shape"
   ]
  },
  {
   "cell_type": "markdown",
   "id": "e28262f5-73fa-4b1c-9b35-0cb168b61189",
   "metadata": {
    "id": "e28262f5-73fa-4b1c-9b35-0cb168b61189",
    "jp-MarkdownHeadingCollapsed": true
   },
   "source": [
    "## 이상치 처리"
   ]
  },
  {
   "cell_type": "code",
   "execution_count": 12,
   "id": "ee6c0169-6b73-4b7b-83ac-4b85764f9898",
   "metadata": {
    "colab": {
     "base_uri": "https://localhost:8080/",
     "height": 819
    },
    "id": "ee6c0169-6b73-4b7b-83ac-4b85764f9898",
    "outputId": "25b7beec-eaad-440f-d5aa-1965e2e6bb01",
    "scrolled": true
   },
   "outputs": [
    {
     "data": {
      "image/png": "[encoded data removed]",
      "text/plain": [
       "<Figure size 800x200 with 1 Axes>"
      ]
     },
     "metadata": {},
     "output_type": "display_data"
    }
   ],
   "source": [
    "import matplotlib.pyplot as plt\n",
    "import seaborn as sns\n",
    "\n",
    "plt.figure(figsize=(8, 2))\n",
    "\n",
    "sns.scatterplot(x=df['총수정요청수'], y=[0] * len(df), color='black', alpha=0.7)\n",
    "plt.title('총수정요청수 값의 분포')\n",
    "plt.yticks([])  # Y축 눈금 제거\n",
    "plt.ylabel('')  # Y축 레이블만 표시\n",
    "plt.axvline(x=120, color='red', linestyle='--', linewidth=0.5)\n",
    "plt.axvline(x=0, color='red', linestyle='--', linewidth=0.5)\n",
    "plt.show()"
   ]
  },
  {
   "cell_type": "code",
   "execution_count": 13,
   "id": "00bfef32-a5ef-4155-ba98-b5cb76fe4e0f",
   "metadata": {
    "colab": {
     "base_uri": "https://localhost:8080/",
     "height": 819
    },
    "id": "00bfef32-a5ef-4155-ba98-b5cb76fe4e0f",
    "outputId": "c18b1a8f-2316-4347-d158-d190cfab653d",
    "scrolled": true
   },
   "outputs": [
    {
     "data": {
      "image/png": "[encoded data removed]",
      "text/plain": [
       "<Figure size 800x200 with 1 Axes>"
      ]
     },
     "metadata": {},
     "output_type": "display_data"
    }
   ],
   "source": [
    "import matplotlib.pyplot as plt\n",
    "import seaborn as sns\n",
    "\n",
    "plt.figure(figsize=(8, 2))\n",
    "\n",
    "sns.scatterplot(x=df['프로그램수정횟수'], y=[0] * len(df), color='black', alpha=0.7)\n",
    "plt.title('프로그램수정횟수 값의 분포')\n",
    "plt.yticks([])  # Y축 눈금 제거\n",
    "plt.ylabel('')  # Y축 레이블만 표시\n",
    "plt.axvline(x=120, color='red', linestyle='--', linewidth=0.5)\n",
    "plt.axvline(x=0, color='red', linestyle='--', linewidth=0.5)\n",
    "plt.show()"
   ]
  },
  {
   "cell_type": "code",
   "execution_count": 14,
   "id": "c52cae10-7ab3-4f3c-94a7-926abcc451c0",
   "metadata": {
    "colab": {
     "base_uri": "https://localhost:8080/",
     "height": 997
    },
    "id": "c52cae10-7ab3-4f3c-94a7-926abcc451c0",
    "outputId": "af77e9fe-12e3-49e0-bc82-50bc5f65705c"
   },
   "outputs": [
    {
     "data": {
      "image/png": "[encoded data removed]",
      "text/plain": [
       "<Figure size 600x500 with 1 Axes>"
      ]
     },
     "metadata": {},
     "output_type": "display_data"
    }
   ],
   "source": [
    "import seaborn as sns\n",
    "import matplotlib.pyplot as plt\n",
    "\n",
    "plt.figure(figsize=(6, 5))\n",
    "sns.boxplot(data=org_df, y='연령', width=0.4, color='#A3D5C9', fliersize=5, linewidth=2)\n",
    "plt.title('연령 분포', fontsize=16)\n",
    "plt.ylabel('연령', fontsize=12)\n",
    "plt.grid(axis='y', linestyle='--', alpha=0.5)\n",
    "plt.tight_layout()\n",
    "plt.show()"
   ]
  },
  {
   "cell_type": "code",
   "execution_count": 15,
   "id": "68c0f3b5-7344-43f2-a656-c431210632fb",
   "metadata": {
    "colab": {
     "base_uri": "https://localhost:8080/"
    },
    "id": "68c0f3b5-7344-43f2-a656-c431210632fb",
    "outputId": "43aedf32-bfeb-4c40-8807-ca88023256c8"
   },
   "outputs": [
    {
     "data": {
      "text/plain": [
       "(310432, 38)"
      ]
     },
     "execution_count": 15,
     "metadata": {},
     "output_type": "execute_result"
    }
   ],
   "source": [
    "# 1. **`총수정요청수` 이상치 처리**\n",
    "# - 이상치 종류: **음수값, 소수점값, 120으로 매우 큰 값**\n",
    "# - 음수값: 전체 4% -> 프로그램수정횟수로부터 처리 후, 다시\n",
    "# - **120번 수정한 고객 1명 존재**  : 119번 수정한 로그 삭제(고객ID: 50706003129, log 내역 9건)\n",
    "\n",
    "cond1 = df['고객ID'] == 50706003129\n",
    "cond2 = df['프로그램수정횟수'] > 100\n",
    "df.loc[df['고객ID'] == 50706003129,'총수정요청수'] -= 119\n",
    "df = df.drop(index=df[cond1&cond2].index).reset_index(drop=True)\n",
    "\n",
    "# 2. **`프로그램수정횟수` 이상치 처리**\n",
    "# - 음수 값 0.02% : 거래 중 취소라는 컬럼으로 추가\n",
    "# 프로그램수정횟수가 음수인 것은 0으로, 거래취소여부도 1로\n",
    "\n",
    "df['거래취소여부'] = np.where(df['프로그램수정횟수'] < 0, 1, df['거래취소여부'])\n",
    "df['프로그램수정횟수'] = np.where(df['프로그램수정횟수'] < 0, 0, df['프로그램수정횟수'])\n",
    "\n",
    "# 수정된 프로그램수정횟수 기반 총수정요청수 재집계\n",
    "df2 = pd.DataFrame(df.groupby('고객ID')['프로그램수정횟수'].sum()).reset_index()\n",
    "df2.columns = ['고객ID','new_총수정요청수']\n",
    "df = pd.merge(df,df2, how='left', on='고객ID').drop(columns='총수정요청수')\n",
    "# 음수인 프로그램수정횟수를 제거하니, 총수정요청수도 -인 값이 사라졌으므로 이상치 처리 완료\n",
    "\n",
    "# 연령이 0, 85는 이상치로 처리하고 인스턴스 제거\n",
    "cond1 = df['연령']==0\n",
    "cond2 = df['연령']==85\n",
    "df = df.drop(index = df[cond1|cond2].index).reset_index(drop=True)\n",
    "df['연령대'] = df['연령']//10*10\n",
    "\n",
    "# 프로그램수정횟수 소수점이면 인스턴스 제거\n",
    "cond3 = np.modf(df['프로그램수정횟수'])[0] != 0\n",
    "df = df.drop(index = df[cond3].index).reset_index(drop=True)\n",
    "\n",
    "\n",
    "df.shape"
   ]
  },
  {
   "cell_type": "code",
   "execution_count": 16,
   "id": "03f7fc95-d81a-44e6-8ae2-a4f4078152d8",
   "metadata": {
    "colab": {
     "base_uri": "https://localhost:8080/",
     "height": 1000
    },
    "id": "03f7fc95-d81a-44e6-8ae2-a4f4078152d8",
    "outputId": "ecddfb37-ef6a-48bf-be2b-470e5f152235"
   },
   "outputs": [
    {
     "data": {
      "image/png": "[encoded data removed]",
      "text/plain": [
       "<Figure size 600x500 with 1 Axes>"
      ]
     },
     "metadata": {},
     "output_type": "display_data"
    }
   ],
   "source": [
    "import seaborn as sns\n",
    "import matplotlib.pyplot as plt\n",
    "\n",
    "plt.figure(figsize=(6, 5))\n",
    "sns.boxplot(data=df, y='연령', width=0.4, color='#C4F0C5', fliersize=5, linewidth=2)\n",
    "plt.title('연령 분포', fontsize=16)\n",
    "plt.ylabel('연령', fontsize=12)\n",
    "plt.grid(axis='y', linestyle='--', alpha=0.5)\n",
    "plt.tight_layout()\n",
    "plt.show()"
   ]
  },
  {
   "cell_type": "code",
   "execution_count": 17,
   "id": "c1e852ac-d52f-4afa-bf8e-cffac50418f9",
   "metadata": {
    "colab": {
     "base_uri": "https://localhost:8080/",
     "height": 819
    },
    "id": "c1e852ac-d52f-4afa-bf8e-cffac50418f9",
    "outputId": "ccd13b4f-610b-40fb-997b-701c18d94e45",
    "scrolled": true
   },
   "outputs": [
    {
     "data": {
      "image/png": "[encoded data removed]",
      "text/plain": [
       "<Figure size 800x200 with 1 Axes>"
      ]
     },
     "metadata": {},
     "output_type": "display_data"
    }
   ],
   "source": [
    "import matplotlib.pyplot as plt\n",
    "import seaborn as sns\n",
    "\n",
    "plt.figure(figsize=(8, 2))\n",
    "\n",
    "sns.scatterplot(x=df['new_총수정요청수'], y=[0] * len(df), color='black', alpha=0.7)\n",
    "plt.title('총수정요청수 값의 분포')\n",
    "plt.yticks([])  # Y축 눈금 제거\n",
    "plt.ylabel('')  # Y축 레이블만 표시\n",
    "plt.axvline(x=120, color='red', linestyle='--', linewidth=0.5)\n",
    "plt.axvline(x=0, color='red', linestyle='--', linewidth=0.5)\n",
    "plt.show()"
   ]
  },
  {
   "cell_type": "code",
   "execution_count": 18,
   "id": "2a07d0c7-6aed-464e-b50f-171ffb502667",
   "metadata": {
    "colab": {
     "base_uri": "https://localhost:8080/"
    },
    "id": "2a07d0c7-6aed-464e-b50f-171ffb502667",
    "outputId": "217dcb92-0291-4e4f-f0f6-d92f6c157863"
   },
   "outputs": [
    {
     "data": {
      "image/png": "[encoded data removed]",
      "text/plain": [
       "<Figure size 800x200 with 1 Axes>"
      ]
     },
     "metadata": {},
     "output_type": "display_data"
    }
   ],
   "source": [
    "import matplotlib.pyplot as plt\n",
    "import seaborn as sns\n",
    "\n",
    "plt.figure(figsize=(8, 2))\n",
    "\n",
    "sns.scatterplot(x=df['프로그램수정횟수'], y=[0] * len(df), color='black', alpha=0.7)\n",
    "plt.title('프로그램수정횟수 값의 분포')\n",
    "plt.yticks([])  # Y축 눈금 제거\n",
    "plt.ylabel('')  # Y축 레이블만 표시\n",
    "plt.axvline(x=120, color='red', linestyle='--', linewidth=0.5)\n",
    "plt.axvline(x=0, color='red', linestyle='--', linewidth=0.5)\n",
    "plt.show()"
   ]
  },
  {
   "cell_type": "code",
   "execution_count": 19,
   "id": "OBvwejLY21H4",
   "metadata": {
    "id": "OBvwejLY21H4"
   },
   "outputs": [
    {
     "name": "stdout",
     "output_type": "stream",
     "text": [
      "프로그램수정횟수\n",
      "이상치처리전 표준편차: 0.7222540796322208 이상치처리후 : 0.6730477681581584\n",
      "이상치처리전 최솟값: -1.0 이상치처리후 : 0.0\n",
      "이상치처리전: 119.0 이상치처리후 : 44.0\n",
      "총수정요청수\n",
      "이상치처리전 표준편차: 4.572756321723036 이상치처리후 : 4.661575290338457\n",
      "이상치처리전 최솟값: -6.0 이상치처리후 : 0.0\n",
      "이상치처리전: 120.0 이상치처리후 : 46.0\n"
     ]
    }
   ],
   "source": [
    "print('프로그램수정횟수')\n",
    "print(f'이상치처리전 표준편차: {org_df['프로그램수정횟수'].std()} 이상치처리후 : {df['프로그램수정횟수'].std()}')\n",
    "print(f'이상치처리전 최솟값: {org_df['프로그램수정횟수'].min()} 이상치처리후 : {df['프로그램수정횟수'].min()}')\n",
    "print(f'이상치처리전: {org_df['프로그램수정횟수'].max()} 이상치처리후 : {df['프로그램수정횟수'].max()}')\n",
    "print('총수정요청수')\n",
    "print(f'이상치처리전 표준편차: {org_df['총수정요청수'].std()} 이상치처리후 : {df['new_총수정요청수'].std()}')\n",
    "print(f'이상치처리전 최솟값: {org_df['총수정요청수'].min()} 이상치처리후 : {df['new_총수정요청수'].min()}')\n",
    "print(f'이상치처리전: {org_df['총수정요청수'].max()} 이상치처리후 : {df['new_총수정요청수'].max()}')"
   ]
  },
  {
   "cell_type": "code",
   "execution_count": 20,
   "id": "81f4f81f-4ea2-42d0-8686-903bfdeb3418",
   "metadata": {
    "id": "81f4f81f-4ea2-42d0-8686-903bfdeb3418"
   },
   "outputs": [
    {
     "data": {
      "text/plain": [
       "(-0.09836508383701376, 310432)"
      ]
     },
     "execution_count": 20,
     "metadata": {},
     "output_type": "execute_result"
    }
   ],
   "source": [
    "(df.shape[0]-org_df.shape[0])/org_df.shape[0], df.shape[0]"
   ]
  },
  {
   "cell_type": "markdown",
   "id": "b838e97e-4929-4685-9a6e-7901d0cba9a2",
   "metadata": {
    "id": "b838e97e-4929-4685-9a6e-7901d0cba9a2",
    "jp-MarkdownHeadingCollapsed": true
   },
   "source": [
    "### 피처 스케일링"
   ]
  },
  {
   "cell_type": "code",
   "execution_count": 21,
   "id": "e55a3ae3-b5af-4466-8b4b-64e910b77ac2",
   "metadata": {
    "id": "e55a3ae3-b5af-4466-8b4b-64e910b77ac2"
   },
   "outputs": [
    {
     "data": {
      "text/plain": [
       "Index(['수수료율', '고객ID', '프로그램수정횟수', '추가결제금액', '거래취소여부', '판매금액', '서비스가격', '이용자수',\n",
       "       '서비스번호', 'L사매출', '평균평점', '누적판매수', '판매_서비스_수', '총_판매_금액', '연령',\n",
       "       '서비스총구매수', '총구매금액', '총추가결제금액', '주문수', 'new_총수정요청수', '연령대'],\n",
       "      dtype='object')"
      ]
     },
     "execution_count": 21,
     "metadata": {},
     "output_type": "execute_result"
    }
   ],
   "source": [
    "df.select_dtypes(np.number).columns"
   ]
  },
  {
   "cell_type": "code",
   "execution_count": 22,
   "id": "d3e43fe2-ebe9-4b1f-921b-36233c2a6304",
   "metadata": {
    "id": "d3e43fe2-ebe9-4b1f-921b-36233c2a6304"
   },
   "outputs": [
    {
     "name": "stdout",
     "output_type": "stream",
     "text": [
      "추가결제금액  :  28.51855336543331\n",
      "판매금액  :  49.91123305077136\n",
      "서비스가격  :  49.49193045165476\n",
      "L사매출  :  45.6375968292966\n",
      "총_판매_금액  :  0.9742555777604288\n",
      "총구매금액  :  8.15598401943166\n",
      "총추가결제금액  :  3.857555416886824\n",
      "------------------------------\n",
      "프로그램수정횟수  :  11.135072516068293\n",
      "이용자수  :  3.3837004256692347\n",
      "누적판매수  :  1.8812124304023918\n",
      "판매_서비스_수  :  1.6708587460704798\n",
      "연령  :  1.2076116954449212\n",
      "서비스총구매수  :  3.0729149935915636\n",
      "new_총수정요청수  :  4.435335639298347\n"
     ]
    }
   ],
   "source": [
    "clm_scale_money = [\n",
    "         '추가결제금액'\n",
    "        , '판매금액'\n",
    "        , '서비스가격'\n",
    "        , 'L사매출'\n",
    "        ,  '총_판매_금액'\n",
    "        , '총구매금액'\n",
    "        , '총추가결제금액'\n",
    "          ]\n",
    "\n",
    "clm_scale_etc = [\n",
    "       '프로그램수정횟수',\n",
    "       '이용자수', '누적판매수'\n",
    "         , '판매_서비스_수',\n",
    "       '연령', '서비스총구매수', 'new_총수정요청수'\n",
    "        ]\n",
    "\n",
    "for col in clm_scale_money:\n",
    "    #df[col]=df[col].apply(lambda x: np.sqrt(x) if x > 0 else np.nan).fillna(0)\n",
    "    print(col,' : ',df[col].skew())\n",
    "print('-'*30)\n",
    "for col in clm_scale_etc:\n",
    "    #df[col]=df[col].apply(lambda x: np.sqrt(x) if x > 0 else np.nan).fillna(0)\n",
    "    print(col,' : ',df[col].skew())"
   ]
  },
  {
   "cell_type": "code",
   "execution_count": 23,
   "id": "c1a26717-41f9-4b4d-bb6a-a17f929461cc",
   "metadata": {
    "id": "c1a26717-41f9-4b4d-bb6a-a17f929461cc",
    "scrolled": true
   },
   "outputs": [
    {
     "name": "stdout",
     "output_type": "stream",
     "text": [
      "추가결제금액  :  0.09387207635936924\n",
      "판매금액  :  -2.999896923090413\n",
      "서비스가격  :  0.7374212823911226\n",
      "L사매출  :  -1.850154291126684\n",
      "총구매금액  :  -1.8010881923038897\n",
      "총추가결제금액  :  -0.5595544212652075\n",
      "------------------------------\n",
      "프로그램수정횟수  :  2.753048706850016\n",
      "이용자수  :  1.600448346688007\n",
      "서비스총구매수  :  1.8806286621370716\n",
      "new_총수정요청수  :  1.8770981519586245\n"
     ]
    }
   ],
   "source": [
    "for col in clm_scale_money:\n",
    "    if df[col].skew()>3.0:\n",
    "        df[col]=df[col].apply(lambda x: np.log(x) if x > 0 else np.nan).fillna(0)\n",
    "        print(col,' : ',df[col].skew())\n",
    "print('-'*30)\n",
    "for col in clm_scale_etc:\n",
    "    if df[col].skew()>3.0:\n",
    "        df[col]=df[col].apply(lambda x: np.sqrt(x) if x > 0 else np.nan).fillna(0)\n",
    "        print(col,' : ',df[col].skew())"
   ]
  },
  {
   "cell_type": "markdown",
   "id": "99779f4d-1799-4781-814a-6b01591c4d16",
   "metadata": {
    "id": "99779f4d-1799-4781-814a-6b01591c4d16",
    "jp-MarkdownHeadingCollapsed": true
   },
   "source": [
    "## 데이터 타입 변경"
   ]
  },
  {
   "cell_type": "code",
   "execution_count": 24,
   "id": "07db2317-6e31-4e1c-9908-ccfc6946f949",
   "metadata": {
    "id": "07db2317-6e31-4e1c-9908-ccfc6946f949"
   },
   "outputs": [],
   "source": [
    "df['거래일자'] = pd.to_datetime(df['거래일자'])\n",
    "df['수수료율'] = pd.Categorical(df['수수료율'], categories=[6.5, 7.5, 9.0], ordered=True)\n",
    "#df['거래취소여부'] =  pd.Categorical(df['거래취소여부'])\n",
    "df['대분류'] =  pd.Categorical(df['대분류'])\n",
    "df['프리미엄_서비스_가입여부'] =  pd.Categorical(df['프리미엄_서비스_가입여부'])\n",
    "df['신속_알람_서비스_사용여부'] =  pd.Categorical(df['신속_알람_서비스_사용여부'])\n",
    "df['유입경로'] =  pd.Categorical(df['유입경로'])\n",
    "df['회원상태'] =  pd.Categorical(df['회원상태'])\n",
    "df['거주지'] =  pd.Categorical(df['거주지'])\n",
    "df['성별'] =  pd.Categorical(df['성별'])\n",
    "df['사용기기_제조사'] =  pd.Categorical(df['사용기기_제조사'])\n",
    "df['운영체제'] =  pd.Categorical(df['운영체제'])\n",
    "df['일회다회'] =  pd.Categorical(df['일회다회'])\n",
    "df['판매금액_5만원'] = pd.Categorical(df['판매금액_5만원'])\n",
    "df['판매금액_20만원'] = pd.Categorical(df['판매금액_20만원'])\n",
    "df['고객ID'] = df['고객ID'].astype('object')\n",
    "df['서비스번호'] = df['서비스번호'].astype('object')"
   ]
  },
  {
   "cell_type": "markdown",
   "id": "cd47c117-e985-4164-8bd3-4b43a956d1fe",
   "metadata": {
    "id": "cd47c117-e985-4164-8bd3-4b43a956d1fe",
    "jp-MarkdownHeadingCollapsed": true
   },
   "source": [
    "# EDA"
   ]
  },
  {
   "cell_type": "code",
   "execution_count": 25,
   "id": "004ed8da-2b96-4d2a-b315-f4995dfad6f3",
   "metadata": {
    "id": "004ed8da-2b96-4d2a-b315-f4995dfad6f3",
    "scrolled": true
   },
   "outputs": [
    {
     "data": {
      "image/png": "[encoded data removed]",
      "text/plain": [
       "<Figure size 640x480 with 1 Axes>"
      ]
     },
     "metadata": {},
     "output_type": "display_data"
    }
   ],
   "source": [
    "df2 = df.copy()\n",
    "transaction_cancellation_rate = df2.groupby('일회다회')['거래취소여부'].mean()\n",
    "# '다회'를 먼저, '일회'를 두 번째로 바꾸기 위해 인덱스를 반대로 변경\n",
    "transaction_cancellation_rate = transaction_cancellation_rate[::-1]\n",
    "# 막대그래프 그리기\n",
    "transaction_cancellation_rate.plot(kind='bar', color=[ '#A3D5C9','lightgrey'])\n",
    "plt.title('일회다회 구매고객별 거래취소율', fontsize=18)\n",
    "plt.xticks(rotation=0, fontsize=20)\n",
    "plt.xlabel('구매 유형', fontsize=14)\n",
    "plt.xticks(ticks=[0, 1], labels=['일회', '다회'], fontsize=14)\n",
    "plt.show()"
   ]
  },
  {
   "cell_type": "code",
   "execution_count": 26,
   "id": "4fe7987b-6d2d-4021-9258-46adeb8d8e4a",
   "metadata": {
    "id": "4fe7987b-6d2d-4021-9258-46adeb8d8e4a"
   },
   "outputs": [
    {
     "data": {
      "image/png": "[encoded data removed]",
      "text/plain": [
       "<Figure size 640x480 with 1 Axes>"
      ]
     },
     "metadata": {},
     "output_type": "display_data"
    }
   ],
   "source": [
    "df.groupby('일회다회')['평균평점'].mean().plot(kind='barh', color=['lightgrey','#5EC7AC'])\n",
    "plt.title('일회다회 구매고객별 거래취소율', fontsize=18)\n",
    "plt.xticks(rotation=0, fontsize=20)\n",
    "plt.xlabel('')\n",
    "plt.ylabel('')\n",
    "plt.xticks([])\n",
    "plt.show()"
   ]
  },
  {
   "cell_type": "code",
   "execution_count": 27,
   "id": "3698535b-4bb8-44c0-9c53-6614b11f3915",
   "metadata": {
    "id": "3698535b-4bb8-44c0-9c53-6614b11f3915"
   },
   "outputs": [
    {
     "name": "stdout",
     "output_type": "stream",
     "text": [
      "일회다회\n",
      "5.937948895601655 2.889152664332777e-09\n",
      "------------------------------\n"
     ]
    }
   ],
   "source": [
    "from scipy.stats import ttest_ind\n",
    "\n",
    "col='일회다회'\n",
    "\n",
    "cond1 = df[col]== np.unique(df[col])[0]\n",
    "cond2 = df[col]==np.unique(df[col])[1]\n",
    "\n",
    "g1 = df.loc[cond1,'평균평점']\n",
    "g2 = df.loc[cond2,'평균평점']\n",
    "\n",
    "# 분산이 같다. -> 분산이 같을 때, 평균을 봄\n",
    "t_value, p_value = ttest_ind(g1, g2)\n",
    "t_value, p_value\n",
    "\n",
    "# 분산을 보려면 ?\n",
    "t_value, p_value = ttest_ind(g1, g2, equal_var=True)\n",
    "print(col)\n",
    "print(t_value, p_value)\n",
    "print('-'*30)"
   ]
  },
  {
   "cell_type": "code",
   "execution_count": 28,
   "id": "a08868a8-b332-4a7a-ba63-5087446f4b2b",
   "metadata": {
    "id": "a08868a8-b332-4a7a-ba63-5087446f4b2b"
   },
   "outputs": [
    {
     "data": {
      "image/png": "[encoded data removed]",
      "text/plain": [
       "<Figure size 640x480 with 1 Axes>"
      ]
     },
     "metadata": {},
     "output_type": "display_data"
    }
   ],
   "source": [
    "import matplotlib.pyplot as plt\n",
    "\n",
    "mean_values = df.groupby('평균평점_구간화', observed=True)['거래취소여부'].mean()\n",
    "\n",
    "max_idx = mean_values.idxmax()\n",
    "\n",
    "colors = ['#5EC7AC' if idx == max_idx else 'lightgrey' for idx in mean_values.index]\n",
    "\n",
    "mean_values.plot(kind='bar', color=colors)\n",
    "plt.title('평점별 거래취소율', fontsize=18)\n",
    "plt.xticks(rotation=45, fontsize=10)\n",
    "plt.xlabel('')\n",
    "plt.ylabel('거래취소율')\n",
    "plt.show()"
   ]
  },
  {
   "cell_type": "code",
   "execution_count": 29,
   "id": "b79c7deb-7b02-43b9-85cc-61cb4187eb57",
   "metadata": {
    "id": "b79c7deb-7b02-43b9-85cc-61cb4187eb57"
   },
   "outputs": [
    {
     "data": {
      "image/png": "[encoded data removed]",
      "text/plain": [
       "<Figure size 640x480 with 1 Axes>"
      ]
     },
     "metadata": {},
     "output_type": "display_data"
    }
   ],
   "source": [
    "import matplotlib.pyplot as plt\n",
    "\n",
    "mean_values = df.groupby('요일', observed=True)['거래취소여부'].mean()\n",
    "\n",
    "max_idx = mean_values.idxmax()\n",
    "\n",
    "colors = ['#5EC7AC' if idx == max_idx else 'lightgrey' for idx in mean_values.index]\n",
    "\n",
    "mean_values.plot(kind='bar', color=colors)\n",
    "plt.title('요일별 거래취소율', fontsize=18)\n",
    "plt.xticks(rotation=45, fontsize=10)\n",
    "plt.xlabel('')\n",
    "plt.ylabel('거래취소율')\n",
    "plt.show()"
   ]
  },
  {
   "cell_type": "markdown",
   "id": "5d88529c-fe70-4a2a-a3aa-cd342f426319",
   "metadata": {
    "id": "5d88529c-fe70-4a2a-a3aa-cd342f426319"
   },
   "source": [
    "**가설: 연령구간에 따른 매출 차이가 있을 것이다.**\n",
    "-> 결론: 20대,30대,40대 매출의 중앙값은 거의 동일하게 가장 높다"
   ]
  },
  {
   "cell_type": "code",
   "execution_count": 30,
   "id": "7d7587a3-c66a-419f-aa46-c92c5a8418ec",
   "metadata": {
    "id": "7d7587a3-c66a-419f-aa46-c92c5a8418ec"
   },
   "outputs": [
    {
     "data": {
      "text/html": [
       "<div>\n",
       "<style scoped>\n",
       "    .dataframe tbody tr th:only-of-type {\n",
       "        vertical-align: middle;\n",
       "    }\n",
       "\n",
       "    .dataframe tbody tr th {\n",
       "        vertical-align: top;\n",
       "    }\n",
       "\n",
       "    .dataframe thead th {\n",
       "        text-align: right;\n",
       "    }\n",
       "</style>\n",
       "<table border=\"1\" class=\"dataframe\">\n",
       "  <thead>\n",
       "    <tr style=\"text-align: right;\">\n",
       "      <th></th>\n",
       "      <th>count</th>\n",
       "      <th>mean</th>\n",
       "      <th>std</th>\n",
       "      <th>min</th>\n",
       "      <th>25%</th>\n",
       "      <th>50%</th>\n",
       "      <th>75%</th>\n",
       "      <th>max</th>\n",
       "    </tr>\n",
       "    <tr>\n",
       "      <th>연령대</th>\n",
       "      <th></th>\n",
       "      <th></th>\n",
       "      <th></th>\n",
       "      <th></th>\n",
       "      <th></th>\n",
       "      <th></th>\n",
       "      <th></th>\n",
       "      <th></th>\n",
       "    </tr>\n",
       "  </thead>\n",
       "  <tbody>\n",
       "    <tr>\n",
       "      <th>10.0</th>\n",
       "      <td>6141.0</td>\n",
       "      <td>7.540368</td>\n",
       "      <td>1.593929</td>\n",
       "      <td>0.000000</td>\n",
       "      <td>6.715383</td>\n",
       "      <td>7.724005</td>\n",
       "      <td>8.348183</td>\n",
       "      <td>13.172524</td>\n",
       "    </tr>\n",
       "    <tr>\n",
       "      <th>20.0</th>\n",
       "      <td>207774.0</td>\n",
       "      <td>7.558304</td>\n",
       "      <td>1.546033</td>\n",
       "      <td>0.000000</td>\n",
       "      <td>6.791783</td>\n",
       "      <td>7.729735</td>\n",
       "      <td>8.332068</td>\n",
       "      <td>14.771119</td>\n",
       "    </tr>\n",
       "    <tr>\n",
       "      <th>30.0</th>\n",
       "      <td>77891.0</td>\n",
       "      <td>7.571334</td>\n",
       "      <td>1.530059</td>\n",
       "      <td>0.000000</td>\n",
       "      <td>6.782192</td>\n",
       "      <td>7.729735</td>\n",
       "      <td>8.350312</td>\n",
       "      <td>14.866332</td>\n",
       "    </tr>\n",
       "    <tr>\n",
       "      <th>40.0</th>\n",
       "      <td>17496.0</td>\n",
       "      <td>7.583674</td>\n",
       "      <td>1.533196</td>\n",
       "      <td>0.000000</td>\n",
       "      <td>6.821980</td>\n",
       "      <td>7.729735</td>\n",
       "      <td>8.353409</td>\n",
       "      <td>13.527828</td>\n",
       "    </tr>\n",
       "    <tr>\n",
       "      <th>50.0</th>\n",
       "      <td>1083.0</td>\n",
       "      <td>7.568477</td>\n",
       "      <td>1.588141</td>\n",
       "      <td>0.000000</td>\n",
       "      <td>6.744645</td>\n",
       "      <td>7.729735</td>\n",
       "      <td>8.411833</td>\n",
       "      <td>13.101283</td>\n",
       "    </tr>\n",
       "    <tr>\n",
       "      <th>60.0</th>\n",
       "      <td>47.0</td>\n",
       "      <td>7.752099</td>\n",
       "      <td>1.065021</td>\n",
       "      <td>5.783825</td>\n",
       "      <td>6.976368</td>\n",
       "      <td>7.729735</td>\n",
       "      <td>8.240447</td>\n",
       "      <td>10.992681</td>\n",
       "    </tr>\n",
       "  </tbody>\n",
       "</table>\n",
       "</div>"
      ],
      "text/plain": [
       "         count      mean       std       min       25%       50%       75%  \\\n",
       "연령대                                                                          \n",
       "10.0    6141.0  7.540368  1.593929  0.000000  6.715383  7.724005  8.348183   \n",
       "20.0  207774.0  7.558304  1.546033  0.000000  6.791783  7.729735  8.332068   \n",
       "30.0   77891.0  7.571334  1.530059  0.000000  6.782192  7.729735  8.350312   \n",
       "40.0   17496.0  7.583674  1.533196  0.000000  6.821980  7.729735  8.353409   \n",
       "50.0    1083.0  7.568477  1.588141  0.000000  6.744645  7.729735  8.411833   \n",
       "60.0      47.0  7.752099  1.065021  5.783825  6.976368  7.729735  8.240447   \n",
       "\n",
       "            max  \n",
       "연령대              \n",
       "10.0  13.172524  \n",
       "20.0  14.771119  \n",
       "30.0  14.866332  \n",
       "40.0  13.527828  \n",
       "50.0  13.101283  \n",
       "60.0  10.992681  "
      ]
     },
     "execution_count": 30,
     "metadata": {},
     "output_type": "execute_result"
    }
   ],
   "source": [
    "df.groupby('연령대')['L사매출'].describe() # L사매출은 로그화된 값"
   ]
  },
  {
   "cell_type": "code",
   "execution_count": 31,
   "id": "060c13db-d710-43bf-8016-c21fd7cb9081",
   "metadata": {
    "id": "060c13db-d710-43bf-8016-c21fd7cb9081"
   },
   "outputs": [
    {
     "data": {
      "image/png": "[encoded data removed]",
      "text/plain": [
       "<Figure size 1500x1000 with 1 Axes>"
      ]
     },
     "metadata": {},
     "output_type": "display_data"
    }
   ],
   "source": [
    "import seaborn as sns\n",
    "import matplotlib.ticker as mticker\n",
    "\n",
    "plt.figure(figsize=(15,10))\n",
    "ax=sns.boxplot(hue='연령대',y='L사매출',data=df)\n",
    "\n",
    "#y축 포맷을 천 단위 콤마(,)가 포함된 숫자로 변경\n",
    "ax.yaxis.set_major_formatter(mticker.FuncFormatter(lambda x, _: f'{int(x):,}'))\n",
    "\n",
    "plt.xlabel('연령대')\n",
    "plt.ylabel('L사매출')\n",
    "plt.show()"
   ]
  },
  {
   "cell_type": "markdown",
   "id": "2daee75a-618c-4408-bebe-4d4da6debf2b",
   "metadata": {
    "id": "2daee75a-618c-4408-bebe-4d4da6debf2b"
   },
   "source": [
    "**가설 2: 유입경로에 따라 매출 차이가 있을 것이다.**\n",
    "- 검색 광고, 직접 검색, SNS(유튜브, 인스타그램 등) 등 유입경로별 매출 차이 분석\n",
    "- 특정 유입경로가 높은 구매율과 연결되는지 확인"
   ]
  },
  {
   "cell_type": "code",
   "execution_count": 32,
   "id": "97affa5f-daee-411b-9b6b-44db22f8ce53",
   "metadata": {
    "id": "97affa5f-daee-411b-9b6b-44db22f8ce53"
   },
   "outputs": [
    {
     "data": {
      "image/png": "[encoded data removed]",
      "text/plain": [
       "<Figure size 1000x600 with 1 Axes>"
      ]
     },
     "metadata": {},
     "output_type": "display_data"
    }
   ],
   "source": [
    "#시각화\n",
    "import seaborn as sns\n",
    "import matplotlib.pyplot as plt\n",
    "\n",
    "plt.figure(figsize=(10, 6))\n",
    "ax=sns.boxplot(x='유입경로', y='L사매출', data=df)\n",
    "plt.title('유입경로별 총 판매 금액 분포')\n",
    "plt.xticks(rotation=45)\n",
    "\n",
    "# y축 포맷을 천 단위 콤마(,)가 포함된 숫자로 변경\n",
    "ax.yaxis.set_major_formatter(mticker.FuncFormatter(lambda x, _: f'{int(x):,}'))\n",
    "plt.show()"
   ]
  },
  {
   "cell_type": "markdown",
   "id": "affd09cd-8030-495b-8f5b-8bcf7006e39d",
   "metadata": {
    "id": "affd09cd-8030-495b-8f5b-8bcf7006e39d"
   },
   "source": [
    "**평점(연속)과 평점(구간)별 L사매출 시각화**"
   ]
  },
  {
   "cell_type": "code",
   "execution_count": 33,
   "id": "d943da9e-fc99-42e1-a698-b0fc5715dcc0",
   "metadata": {
    "id": "d943da9e-fc99-42e1-a698-b0fc5715dcc0",
    "scrolled": true
   },
   "outputs": [
    {
     "data": {
      "image/png": "[encoded data removed]",
      "text/plain": [
       "<Figure size 800x600 with 1 Axes>"
      ]
     },
     "metadata": {},
     "output_type": "display_data"
    }
   ],
   "source": [
    "import seaborn as sns\n",
    "import matplotlib.pyplot as plt\n",
    "\n",
    "plt.figure(figsize=(8, 6))\n",
    "sns.barplot(x='평균평점_구간화', y='L사매출', data=df, palette='Blues_d')\n",
    "\n",
    "plt.title('평점별 L사매출 평균', fontsize=14)\n",
    "plt.xlabel('평균평점구간', fontsize=12)\n",
    "plt.xticks(rotation=45)\n",
    "plt.ylabel('L사매출 평균', fontsize=12)\n",
    "\n",
    "plt.show()"
   ]
  },
  {
   "cell_type": "markdown",
   "id": "9aeac042-c879-4801-8445-fe6ba0178de9",
   "metadata": {
    "id": "9aeac042-c879-4801-8445-fe6ba0178de9"
   },
   "source": [
    "**수수료별 신속알림 가입 여부 시각화**\n",
    "-> 모든 수수료에서 신속알림 서비스를 사용하는 사람이 더 많다, 특히 6.5 구간은 더 많음 - > 6.5 구간에 사람이 몰려서 그런 듯?"
   ]
  },
  {
   "cell_type": "code",
   "execution_count": 34,
   "id": "4a5cc7a5-00ae-42d9-973a-7a90252d9631",
   "metadata": {
    "id": "4a5cc7a5-00ae-42d9-973a-7a90252d9631"
   },
   "outputs": [
    {
     "data": {
      "image/png": "[encoded data removed]",
      "text/plain": [
       "<Figure size 1600x800 with 2 Axes>"
      ]
     },
     "metadata": {},
     "output_type": "display_data"
    }
   ],
   "source": [
    "import matplotlib.pyplot as plt\n",
    "import seaborn as sns\n",
    "\n",
    "fig, ax = plt.subplots(1, 2, figsize=(16, 8))  # 1행 2열 그래프\n",
    "\n",
    "조건 = df['신속_알람_서비스_사용여부'] == '미사용'\n",
    "df_알람사용 = df[조건].groupby('수수료율')['고객ID'].count().reset_index()\n",
    "\n",
    "# 첫 번째 그래프 (미사용)\n",
    "sns.barplot(x='수수료율', y='고객ID', data=df_알람사용, palette='Blues_r', ax=ax[0])\n",
    "ax[0].set_title('수수료율별 신속 알람 서비스 미사용자 수', fontsize=14)\n",
    "ax[0].set_xlabel('수수료율', fontsize=12)\n",
    "ax[0].set_ylabel('신속 알람 서비스 미사용 횟수', fontsize=12)\n",
    "ax[0].tick_params(axis='x', rotation=45)\n",
    "\n",
    "조건 = df['신속_알람_서비스_사용여부'] == '사용'\n",
    "df_알람사용 = df[조건].groupby('수수료율')['고객ID'].count().reset_index()\n",
    "\n",
    "# 두 번째 그래프 (사용)\n",
    "sns.barplot(x='수수료율', y='고객ID', data=df_알람사용, palette='Blues_r', ax=ax[1])\n",
    "ax[1].set_title('수수료율별 신속 알람 서비스 사용자 수', fontsize=14)\n",
    "ax[1].set_xlabel('수수료율', fontsize=12)\n",
    "ax[1].set_ylabel('신속 알람 서비스 사용 횟수', fontsize=12)\n",
    "ax[1].tick_params(axis='x', rotation=45)\n",
    "\n",
    "plt.tight_layout()  # 그래프 간격 조정\n",
    "plt.show()"
   ]
  },
  {
   "cell_type": "markdown",
   "id": "3e3f3673-8c42-4337-a8e5-035e2099cb46",
   "metadata": {
    "id": "3e3f3673-8c42-4337-a8e5-035e2099cb46"
   },
   "source": [
    "**연령대별 추가결제금액** -> 20대는 수입이 적어서 돈 쓰는 것이 적을 것"
   ]
  },
  {
   "cell_type": "code",
   "execution_count": 35,
   "id": "7c4eaf98-c3e0-4714-960b-a7822630733d",
   "metadata": {
    "id": "7c4eaf98-c3e0-4714-960b-a7822630733d"
   },
   "outputs": [
    {
     "data": {
      "image/png": "[encoded data removed]",
      "text/plain": [
       "<Figure size 1000x600 with 1 Axes>"
      ]
     },
     "metadata": {},
     "output_type": "display_data"
    }
   ],
   "source": [
    "import seaborn as sns\n",
    "import matplotlib.pyplot as plt\n",
    "result = df.groupby('연령대')['추가결제금액'].mean().reset_index()\n",
    "\n",
    "plt.figure(figsize=(10, 6))\n",
    "sns.barplot(x='연령대', y='추가결제금액', data=result, palette='viridis')\n",
    "\n",
    "plt.title('연령대별 추가결제금액 평균', fontsize=16)\n",
    "plt.xlabel('연령대', fontsize=12)\n",
    "plt.ylabel('추가결제금액 평균', fontsize=12)\n",
    "plt.xticks(rotation=45)\n",
    "\n",
    "plt.show()"
   ]
  },
  {
   "cell_type": "code",
   "execution_count": 36,
   "id": "b10c8930-8106-4275-b36d-8fcae918b154",
   "metadata": {
    "id": "b10c8930-8106-4275-b36d-8fcae918b154"
   },
   "outputs": [
    {
     "data": {
      "image/png": "[encoded data removed]",
      "text/plain": [
       "<Figure size 800x600 with 1 Axes>"
      ]
     },
     "metadata": {},
     "output_type": "display_data"
    }
   ],
   "source": [
    "#연령구간과 수수료율을 기준으로 분포\n",
    "# 교차표 생성\n",
    "crosstab = pd.crosstab(df['연령대'], df['수수료율'])\n",
    "# 히트맵 시각화\n",
    "plt.figure(figsize=(8, 6))\n",
    "sns.heatmap(crosstab, annot=True, fmt='d', cmap='Blues', cbar=False)\n",
    "plt.title('연령구간과 수수료율 분포')\n",
    "plt.show()"
   ]
  },
  {
   "cell_type": "markdown",
   "id": "4f415bf6-ce35-4b62-90bc-97f341f53036",
   "metadata": {
    "id": "4f415bf6-ce35-4b62-90bc-97f341f53036",
    "jp-MarkdownHeadingCollapsed": true
   },
   "source": [
    "# 데이터분석 접근과 인사이트 도출"
   ]
  },
  {
   "cell_type": "code",
   "execution_count": 37,
   "id": "dflBCLfp3Cgq",
   "metadata": {
    "id": "dflBCLfp3Cgq"
   },
   "outputs": [
    {
     "name": "stdout",
     "output_type": "stream",
     "text": [
      "거래취소여부와 유의한 범주형 변수만을 출력합니다.\n",
      "일회다회과 카이제곱통계량 : 447.2418002733479, 유의확률 :0.00, 자유도: 1\n",
      "------------------------------\n",
      "거주지과 카이제곱통계량 : 16.960877494154175, 유의확률 :0.01, 자유도: 6\n",
      "------------------------------\n",
      "대분류과 카이제곱통계량 : 278.4606376726579, 유의확률 :0.00, 자유도: 11\n",
      "------------------------------\n",
      "사용기기_제조사과 카이제곱통계량 : 11.304016337869555, 유의확률 :0.01, 자유도: 3\n",
      "------------------------------\n",
      "요일과 카이제곱통계량 : 73.79746361099683, 유의확률 :0.00, 자유도: 6\n",
      "------------------------------\n",
      "운영체제과 카이제곱통계량 : 9.040406124481095, 유의확률 :0.00, 자유도: 1\n",
      "------------------------------\n",
      "평균평점_구간화과 카이제곱통계량 : 48.39699588289052, 유의확률 :0.00, 자유도: 7\n",
      "------------------------------\n"
     ]
    }
   ],
   "source": [
    "from scipy.stats import chi2_contingency\n",
    "c = '거래취소여부'\n",
    "print('거래취소여부와 유의한 범주형 변수만을 출력합니다.')\n",
    "for col in ['일회다회','거주지', '대분류', '사용기기_제조사', '성별', '수수료율', '신속_알람_서비스_사용여부', '요일', '운영체제', '유입경로','평균평점_구간화', '프리미엄_서비스_가입여부', '회원상태']:\n",
    "    obs = pd.crosstab(df[c], df[col])\n",
    "    chi2_stat, p_value, dof, expected = chi2_contingency(obs)\n",
    "    if p_value<0.05:\n",
    "        print(f'{col}과 카이제곱통계량 : {chi2_stat}, 유의확률 :{p_value:.2f}, 자유도: {dof}')\n",
    "        print('-'*30)"
   ]
  },
  {
   "cell_type": "markdown",
   "id": "66dbf4a6-8e55-4b78-b1b9-6651f08125bb",
   "metadata": {
    "id": "66dbf4a6-8e55-4b78-b1b9-6651f08125bb"
   },
   "source": [
    "- 일회고객 거래취소율이 다회고객의 거래취소율보다 유의미하게 높은 것을 확인"
   ]
  },
  {
   "cell_type": "code",
   "execution_count": 38,
   "id": "98d52846-28b0-438e-8e06-aaa5bfbc3253",
   "metadata": {
    "id": "98d52846-28b0-438e-8e06-aaa5bfbc3253"
   },
   "outputs": [
    {
     "data": {
      "text/plain": [
       "일회다회\n",
       "다회   0.020\n",
       "일회   0.034\n",
       "Name: 거래취소여부, dtype: float64"
      ]
     },
     "execution_count": 38,
     "metadata": {},
     "output_type": "execute_result"
    }
   ],
   "source": [
    "import pandas as pd\n",
    "\n",
    "# 모든 float 값을 소수점 셋째 자리까지 표시\n",
    "pd.options.display.float_format = '{:.3f}'.format\n",
    "\n",
    "df.groupby('일회다회')['거래취소여부'].mean()"
   ]
  },
  {
   "cell_type": "code",
   "execution_count": 39,
   "id": "d7gwzPn_oeI7",
   "metadata": {
    "id": "d7gwzPn_oeI7"
   },
   "outputs": [
    {
     "name": "stdout",
     "output_type": "stream",
     "text": [
      "거래취소여부\n",
      "카이제곱통계량 : 447.2418002733479, 유의확률 :0.00, 자유도: 1\n",
      "------------------------------\n"
     ]
    }
   ],
   "source": [
    "from scipy.stats import chi2_contingency\n",
    "\n",
    "c = '거래취소여부'\n",
    "obs = pd.crosstab(df2['일회다회'], df2[c])\n",
    "chi2_stat, p_value, dof, expected = chi2_contingency(obs)\n",
    "print(c)\n",
    "print(f'카이제곱통계량 : {chi2_stat}, 유의확률 :{p_value:.2f}, 자유도: {dof}')\n",
    "print('-'*30)"
   ]
  },
  {
   "cell_type": "markdown",
   "id": "912f3b27-59b6-4499-bea3-c9526d306a05",
   "metadata": {
    "id": "912f3b27-59b6-4499-bea3-c9526d306a05"
   },
   "source": [
    "- 일회, 다회고객의 평균 평점은 유의미한 차이가 있음을 확인"
   ]
  },
  {
   "cell_type": "code",
   "execution_count": 40,
   "id": "4780121b-f01f-44c5-8a7f-66823fbe2afe",
   "metadata": {
    "id": "4780121b-f01f-44c5-8a7f-66823fbe2afe"
   },
   "outputs": [
    {
     "data": {
      "text/plain": [
       "일회다회\n",
       "다회   4.837\n",
       "일회   4.815\n",
       "Name: 평균평점, dtype: float64"
      ]
     },
     "execution_count": 40,
     "metadata": {},
     "output_type": "execute_result"
    }
   ],
   "source": [
    "df.groupby('일회다회')['평균평점'].mean()"
   ]
  },
  {
   "cell_type": "code",
   "execution_count": 41,
   "id": "9155e63e-4de5-46d5-8304-74fa6f2ae80f",
   "metadata": {
    "id": "9155e63e-4de5-46d5-8304-74fa6f2ae80f"
   },
   "outputs": [
    {
     "name": "stdout",
     "output_type": "stream",
     "text": [
      "일회다회\n",
      "5.937948895601655 2.889152664332777e-09\n"
     ]
    }
   ],
   "source": [
    "from scipy.stats import ttest_ind\n",
    "\n",
    "col = '일회다회'\n",
    "cond1 = df[col]== np.unique(df[col])[0]\n",
    "cond2 = df[col]==np.unique(df[col])[1]\n",
    "\n",
    "g1 = df.loc[cond1,'평균평점']\n",
    "g2 = df.loc[cond2,'평균평점']\n",
    "\n",
    "t_value, p_value = ttest_ind(g1, g2, equal_var=True)\n",
    "print(col)\n",
    "print(t_value, p_value)"
   ]
  },
  {
   "cell_type": "markdown",
   "id": "5971483e-853a-42a1-a6ed-0bc9b5994a0b",
   "metadata": {
    "id": "5971483e-853a-42a1-a6ed-0bc9b5994a0b"
   },
   "source": [
    "- 평점을 남기는 것에 총수정요청수에 따른 차이가 있음을 확인"
   ]
  },
  {
   "cell_type": "code",
   "execution_count": 42,
   "id": "939f292a-f8cd-4e15-9bea-1309b67fbf91",
   "metadata": {
    "id": "939f292a-f8cd-4e15-9bea-1309b67fbf91",
    "scrolled": true
   },
   "outputs": [
    {
     "data": {
      "text/plain": [
       "평균평점_구간화\n",
       "리뷰없음          0.718\n",
       "0.0초과 0.5이하     NaN\n",
       "0.5초과 1.0이하   0.592\n",
       "1.0초과 1.5이하     NaN\n",
       "1.5초과 2.0이하     NaN\n",
       "2.0초과 2.5이하   0.250\n",
       "2.5초과 3.0이하   0.771\n",
       "3.0초과 3.5이하   0.746\n",
       "3.5초과 4.0이하   0.751\n",
       "4.0초과 4.5이하   0.742\n",
       "4.5초과 5.0이하   0.770\n",
       "Name: new_총수정요청수, dtype: float64"
      ]
     },
     "execution_count": 42,
     "metadata": {},
     "output_type": "execute_result"
    }
   ],
   "source": [
    "df.groupby('평균평점_구간화')['new_총수정요청수'].mean()"
   ]
  },
  {
   "cell_type": "code",
   "execution_count": 43,
   "id": "c0b126eb-f14c-4e24-8d6d-6907d4b67e0c",
   "metadata": {
    "id": "c0b126eb-f14c-4e24-8d6d-6907d4b67e0c"
   },
   "outputs": [
    {
     "name": "stdout",
     "output_type": "stream",
     "text": [
      "평균평점_구간화\n",
      "F_onewayResult(statistic=2.94342277118241, pvalue=0.004403628515415354)\n",
      "------------------------------\n"
     ]
    }
   ],
   "source": [
    "from scipy.stats import f_oneway\n",
    "\n",
    "col_name = '평균평점_구간화'\n",
    "\n",
    "g1 = df[df[col_name] == '리뷰없음']['new_총수정요청수']\n",
    "g2 = df[df[col_name] == '0.5초과 1.0이하']['new_총수정요청수']\n",
    "g3 = df[df[col_name] == '2.0초과 2.5이하']['new_총수정요청수']\n",
    "g4 = df[df[col_name] == '2.5초과 3.0이하']['new_총수정요청수']\n",
    "g5 = df[df[col_name] == '3.0초과 3.5이하']['new_총수정요청수']\n",
    "\n",
    "g6 = df[df[col_name] == '3.5초과 4.0이하']['new_총수정요청수']\n",
    "g7 = df[df[col_name] == '4.0초과 4.5이하']['new_총수정요청수']\n",
    "g8 = df[df[col_name] == '4.5초과 5.0이하']['new_총수정요청수']\n",
    "\n",
    "print(col_name)\n",
    "print(f_oneway(g1, g2, g3,g4,g5,g6,g7,g8))\n",
    "print('-'*30)"
   ]
  },
  {
   "cell_type": "markdown",
   "id": "653df4cd-204c-43b4-abf4-d00f2a41f5cd",
   "metadata": {
    "id": "653df4cd-204c-43b4-abf4-d00f2a41f5cd"
   },
   "source": [
    "- 거래취소율과 구간평점이 유의미한 차이가 있음을 확인"
   ]
  },
  {
   "cell_type": "code",
   "execution_count": 44,
   "id": "e3ab1574-033b-44b5-aaf1-ae0d57dcaef7",
   "metadata": {
    "id": "e3ab1574-033b-44b5-aaf1-ae0d57dcaef7"
   },
   "outputs": [
    {
     "data": {
      "text/plain": [
       "평균평점_구간화\n",
       "리뷰없음          0.031\n",
       "0.0초과 0.5이하     NaN\n",
       "0.5초과 1.0이하   0.000\n",
       "1.0초과 1.5이하     NaN\n",
       "1.5초과 2.0이하     NaN\n",
       "2.0초과 2.5이하   0.000\n",
       "2.5초과 3.0이하   0.076\n",
       "3.0초과 3.5이하   0.050\n",
       "3.5초과 4.0이하   0.013\n",
       "4.0초과 4.5이하   0.025\n",
       "4.5초과 5.0이하   0.022\n",
       "Name: 거래취소여부, dtype: float64"
      ]
     },
     "execution_count": 44,
     "metadata": {},
     "output_type": "execute_result"
    }
   ],
   "source": [
    "df.groupby('평균평점_구간화')['거래취소여부'].mean()"
   ]
  },
  {
   "cell_type": "code",
   "execution_count": 45,
   "id": "7512edfa-b141-4c43-8f24-aaa64fc8af24",
   "metadata": {
    "id": "7512edfa-b141-4c43-8f24-aaa64fc8af24"
   },
   "outputs": [
    {
     "name": "stdout",
     "output_type": "stream",
     "text": [
      "거래취소여부\n",
      "카이제곱통계량 : 48.396995882890515, 유의확률 :0.00, 자유도: 7\n",
      "------------------------------\n"
     ]
    }
   ],
   "source": [
    "from scipy.stats import chi2_contingency\n",
    "\n",
    "c = '거래취소여부'\n",
    "obs = pd.crosstab(df2['평균평점_구간화'], df2[c])\n",
    "chi2_stat, p_value, dof, expected = chi2_contingency(obs)\n",
    "print(c)\n",
    "print(f'카이제곱통계량 : {chi2_stat}, 유의확률 :{p_value:.2f}, 자유도: {dof}')\n",
    "print('-'*30)"
   ]
  },
  {
   "cell_type": "code",
   "execution_count": 46,
   "id": "ef92600b-6033-454b-adc4-ea3d3b12e3b7",
   "metadata": {
    "id": "ef92600b-6033-454b-adc4-ea3d3b12e3b7",
    "scrolled": true
   },
   "outputs": [
    {
     "data": {
      "text/plain": [
       "판매금액_5만원\n",
       "5만원 이하 지불 고객   0.030\n",
       "5만원 초과 지불 고객   0.000\n",
       "Name: 거래취소여부, dtype: float64"
      ]
     },
     "execution_count": 46,
     "metadata": {},
     "output_type": "execute_result"
    }
   ],
   "source": [
    "df.groupby('판매금액_5만원')['거래취소여부'].mean()"
   ]
  },
  {
   "cell_type": "code",
   "execution_count": 47,
   "id": "174bc44c-733c-475a-8be0-2a924ac2d661",
   "metadata": {
    "id": "174bc44c-733c-475a-8be0-2a924ac2d661"
   },
   "outputs": [
    {
     "name": "stdout",
     "output_type": "stream",
     "text": [
      "판매금액_5만원\n",
      "카이제곱통계량 : 2302.306440547997, 유의확률 :0.00, 자유도: 1\n",
      "------------------------------\n"
     ]
    }
   ],
   "source": [
    "from scipy.stats import chi2_contingency\n",
    "\n",
    "c = '판매금액_5만원'\n",
    "obs = pd.crosstab(df2['거래취소여부'], df2[c])\n",
    "chi2_stat, p_value, dof, expected = chi2_contingency(obs)\n",
    "print(c)\n",
    "print(f'카이제곱통계량 : {chi2_stat}, 유의확률 :{p_value:.2f}, 자유도: {dof}')\n",
    "print('-'*30)"
   ]
  },
  {
   "cell_type": "markdown",
   "id": "d67c2290-98ab-4f2a-9caa-84a15a067c62",
   "metadata": {
    "id": "d67c2290-98ab-4f2a-9caa-84a15a067c62"
   },
   "source": [
    "- 거래취소여부에 따른 프로그램 수정 횟수의 유의미한 차이가 있음을 확인"
   ]
  },
  {
   "cell_type": "code",
   "execution_count": 48,
   "id": "1984bac3-c1bf-4bb4-ae1c-1e5a04bc9af9",
   "metadata": {
    "id": "1984bac3-c1bf-4bb4-ae1c-1e5a04bc9af9"
   },
   "outputs": [
    {
     "data": {
      "text/plain": [
       "거래취소여부\n",
       "0.000   0.161\n",
       "1.000   0.000\n",
       "Name: 프로그램수정횟수, dtype: float64"
      ]
     },
     "execution_count": 48,
     "metadata": {},
     "output_type": "execute_result"
    }
   ],
   "source": [
    "df.groupby('거래취소여부')['프로그램수정횟수'].mean()"
   ]
  },
  {
   "cell_type": "code",
   "execution_count": 49,
   "id": "fd82a57f-b56a-41a4-ab58-17bd414c3a50",
   "metadata": {
    "id": "fd82a57f-b56a-41a4-ab58-17bd414c3a50"
   },
   "outputs": [
    {
     "name": "stdout",
     "output_type": "stream",
     "text": [
      "거래취소여부\n",
      "32.13245917537521 3.6635201144627586e-226\n"
     ]
    }
   ],
   "source": [
    "from scipy.stats import ttest_ind\n",
    "\n",
    "col = '거래취소여부'\n",
    "cond1 = df[col]== np.unique(df[col])[0]\n",
    "cond2 = df[col]==np.unique(df[col])[1]\n",
    "\n",
    "g1 = df.loc[cond1,'프로그램수정횟수']\n",
    "g2 = df.loc[cond2,'프로그램수정횟수']\n",
    "\n",
    "t_value, p_value = ttest_ind(g1, g2, equal_var=True)\n",
    "print(col)\n",
    "print(t_value, p_value)"
   ]
  },
  {
   "cell_type": "markdown",
   "id": "a439509d-321f-4f87-b282-bd56fcbe537a",
   "metadata": {
    "id": "a439509d-321f-4f87-b282-bd56fcbe537a"
   },
   "source": [
    "- 요일에 따라 판매량 차이가 있음을 확인"
   ]
  },
  {
   "cell_type": "code",
   "execution_count": 50,
   "id": "4246a232-798d-4e76-8507-64807218b8f0",
   "metadata": {
    "id": "4246a232-798d-4e76-8507-64807218b8f0"
   },
   "outputs": [
    {
     "data": {
      "text/html": [
       "<div>\n",
       "<style scoped>\n",
       "    .dataframe tbody tr th:only-of-type {\n",
       "        vertical-align: middle;\n",
       "    }\n",
       "\n",
       "    .dataframe tbody tr th {\n",
       "        vertical-align: top;\n",
       "    }\n",
       "\n",
       "    .dataframe thead th {\n",
       "        text-align: right;\n",
       "    }\n",
       "</style>\n",
       "<table border=\"1\" class=\"dataframe\">\n",
       "  <thead>\n",
       "    <tr style=\"text-align: right;\">\n",
       "      <th></th>\n",
       "      <th>요일</th>\n",
       "      <th>거래건수</th>\n",
       "    </tr>\n",
       "  </thead>\n",
       "  <tbody>\n",
       "    <tr>\n",
       "      <th>0</th>\n",
       "      <td>금</td>\n",
       "      <td>23373</td>\n",
       "    </tr>\n",
       "    <tr>\n",
       "      <th>1</th>\n",
       "      <td>목</td>\n",
       "      <td>41398</td>\n",
       "    </tr>\n",
       "    <tr>\n",
       "      <th>2</th>\n",
       "      <td>수</td>\n",
       "      <td>46777</td>\n",
       "    </tr>\n",
       "    <tr>\n",
       "      <th>3</th>\n",
       "      <td>월</td>\n",
       "      <td>46160</td>\n",
       "    </tr>\n",
       "    <tr>\n",
       "      <th>4</th>\n",
       "      <td>일</td>\n",
       "      <td>46167</td>\n",
       "    </tr>\n",
       "    <tr>\n",
       "      <th>5</th>\n",
       "      <td>토</td>\n",
       "      <td>56794</td>\n",
       "    </tr>\n",
       "    <tr>\n",
       "      <th>6</th>\n",
       "      <td>화</td>\n",
       "      <td>49763</td>\n",
       "    </tr>\n",
       "  </tbody>\n",
       "</table>\n",
       "</div>"
      ],
      "text/plain": [
       "  요일   거래건수\n",
       "0  금  23373\n",
       "1  목  41398\n",
       "2  수  46777\n",
       "3  월  46160\n",
       "4  일  46167\n",
       "5  토  56794\n",
       "6  화  49763"
      ]
     },
     "execution_count": 50,
     "metadata": {},
     "output_type": "execute_result"
    }
   ],
   "source": [
    "tab = pd.DataFrame(df.groupby('요일').size().reset_index())\n",
    "tab.columns=['요일','거래건수']\n",
    "tab"
   ]
  },
  {
   "cell_type": "code",
   "execution_count": 51,
   "id": "51816f4a-ce0c-48e6-a497-85482384b01a",
   "metadata": {
    "id": "51816f4a-ce0c-48e6-a497-85482384b01a"
   },
   "outputs": [],
   "source": [
    "tab = df[['요일','거래취소여부']].copy()\n",
    "tab['거래취소여부']=np.where(tab['거래취소여부']==0, 1, 0)\n",
    "tab.columns=['요일','거래건수']"
   ]
  },
  {
   "cell_type": "code",
   "execution_count": 52,
   "id": "458afb46-796b-4e8c-a4c9-e2666fa1d992",
   "metadata": {
    "id": "458afb46-796b-4e8c-a4c9-e2666fa1d992"
   },
   "outputs": [
    {
     "name": "stdout",
     "output_type": "stream",
     "text": [
      "요일별 서비스 판매량에는 유의미한 차이가 있다.\n",
      "F_onewayResult(statistic=12.30222446956684, pvalue=6.761544833079061e-14)\n"
     ]
    }
   ],
   "source": [
    "import pandas as pd\n",
    "import statsmodels.api as sm\n",
    "from statsmodels.formula.api import ols\n",
    "\n",
    "from scipy.stats import f_oneway\n",
    "대분 = tab['요일'].unique()\n",
    "col_name='요일'\n",
    "col='거래건수'\n",
    "\n",
    "g1 = tab[tab[col_name] == 대분[0]][col]\n",
    "g2 = tab[tab[col_name] == 대분[1]][col]\n",
    "g3 = tab[tab[col_name] == 대분[2]][col]\n",
    "g4 = tab[tab[col_name] == 대분[3]][col]\n",
    "g5 = tab[tab[col_name] == 대분[4]][col]\n",
    "g6 = tab[tab[col_name] == 대분[5]][col]\n",
    "g7 = tab[tab[col_name] == 대분[6]][col]\n",
    "\n",
    "F, p = f_oneway(g1, g2, g3,g4, g5, g6 ,g7)\n",
    "if p <0.05:\n",
    "    print(f'요일별 서비스 판매량에는 유의미한 차이가 있다.')\n",
    "    print(f_oneway(g1, g2, g3,g4, g5, g6 ,g7))"
   ]
  },
  {
   "cell_type": "code",
   "execution_count": 53,
   "id": "3841eccf-5326-48b7-ab0d-b5e46e7f05f0",
   "metadata": {
    "id": "3841eccf-5326-48b7-ab0d-b5e46e7f05f0"
   },
   "outputs": [
    {
     "data": {
      "image/png": "[encoded data removed]",
      "text/plain": [
       "<Figure size 640x480 with 1 Axes>"
      ]
     },
     "metadata": {},
     "output_type": "display_data"
    }
   ],
   "source": [
    "tab = tab.groupby('요일')['거래건수'].sum().reindex(['일', '월', '화', '수', '목', '금', '토'])\n",
    "\n",
    "tab.plot(kind='line', color='green')\n",
    "plt.xlabel('')\n",
    "plt.xticks(fontsize=20)\n",
    "plt.title('요일별 서비스 판매량', fontsize=20)\n",
    "plt.show()"
   ]
  },
  {
   "cell_type": "markdown",
   "id": "b4f93d64-1bda-4ed7-9720-5f69d873709f",
   "metadata": {
    "id": "b4f93d64-1bda-4ed7-9720-5f69d873709f"
   },
   "source": [
    "- 요일별 취소율의 차이가 존재한다."
   ]
  },
  {
   "cell_type": "code",
   "execution_count": 54,
   "id": "8131168e-dcca-42c9-bccb-8b5f99b834a1",
   "metadata": {
    "id": "8131168e-dcca-42c9-bccb-8b5f99b834a1"
   },
   "outputs": [
    {
     "data": {
      "image/png": "[encoded data removed]",
      "text/plain": [
       "<Figure size 800x600 with 1 Axes>"
      ]
     },
     "metadata": {},
     "output_type": "display_data"
    }
   ],
   "source": [
    "import seaborn as sns\n",
    "import matplotlib.pyplot as plt\n",
    "\n",
    "order = ['일', '월', '화', '수', '목', '금', '토']\n",
    "tab = df.groupby('요일')['거래취소여부'].mean().reindex(order)\n",
    "\n",
    "\n",
    "colors = ['lightgrey','lightgrey','lightgrey','lightgrey','lightgrey','#C4F0C5','lightgrey']\n",
    "# 시각화\n",
    "plt.figure(figsize=(8,6))\n",
    "ax = sns.barplot(x=tab.index, y=tab.values, palette=colors)\n",
    "\n",
    "# 막대 위에 높이 표시\n",
    "for i, v in enumerate(tab.values):\n",
    "    ax.text(i, v, f'{v:.3f}', ha='center', va='bottom', fontsize=12)\n",
    "\n",
    "plt.xticks(fontsize=15)\n",
    "plt.xlabel('')\n",
    "plt.ylabel('거래취소율', fontsize=15)\n",
    "plt.title('요일별 거래취소율', fontsize=16)\n",
    "plt.tight_layout()\n",
    "plt.show()"
   ]
  },
  {
   "cell_type": "code",
   "execution_count": 55,
   "id": "f6474efa-75ae-4a4d-9ea8-de6da2d21829",
   "metadata": {
    "id": "f6474efa-75ae-4a4d-9ea8-de6da2d21829",
    "scrolled": true
   },
   "outputs": [
    {
     "name": "stdout",
     "output_type": "stream",
     "text": [
      "거래취소여부\n",
      "카이제곱통계량 : 73.79746361099683, 유의확률 :0.00, 자유도: 6\n",
      "------------------------------\n"
     ]
    }
   ],
   "source": [
    "from scipy.stats import chi2_contingency\n",
    "\n",
    "c = '거래취소여부'\n",
    "obs = pd.crosstab(df2['요일'], df2[c])\n",
    "chi2_stat, p_value, dof, expected = chi2_contingency(obs)\n",
    "print(c)\n",
    "print(f'카이제곱통계량 : {chi2_stat}, 유의확률 :{p_value:.2f}, 자유도: {dof}')\n",
    "print('-'*30)"
   ]
  },
  {
   "cell_type": "code",
   "execution_count": 56,
   "id": "82fd2d64-bf2a-45df-9f91-bb37723111e2",
   "metadata": {
    "id": "82fd2d64-bf2a-45df-9f91-bb37723111e2"
   },
   "outputs": [
    {
     "name": "stdout",
     "output_type": "stream",
     "text": [
      "요일별 거래취소여부 카이제곱검정 결과는 유의합니다.\n",
      "73.79746361099683 6.785877403604195e-14 6\n",
      "------------------------------\n"
     ]
    }
   ],
   "source": [
    "from scipy.stats import chi2_contingency\n",
    "\n",
    "obs = pd.crosstab(df['요일'],df['거래취소여부'])\n",
    "chi2_stat, p_value, dof, expected = chi2_contingency(obs)\n",
    "\n",
    "print('요일별 거래취소여부 카이제곱검정 결과는 유의합니다.')\n",
    "print(chi2_stat, p_value, dof)\n",
    "print('-'*30)"
   ]
  },
  {
   "cell_type": "code",
   "execution_count": 57,
   "id": "729d3b55-387c-49e5-ba11-c341feb2b3e2",
   "metadata": {
    "id": "729d3b55-387c-49e5-ba11-c341feb2b3e2",
    "scrolled": true
   },
   "outputs": [],
   "source": [
    "# org_df['거래취소일자'] = pd.to_datetime(org_df['거래취소일자'], format='%Y%m%d')\n",
    "# org_df['거래일자'] = pd.to_datetime(org_df['거래일자'], format='%Y%m%d')\n",
    "# cond = org_df['거래취소일자'].notna()\n",
    "# tab = org_df[cond]\n",
    "# tab['경과일수'] = (tab['거래취소일자'] - tab['거래일자']).dt.days*(-1)\n",
    "# pd.DataFrame({'경과일자':idx,'Count':val}).T"
   ]
  },
  {
   "cell_type": "markdown",
   "id": "0eef15c9-953e-4684-b61a-9f7e9db90984",
   "metadata": {
    "id": "0eef15c9-953e-4684-b61a-9f7e9db90984",
    "jp-MarkdownHeadingCollapsed": true
   },
   "source": [
    "# 통계적 가설 검정"
   ]
  },
  {
   "cell_type": "code",
   "execution_count": 58,
   "id": "aae69a17-eece-4b50-ba95-95ca2c3b8df2",
   "metadata": {
    "id": "aae69a17-eece-4b50-ba95-95ca2c3b8df2",
    "scrolled": true
   },
   "outputs": [
    {
     "data": {
      "text/html": [
       "<div>\n",
       "<style scoped>\n",
       "    .dataframe tbody tr th:only-of-type {\n",
       "        vertical-align: middle;\n",
       "    }\n",
       "\n",
       "    .dataframe tbody tr th {\n",
       "        vertical-align: top;\n",
       "    }\n",
       "\n",
       "    .dataframe thead th {\n",
       "        text-align: right;\n",
       "    }\n",
       "</style>\n",
       "<table border=\"1\" class=\"dataframe\">\n",
       "  <thead>\n",
       "    <tr style=\"text-align: right;\">\n",
       "      <th></th>\n",
       "      <th>프로그램수정횟수</th>\n",
       "      <th>추가결제금액</th>\n",
       "      <th>거래취소여부</th>\n",
       "      <th>판매금액</th>\n",
       "      <th>서비스가격</th>\n",
       "      <th>이용자수</th>\n",
       "      <th>L사매출</th>\n",
       "      <th>평균평점</th>\n",
       "      <th>누적판매수</th>\n",
       "      <th>판매_서비스_수</th>\n",
       "      <th>총_판매_금액</th>\n",
       "      <th>연령</th>\n",
       "      <th>서비스총구매수</th>\n",
       "      <th>총구매금액</th>\n",
       "      <th>총추가결제금액</th>\n",
       "      <th>주문수</th>\n",
       "      <th>new_총수정요청수</th>\n",
       "      <th>연령대</th>\n",
       "    </tr>\n",
       "  </thead>\n",
       "  <tbody>\n",
       "    <tr>\n",
       "      <th>mean</th>\n",
       "      <td>0.157</td>\n",
       "      <td>4.229</td>\n",
       "      <td>0.023</td>\n",
       "      <td>9.951</td>\n",
       "      <td>9.990</td>\n",
       "      <td>5.894</td>\n",
       "      <td>7.563</td>\n",
       "      <td>4.832</td>\n",
       "      <td>743.934</td>\n",
       "      <td>869.380</td>\n",
       "      <td>25873875.806</td>\n",
       "      <td>27.656</td>\n",
       "      <td>2.437</td>\n",
       "      <td>11.888</td>\n",
       "      <td>6.316</td>\n",
       "      <td>8.855</td>\n",
       "      <td>0.768</td>\n",
       "      <td>23.549</td>\n",
       "    </tr>\n",
       "    <tr>\n",
       "      <th>median</th>\n",
       "      <td>0.000</td>\n",
       "      <td>0.000</td>\n",
       "      <td>0.000</td>\n",
       "      <td>10.077</td>\n",
       "      <td>9.903</td>\n",
       "      <td>4.690</td>\n",
       "      <td>7.730</td>\n",
       "      <td>5.000</td>\n",
       "      <td>482.000</td>\n",
       "      <td>604.000</td>\n",
       "      <td>22059740.000</td>\n",
       "      <td>26.000</td>\n",
       "      <td>1.732</td>\n",
       "      <td>11.895</td>\n",
       "      <td>8.748</td>\n",
       "      <td>3.000</td>\n",
       "      <td>0.000</td>\n",
       "      <td>20.000</td>\n",
       "    </tr>\n",
       "    <tr>\n",
       "      <th>mode</th>\n",
       "      <td>0.000</td>\n",
       "      <td>0.000</td>\n",
       "      <td>0.000</td>\n",
       "      <td>8.517</td>\n",
       "      <td>8.517</td>\n",
       "      <td>1.414</td>\n",
       "      <td>5.784</td>\n",
       "      <td>5.000</td>\n",
       "      <td>3738.000</td>\n",
       "      <td>4180.000</td>\n",
       "      <td>60150440.000</td>\n",
       "      <td>23.000</td>\n",
       "      <td>1.000</td>\n",
       "      <td>8.517</td>\n",
       "      <td>0.000</td>\n",
       "      <td>1.000</td>\n",
       "      <td>0.000</td>\n",
       "      <td>20.000</td>\n",
       "    </tr>\n",
       "  </tbody>\n",
       "</table>\n",
       "</div>"
      ],
      "text/plain": [
       "        프로그램수정횟수  추가결제금액  거래취소여부   판매금액  서비스가격  이용자수  L사매출  평균평점    누적판매수  \\\n",
       "mean       0.157   4.229   0.023  9.951  9.990 5.894 7.563 4.832  743.934   \n",
       "median     0.000   0.000   0.000 10.077  9.903 4.690 7.730 5.000  482.000   \n",
       "mode       0.000   0.000   0.000  8.517  8.517 1.414 5.784 5.000 3738.000   \n",
       "\n",
       "        판매_서비스_수      총_판매_금액     연령  서비스총구매수  총구매금액  총추가결제금액   주문수  \\\n",
       "mean     869.380 25873875.806 27.656    2.437 11.888    6.316 8.855   \n",
       "median   604.000 22059740.000 26.000    1.732 11.895    8.748 3.000   \n",
       "mode    4180.000 60150440.000 23.000    1.000  8.517    0.000 1.000   \n",
       "\n",
       "        new_총수정요청수    연령대  \n",
       "mean         0.768 23.549  \n",
       "median       0.000 20.000  \n",
       "mode         0.000 20.000  "
      ]
     },
     "execution_count": 58,
     "metadata": {},
     "output_type": "execute_result"
    }
   ],
   "source": [
    "col_continuous = df.select_dtypes(np.number).columns\n",
    "tab = df[col_continuous].agg(['mean', 'median', lambda x: x.mode().iloc[0]])\n",
    "tab.index = ['mean','median','mode']\n",
    "tab"
   ]
  },
  {
   "cell_type": "markdown",
   "id": "2aef2604-0d3a-4bf7-97a0-34d939170b21",
   "metadata": {
    "id": "2aef2604-0d3a-4bf7-97a0-34d939170b21",
    "jp-MarkdownHeadingCollapsed": true
   },
   "source": [
    "### 수수료율 -> 수수료율과 유의한 컬럼이 아예 없음\n",
    " **결론** : 거래취소, 거래성사건에서 수수료와 L사 매출은 관계가 있음\n",
    "- -> 그러나, 수수료율과 L사매출이 유의한 것은 당연함\n",
    "- -> 수수료율을 책정하기 위한 기준을 찾을 수 없음"
   ]
  },
  {
   "cell_type": "code",
   "execution_count": 59,
   "id": "6ddf144c-0170-46e3-aac5-a82b943ddd59",
   "metadata": {
    "id": "6ddf144c-0170-46e3-aac5-a82b943ddd59"
   },
   "outputs": [],
   "source": [
    "df['수수료율'] = pd.Categorical(df['수수료율'], categories=[6.5,7.5,9.0],ordered=True)"
   ]
  },
  {
   "cell_type": "code",
   "execution_count": 60,
   "id": "fd8c029c-c138-4eb6-a44f-4fd2b7d5a6a1",
   "metadata": {
    "id": "fd8c029c-c138-4eb6-a44f-4fd2b7d5a6a1",
    "scrolled": true
   },
   "outputs": [
    {
     "name": "stdout",
     "output_type": "stream",
     "text": [
      "프로그램수정횟수는 수수료와 유의하지 않음\n",
      "추가결제금액는 수수료와 유의하지 않음\n",
      "판매금액는 수수료와 유의하지 않음\n",
      "서비스가격는 수수료와 유의하지 않음\n",
      "이용자수는 수수료와 유의하지 않음\n",
      "**유의**\n",
      "L사매출\n",
      "F_onewayResult(statistic=683.77921412788, pvalue=4.9052400348270274e-297)\n",
      "평균평점는 수수료와 유의하지 않음\n",
      "누적판매수는 수수료와 유의하지 않음\n",
      "판매_서비스_수는 수수료와 유의하지 않음\n",
      "총_판매_금액는 수수료와 유의하지 않음\n",
      "연령는 수수료와 유의하지 않음\n",
      "서비스총구매수는 수수료와 유의하지 않음\n",
      "총구매금액는 수수료와 유의하지 않음\n",
      "총추가결제금액는 수수료와 유의하지 않음\n",
      "주문수는 수수료와 유의하지 않음\n",
      "new_총수정요청수는 수수료와 유의하지 않음\n",
      "연령대는 수수료와 유의하지 않음\n"
     ]
    }
   ],
   "source": [
    "col = ['프로그램수정횟수', '추가결제금액','판매금액', '서비스가격', '이용자수',\n",
    "        'L사매출', '평균평점', '누적판매수', '판매_서비스_수', '총_판매_금액', '연령',\n",
    "       '서비스총구매수', '총구매금액', '총추가결제금액', '주문수', 'new_총수정요청수', '연령대']\n",
    "for c in col:\n",
    "    g1 = df[df['수수료율'] == 6.5][c]\n",
    "    g2 = df[df['수수료율'] == 7.5][c]\n",
    "    g3 = df[df['수수료율'] == 9.0][c]\n",
    "    f, p = f_oneway(g1, g2, g3)\n",
    "    if p<0.05:\n",
    "        print('**유의**')\n",
    "        print(c)\n",
    "        print(f_oneway(g1, g2, g3))\n",
    "    else :\n",
    "        print(f'{c}는 수수료와 유의하지 않음')"
   ]
  },
  {
   "cell_type": "code",
   "execution_count": 61,
   "id": "31b9d8b7-e99f-4701-b5bb-7b82b791bcd4",
   "metadata": {
    "id": "31b9d8b7-e99f-4701-b5bb-7b82b791bcd4",
    "scrolled": true
   },
   "outputs": [
    {
     "name": "stdout",
     "output_type": "stream",
     "text": [
      "거래취소여부는 수수료와 유의하지 않음\n",
      "거주지는 수수료와 유의하지 않음\n",
      "대분류는 수수료와 유의하지 않음\n",
      "사용기기_제조사는 수수료와 유의하지 않음\n",
      "성별는 수수료와 유의하지 않음\n",
      "신속_알람_서비스_사용여부는 수수료와 유의하지 않음\n",
      "요일는 수수료와 유의하지 않음\n",
      "운영체제는 수수료와 유의하지 않음\n",
      "유입경로는 수수료와 유의하지 않음\n",
      "일회다회는 수수료와 유의하지 않음\n",
      "판매금액_20만원는 수수료와 유의하지 않음\n",
      "판매금액_5만원는 수수료와 유의하지 않음\n",
      "판매자는 수수료와 유의하지 않음\n",
      "평균평점_구간화는 수수료와 유의하지 않음\n",
      "프리미엄_서비스_가입여부는 수수료와 유의하지 않음\n",
      "회원상태는 수수료와 유의하지 않음\n"
     ]
    }
   ],
   "source": [
    "col = ['거래취소여부','거주지', '대분류', '사용기기_제조사', '성별','신속_알람_서비스_사용여부', '요일', '운영체제', '유입경로', '일회다회', '판매금액_20만원', '판매금액_5만원', '판매자', '평균평점_구간화', '프리미엄_서비스_가입여부', '회원상태']\n",
    "기준 = '수수료율'\n",
    "for c in col:\n",
    "    obs = pd.crosstab(df[기준], df[c])\n",
    "    chi2_stat, p_value, dof, expected = chi2_contingency(obs)\n",
    "    if p_value<0.05:\n",
    "        print('**유의**')\n",
    "        print(c)\n",
    "        print(f'카이제곱통계량 : {chi2_stat}, 유의확률 :{p_value:.2f}, 자유도: {dof}')\n",
    "        print('-'*30)\n",
    "    else :\n",
    "        print(f'{c}는 수수료와 유의하지 않음')"
   ]
  },
  {
   "cell_type": "markdown",
   "id": "b758e373-cf07-4641-9bfb-7fd478e7ffe7",
   "metadata": {
    "id": "b758e373-cf07-4641-9bfb-7fd478e7ffe7"
   },
   "source": [
    "- **판매자 특징과 검정**\n",
    "- 판매자별 총평균평점\n",
    "- 서비스별 평균평점\n",
    "- 판매서비스수\n",
    "- 총판매금액\n",
    "- 판매서비스개수별"
   ]
  },
  {
   "cell_type": "code",
   "execution_count": 62,
   "id": "3860b6cd-fc0b-4921-a681-96781598a262",
   "metadata": {
    "id": "3860b6cd-fc0b-4921-a681-96781598a262"
   },
   "outputs": [
    {
     "data": {
      "text/html": [
       "<div>\n",
       "<style scoped>\n",
       "    .dataframe tbody tr th:only-of-type {\n",
       "        vertical-align: middle;\n",
       "    }\n",
       "\n",
       "    .dataframe tbody tr th {\n",
       "        vertical-align: top;\n",
       "    }\n",
       "\n",
       "    .dataframe thead th {\n",
       "        text-align: right;\n",
       "    }\n",
       "</style>\n",
       "<table border=\"1\" class=\"dataframe\">\n",
       "  <thead>\n",
       "    <tr style=\"text-align: right;\">\n",
       "      <th></th>\n",
       "      <th>수수료율</th>\n",
       "      <th>평균평점</th>\n",
       "      <th>총 판매 금액</th>\n",
       "    </tr>\n",
       "  </thead>\n",
       "  <tbody>\n",
       "    <tr>\n",
       "      <th>수수료율</th>\n",
       "      <td>1.000</td>\n",
       "      <td>0.165</td>\n",
       "      <td>0.442</td>\n",
       "    </tr>\n",
       "    <tr>\n",
       "      <th>평균평점</th>\n",
       "      <td>0.165</td>\n",
       "      <td>1.000</td>\n",
       "      <td>0.029</td>\n",
       "    </tr>\n",
       "    <tr>\n",
       "      <th>총 판매 금액</th>\n",
       "      <td>0.442</td>\n",
       "      <td>0.029</td>\n",
       "      <td>1.000</td>\n",
       "    </tr>\n",
       "  </tbody>\n",
       "</table>\n",
       "</div>"
      ],
      "text/plain": [
       "         수수료율  평균평점  총 판매 금액\n",
       "수수료율    1.000 0.165    0.442\n",
       "평균평점    0.165 1.000    0.029\n",
       "총 판매 금액 0.442 0.029    1.000"
      ]
     },
     "execution_count": 62,
     "metadata": {},
     "output_type": "execute_result"
    }
   ],
   "source": [
    "df2 = df.copy()\n",
    "df2['수수료율'] = df2['수수료율'].astype(float)\n",
    "판매자서비스별평점 = df2[['판매자','서비스명','평균평점']].drop_duplicates()\n",
    "판매자별평균평점 = pd.DataFrame(판매자서비스별평점.groupby('판매자')['평균평점'].mean())\n",
    "판매자별수수료합계 = df2.groupby('판매자')[['수수료율']].sum()\n",
    "tab = pd.merge(pd.merge(판매자별수수료합계, 판매자별평균평점, how='left',on='판매자'),expert[['판매자','총 판매 금액']], how='left',on='판매자')\n",
    "tab[['수수료율','평균평점','총 판매 금액']].corr()"
   ]
  },
  {
   "cell_type": "code",
   "execution_count": 63,
   "id": "c92557a9-c88b-47f2-be30-613f232c5ff1",
   "metadata": {
    "id": "c92557a9-c88b-47f2-be30-613f232c5ff1"
   },
   "outputs": [
    {
     "name": "stdout",
     "output_type": "stream",
     "text": [
      "평균평점\n",
      "459.2858197345327 0.42197442819760433 454\n",
      "------------------------------\n"
     ]
    }
   ],
   "source": [
    "# 판매자별 총평균 평점\n",
    "tab = pd.merge(df[['판매자','수수료율']], df.groupby('판매자')['평균평점'].mean(), how='inner', on='판매자')\n",
    "obs = pd.crosstab(tab['평균평점'], df['수수료율'])\n",
    "chi2_stat, p_value, dof, expected = chi2_contingency(obs)\n",
    "\n",
    "print(clm)\n",
    "print(chi2_stat, p_value, dof)\n",
    "print('-'*30)"
   ]
  },
  {
   "cell_type": "markdown",
   "id": "32f6a929-5ff6-432d-95c8-7e28281110b0",
   "metadata": {
    "id": "32f6a929-5ff6-432d-95c8-7e28281110b0",
    "jp-MarkdownHeadingCollapsed": true
   },
   "source": [
    "### 수수료율 소비자 데이터"
   ]
  },
  {
   "cell_type": "code",
   "execution_count": 64,
   "id": "b352c705-abec-4f66-88c4-386edd47e31d",
   "metadata": {
    "id": "b352c705-abec-4f66-88c4-386edd47e31d"
   },
   "outputs": [
    {
     "name": "stdout",
     "output_type": "stream",
     "text": [
      "ANOVA 결과: F = 0.3793, p-value = 0.6843\n",
      "\n",
      "➡️ 그룹 간 평균 차이가 유의하지 않음 (사후검정 불필요).\n"
     ]
    }
   ],
   "source": [
    "import numpy as np\n",
    "import pandas as pd\n",
    "import scipy.stats as stats\n",
    "from itertools import combinations\n",
    "\n",
    "\n",
    "\n",
    "# 그룹별 데이터 추출\n",
    "groups = df[\"수수료율\"].unique()\n",
    "data = {g: df[df[\"수수료율\"] == g][\"new_총수정요청수\"].values for g in groups}\n",
    "\n",
    "# ANOVA 수행 (3개 이상의 그룹 비교)\n",
    "f_stat, p_value = stats.f_oneway(*data.values())\n",
    "print(f\"ANOVA 결과: F = {f_stat:.4f}, p-value = {p_value:.4f}\")\n",
    "\n",
    "# ANOVA 결과가 유의하면 사후검정 (Scheffé)\n",
    "if p_value < 0.05:\n",
    "    print(\"\\n➡️ 그룹 간 차이가 유의미하므로 Scheffé 사후검정 진행!\")\n",
    "\n",
    "    alpha = 0.05\n",
    "    df_within = len(df) - len(groups)  # 자유도 계산\n",
    "    f_critical = stats.f.ppf(1 - alpha, len(groups) - 1, df_within)\n",
    "    pooled_var = np.var(df[\"score\"], ddof=1)  # 전체 분산\n",
    "\n",
    "    print(\"\\nScheffé 사후검정 결과:\")\n",
    "    for g1, g2 in combinations(groups, 2):\n",
    "        n1, n2 = len(data[g1]), len(data[g2])\n",
    "        mean_diff = abs(np.mean(data[g1]) - np.mean(data[g2]))\n",
    "        scheffe_crit = np.sqrt(f_critical * pooled_var * (1/n1 + 1/n2))  # 그룹 크기 반영\n",
    "\n",
    "        print(f\"{g1} vs {g2} | Mean Diff: {mean_diff:.2f} | Critical: {scheffe_crit:.2f} | {'유의미한 차이 있음' if mean_diff > scheffe_crit else '차이 없음'}\")\n",
    "else:\n",
    "    print(\"\\n➡️ 그룹 간 평균 차이가 유의하지 않음 (사후검정 불필요).\")\n"
   ]
  },
  {
   "cell_type": "code",
   "execution_count": 65,
   "id": "85c44cfd-5472-4c3a-96c8-3074384fe18a",
   "metadata": {
    "id": "85c44cfd-5472-4c3a-96c8-3074384fe18a"
   },
   "outputs": [
    {
     "name": "stdout",
     "output_type": "stream",
     "text": [
      "ANOVA 결과: F = 0.1637, p-value = 0.8490\n",
      "\n",
      "➡️ 그룹 간 평균 차이가 유의하지 않음 (사후검정 불필요).\n"
     ]
    }
   ],
   "source": [
    "import numpy as np\n",
    "import pandas as pd\n",
    "import scipy.stats as stats\n",
    "from itertools import combinations\n",
    "\n",
    "\n",
    "\n",
    "# 그룹별 데이터 추출\n",
    "groups = df[\"수수료율\"].unique()\n",
    "data = {g: df[df[\"수수료율\"] == g][\"추가결제금액\"].values for g in groups}\n",
    "\n",
    "# ANOVA 수행 (3개 이상의 그룹 비교)\n",
    "f_stat, p_value = stats.f_oneway(*data.values())\n",
    "print(f\"ANOVA 결과: F = {f_stat:.4f}, p-value = {p_value:.4f}\")\n",
    "\n",
    "# ANOVA 결과가 유의하면 사후검정 (Scheffé)\n",
    "if p_value < 0.05:\n",
    "    print(\"\\n➡️ 그룹 간 차이가 유의미하므로 Scheffé 사후검정 진행!\")\n",
    "\n",
    "    alpha = 0.05\n",
    "    df_within = len(df) - len(groups)  # 자유도 계산\n",
    "    f_critical = stats.f.ppf(1 - alpha, len(groups) - 1, df_within)\n",
    "    pooled_var = np.var(df[\"score\"], ddof=1)  # 전체 분산\n",
    "\n",
    "    print(\"\\nScheffé 사후검정 결과:\")\n",
    "    for g1, g2 in combinations(groups, 2):\n",
    "        n1, n2 = len(data[g1]), len(data[g2])\n",
    "        mean_diff = abs(np.mean(data[g1]) - np.mean(data[g2]))\n",
    "        scheffe_crit = np.sqrt(f_critical * pooled_var * (1/n1 + 1/n2))  # 그룹 크기 반영\n",
    "\n",
    "        print(f\"{g1} vs {g2} | Mean Diff: {mean_diff:.2f} | Critical: {scheffe_crit:.2f} | {'유의미한 차이 있음' if mean_diff > scheffe_crit else '차이 없음'}\")\n",
    "else:\n",
    "    print(\"\\n➡️ 그룹 간 평균 차이가 유의하지 않음 (사후검정 불필요).\")"
   ]
  },
  {
   "cell_type": "code",
   "execution_count": 66,
   "id": "d9aa1814-48fa-4614-b6bd-fe336e9b6f83",
   "metadata": {
    "id": "d9aa1814-48fa-4614-b6bd-fe336e9b6f83"
   },
   "outputs": [
    {
     "name": "stdout",
     "output_type": "stream",
     "text": [
      "ANOVA 결과: F = 2.0607, p-value = 0.1274\n",
      "\n",
      "➡️ 그룹 간 평균 차이가 유의하지 않음 (사후검정 불필요).\n"
     ]
    }
   ],
   "source": [
    "import numpy as np\n",
    "import pandas as pd\n",
    "import scipy.stats as stats\n",
    "from itertools import combinations\n",
    "\n",
    "\n",
    "\n",
    "# 그룹별 데이터 추출\n",
    "groups = df[\"수수료율\"].unique()\n",
    "data = {g: df[df[\"수수료율\"] == g][\"서비스가격\"].values for g in groups}\n",
    "\n",
    "# ANOVA 수행 (3개 이상의 그룹 비교)\n",
    "f_stat, p_value = stats.f_oneway(*data.values())\n",
    "print(f\"ANOVA 결과: F = {f_stat:.4f}, p-value = {p_value:.4f}\")\n",
    "\n",
    "# ANOVA 결과가 유의하면 사후검정 (Scheffé)\n",
    "if p_value < 0.05:\n",
    "    print(\"\\n➡️ 그룹 간 차이가 유의미하므로 Scheffé 사후검정 진행!\")\n",
    "\n",
    "    alpha = 0.05\n",
    "    df_within = len(df) - len(groups)  # 자유도 계산\n",
    "    f_critical = stats.f.ppf(1 - alpha, len(groups) - 1, df_within)\n",
    "    pooled_var = np.var(df[\"score\"], ddof=1)  # 전체 분산\n",
    "\n",
    "    print(\"\\nScheffé 사후검정 결과:\")\n",
    "    for g1, g2 in combinations(groups, 2):\n",
    "        n1, n2 = len(data[g1]), len(data[g2])\n",
    "        mean_diff = abs(np.mean(data[g1]) - np.mean(data[g2]))\n",
    "        scheffe_crit = np.sqrt(f_critical * pooled_var * (1/n1 + 1/n2))  # 그룹 크기 반영\n",
    "\n",
    "        print(f\"{g1} vs {g2} | Mean Diff: {mean_diff:.2f} | Critical: {scheffe_crit:.2f} | {'유의미한 차이 있음' if mean_diff > scheffe_crit else '차이 없음'}\")\n",
    "else:\n",
    "    print(\"\\n➡️ 그룹 간 평균 차이가 유의하지 않음 (사후검정 불필요).\")\n"
   ]
  },
  {
   "cell_type": "markdown",
   "id": "d09f95f3-6903-4831-a583-9bf93b7594eb",
   "metadata": {
    "id": "d09f95f3-6903-4831-a583-9bf93b7594eb",
    "jp-MarkdownHeadingCollapsed": true
   },
   "source": [
    "### L사매출"
   ]
  },
  {
   "cell_type": "code",
   "execution_count": 67,
   "id": "69c4b752-7af7-4a64-a034-24965ffcbedc",
   "metadata": {
    "id": "69c4b752-7af7-4a64-a034-24965ffcbedc"
   },
   "outputs": [
    {
     "name": "stdout",
     "output_type": "stream",
     "text": [
      "평균평점_구간화와 L사매출은 유의하지 않습니다..\n",
      "F_onewayResult(statistic=0.816215533158013, pvalue=0.4421025600700388)\n",
      "\n",
      "수수료율와 L사매출은 유의하지 않습니다..\n"
     ]
    },
    {
     "data": {
      "text/plain": [
       "F_onewayResult(statistic=1.4973316693520289, pvalue=0.22372795611764104)"
      ]
     },
     "execution_count": 67,
     "metadata": {},
     "output_type": "execute_result"
    }
   ],
   "source": [
    "col_name = '평균평점_구간화'\n",
    "리뷰없음 = df[df[col_name] == '리뷰없음']['L사매출']\n",
    "G1 = df[df[col_name] == '0.0초과 0.5이하']['L사매출']\n",
    "G2 = df[df[col_name] == '0.5초과 1.0이하']['L사매출']\n",
    "G3 = df[df[col_name] == '1.0초과 1.5이하']['L사매출']\n",
    "G4 = df[df[col_name] == '1.5초과 2.0이하']['L사매출']\n",
    "G5 = df[df[col_name] == '2.0초과 2.5이하']['L사매출']\n",
    "G6 = df[df[col_name] == '2.5초과 3.0이하']['L사매출']\n",
    "G7 = df[df[col_name] == '3.0초과 3.5이하']['L사매출']\n",
    "G8 = df[df[col_name] == '3.5초과 4.0이하']['L사매출']\n",
    "G9 = df[df[col_name] == '4.0초과 4.5이하']['L사매출']\n",
    "G10 = df[df[col_name] == '4.5초과 5.0이하']['L사매출']\n",
    "\n",
    "F, p = f_oneway(리뷰없음, G1, G2, G3, G4, G5, G6, G7, G8, G9, G10)\n",
    "if p <0.05:\n",
    "    print(f'{col_name}와 L사매출은 유의합니다.')\n",
    "else:\n",
    "    print(f'{col_name}와 L사매출은 유의하지 않습니다..')\n",
    "print(f_oneway(g1, g2, g3))\n",
    "print()\n",
    "\n",
    "from scipy.stats import f_oneway\n",
    "\n",
    "col_name = '수수료율'\n",
    "g1 = df[df[col_name] == 6.5]['평균평점']\n",
    "g2 = df[df[col_name] == 7.5]['평균평점']\n",
    "g3 = df[df[col_name] == 9.0]['평균평점']\n",
    "\n",
    "F, p = f_oneway(g1, g2, g3)\n",
    "if p <0.05:\n",
    "    print(f'{col_name}와 L사매출은 유의합니다.')\n",
    "else:\n",
    "    print(f'{col_name}와 L사매출은 유의하지 않습니다..')\n",
    "f_oneway(g1, g2, g3)"
   ]
  },
  {
   "cell_type": "code",
   "execution_count": 68,
   "id": "48bf623d-8d2c-4c4c-b34e-aa9e0eb37940",
   "metadata": {
    "id": "48bf623d-8d2c-4c4c-b34e-aa9e0eb37940"
   },
   "outputs": [
    {
     "name": "stdout",
     "output_type": "stream",
     "text": [
      "회원상태\n",
      "F_onewayResult(statistic=0.38616607462228236, pvalue=0.6796579688093953)\n",
      "------------------------------\n"
     ]
    }
   ],
   "source": [
    "col_name = '회원상태'\n",
    "대분= df[col_name].unique()\n",
    "\n",
    "from scipy.stats import f_oneway\n",
    "\n",
    "g1 = df[df[col_name] == 대분[0]]['L사매출']\n",
    "g2 = df[df[col_name] == 대분[1]]['L사매출']\n",
    "g3 = df[df[col_name] == 대분[2]]['L사매출']\n",
    "print(col_name)\n",
    "\\\n",
    "print(f_oneway(g1, g2, g3))\n",
    "print('-'*30)"
   ]
  },
  {
   "cell_type": "code",
   "execution_count": 69,
   "id": "8420556b-988f-4650-a9bf-4f59b494fc2a",
   "metadata": {
    "id": "8420556b-988f-4650-a9bf-4f59b494fc2a"
   },
   "outputs": [
    {
     "name": "stdout",
     "output_type": "stream",
     "text": [
      "이표본 : ['거래취소여부', '성별', '신속_알람_서비스_사용여부', '운영체제', '일회다회', '판매금액_5만원', '프리미엄_서비스_가입여부']\n",
      "분산분석 : ['거주지', '대분류', '사용기기_제조사', '수수료율', '유입경로', '평균평점_구간화', '회원상태']\n"
     ]
    }
   ],
   "source": [
    "연속_컬럼 = ['프로그램수정횟수', '추가결제금액', '판매금액', '서비스가격', '이용자수',\n",
    " 'L사매출', '평균평점', '누적판매수', '판매_서비스_수', '총_판매_금액', '연령',\n",
    "       '서비스총구매수', '총구매금액', '총추가결제금액', '거래중취소_추정', 'new_총수정요청수', '총금액']\n",
    "범주_컬럼 = [ '거래취소여부',\n",
    " '거주지',\n",
    " '대분류',\n",
    " '사용기기_제조사',\n",
    " '성별',\n",
    " '수수료율',\n",
    " '신속_알람_서비스_사용여부',\n",
    " '운영체제',\n",
    " '유입경로',\n",
    " '일회다회',\n",
    " '판매금액_5만원',\n",
    " '평균평점_구간화',\n",
    " '프리미엄_서비스_가입여부',\n",
    " '회원상태']\n",
    "\n",
    "이표본 = []\n",
    "분산분석 = []\n",
    "for c in 범주_컬럼:\n",
    "    if len(df[c].unique()) <= 2:\n",
    "        이표본.append(c)\n",
    "    else :\n",
    "        분산분석.append(c)\n",
    "print(f'이표본 : {이표본}')\n",
    "print(f'분산분석 : {분산분석}')"
   ]
  },
  {
   "cell_type": "code",
   "execution_count": 70,
   "id": "ee6eef3b-b36e-4755-ac56-c0fc380a41ef",
   "metadata": {
    "id": "ee6eef3b-b36e-4755-ac56-c0fc380a41ef"
   },
   "outputs": [
    {
     "name": "stdout",
     "output_type": "stream",
     "text": [
      "거래취소여부\n",
      "FlignerResult(statistic=663.1768540708358, pvalue=3.0440293649186887e-146)\n",
      "FlignerResult(statistic=9955.304929367609, pvalue=0.0)\n",
      "FlignerResult(statistic=4387.141807915341, pvalue=0.0)\n",
      "------------------------------\n",
      "성별\n",
      "FlignerResult(statistic=3.134961803240985, pvalue=0.07663018171759353)\n",
      "FlignerResult(statistic=57.462935340669716, pvalue=3.444086860675943e-14)\n",
      "FlignerResult(statistic=15.129497642801768, pvalue=0.00010038249418904291)\n",
      "------------------------------\n",
      "신속_알람_서비스_사용여부\n",
      "FlignerResult(statistic=8349.687076237693, pvalue=0.0)\n",
      "FlignerResult(statistic=7504.843988687902, pvalue=0.0)\n",
      "FlignerResult(statistic=10222.069625763366, pvalue=0.0)\n",
      "------------------------------\n",
      "운영체제\n",
      "FlignerResult(statistic=5.708767480157739, pvalue=0.016880387053893386)\n",
      "FlignerResult(statistic=52.0740824688777, pvalue=5.344571398561156e-13)\n",
      "FlignerResult(statistic=7.410741209563252, pvalue=0.006483560624447184)\n",
      "------------------------------\n",
      "일회다회\n",
      "FlignerResult(statistic=21.577809282503154, pvalue=3.3976021918324126e-06)\n",
      "FlignerResult(statistic=40.40295126862746, pvalue=2.0662874428167716e-10)\n",
      "FlignerResult(statistic=346.7061916749824, pvalue=2.210154308517863e-77)\n",
      "------------------------------\n",
      "판매금액_5만원\n",
      "FlignerResult(statistic=7041.507631092131, pvalue=0.0)\n",
      "FlignerResult(statistic=9584.741879323685, pvalue=0.0)\n",
      "FlignerResult(statistic=9253.333993812317, pvalue=0.0)\n",
      "------------------------------\n",
      "프리미엄_서비스_가입여부\n",
      "FlignerResult(statistic=49.49506137070839, pvalue=1.988717262438424e-12)\n",
      "FlignerResult(statistic=126.76875986989144, pvalue=2.0873087197904358e-29)\n",
      "FlignerResult(statistic=201.93336287194097, pvalue=7.905670954003655e-46)\n",
      "------------------------------\n"
     ]
    }
   ],
   "source": [
    "from scipy.stats import fligner\n",
    "from sklearn.preprocessing import LabelEncoder\n",
    "le = LabelEncoder()\n",
    "\n",
    "t_data = df.copy()\n",
    "for col in 이표본:\n",
    "    if t_data[col].dtype == 'object':\n",
    "        t_data[col] = le.fit_transform(t_data[col])\n",
    "\n",
    "    cond1 = t_data[col]== np.unique(t_data[col])[0]\n",
    "    cond2 = t_data[col]==np.unique(t_data[col])[1]\n",
    "\n",
    "    g1 = t_data.loc[cond1,'L사매출']\n",
    "    g2 = t_data.loc[cond2,'L사매출']\n",
    "\n",
    "    print(col)\n",
    "    print(fligner(g1, g2, center='median'))\n",
    "    print(fligner(g1, g2, center='mean'))\n",
    "    print(fligner(g1, g2, center='trimmed'))\n",
    "    print('-'*30)"
   ]
  },
  {
   "cell_type": "markdown",
   "id": "c93b1a3a-9c0c-433f-90e4-4e878d5cddab",
   "metadata": {
    "id": "c93b1a3a-9c0c-433f-90e4-4e878d5cddab",
    "jp-MarkdownHeadingCollapsed": true
   },
   "source": [
    "### 서비스가격 회귀"
   ]
  },
  {
   "cell_type": "code",
   "execution_count": 71,
   "id": "6e7a5544-34b9-4bab-adcb-d083e5b323fa",
   "metadata": {
    "id": "6e7a5544-34b9-4bab-adcb-d083e5b323fa"
   },
   "outputs": [
    {
     "name": "stdout",
     "output_type": "stream",
     "text": [
      "모델 p-values:\n",
      " const      0.000\n",
      "연령         0.786\n",
      "프로그램수정횟수   0.000\n",
      "추가결제금액     0.000\n",
      "수수료율       0.281\n",
      "이용자수       0.000\n",
      "서비스총구매수    0.000\n",
      "총구매금액      0.000\n",
      "dtype: float64\n",
      "\n",
      "변수 '연령'을 제거한 후 모델 p-values:\n",
      " const      0.000\n",
      "프로그램수정횟수   0.000\n",
      "추가결제금액     0.000\n",
      "수수료율       0.281\n",
      "이용자수       0.000\n",
      "서비스총구매수    0.000\n",
      "총구매금액      0.000\n",
      "dtype: float64\n",
      "\n",
      "변수 '수수료율'을 제거한 후 모델 p-values:\n",
      " const      0.000\n",
      "프로그램수정횟수   0.000\n",
      "추가결제금액     0.000\n",
      "이용자수       0.000\n",
      "서비스총구매수    0.000\n",
      "총구매금액      0.000\n",
      "dtype: float64\n",
      "\n",
      "최종 회귀식:\n",
      "Y = 7.9053 + 0.0192 * X1 + -0.0055 * X2 + -0.0833 * X3 + -0.2073 * X4 + 0.2609 * X5 \n",
      "\n",
      "최종 모델 결과:\n",
      "                             OLS Regression Results                            \n",
      "==============================================================================\n",
      "Dep. Variable:                  서비스가격   R-squared:                       0.199\n",
      "Model:                            OLS   Adj. R-squared:                  0.199\n",
      "Method:                 Least Squares   F-statistic:                 1.544e+04\n",
      "Date:                Mon, 31 Mar 2025   Prob (F-statistic):               0.00\n",
      "Time:                        15:24:58   Log-Likelihood:            -4.7091e+05\n",
      "No. Observations:              310432   AIC:                         9.418e+05\n",
      "Df Residuals:                  310426   BIC:                         9.419e+05\n",
      "Df Model:                           5                                         \n",
      "Covariance Type:            nonrobust                                         \n",
      "==============================================================================\n",
      "                 coef    std err          t      P>|t|      [0.025      0.975]\n",
      "------------------------------------------------------------------------------\n",
      "const          7.9053      0.015    517.538      0.000       7.875       7.935\n",
      "프로그램수정횟수       0.0192      0.005      3.916      0.000       0.010       0.029\n",
      "추가결제금액        -0.0055      0.000    -11.384      0.000      -0.006      -0.005\n",
      "이용자수          -0.0833      0.000   -187.279      0.000      -0.084      -0.082\n",
      "서비스총구매수       -0.2073      0.002   -124.384      0.000      -0.211      -0.204\n",
      "총구매금액          0.2609      0.001    182.063      0.000       0.258       0.264\n",
      "==============================================================================\n",
      "Omnibus:                    11921.414   Durbin-Watson:                   0.583\n",
      "Prob(Omnibus):                  0.000   Jarque-Bera (JB):            13537.262\n",
      "Skew:                           0.479   Prob(JB):                         0.00\n",
      "Kurtosis:                       3.360   Cond. No.                         112.\n",
      "==============================================================================\n",
      "\n",
      "Notes:\n",
      "[1] Standard Errors assume that the covariance matrix of the errors is correctly specified.\n"
     ]
    }
   ],
   "source": [
    "import numpy as np\n",
    "import pandas as pd\n",
    "import statsmodels.api as sm\n",
    "from sklearn.model_selection import train_test_split\n",
    "\n",
    "# 독립 변수(X)와 종속 변수(y) 분리 / 총추가결제금액, new_총수정요청수\n",
    "X = df[[\"연령\",'프로그램수정횟수','추가결제금액','수수료율','이용자수','서비스총구매수','총구매금액']]  # 독립 변수들\n",
    "y = df['서비스가격']  # 종속 변수\n",
    "\n",
    "# 상수항 추가 (절편 추가)\n",
    "X = sm.add_constant(X)\n",
    "\n",
    "# 후진 제거법 구현\n",
    "def backward_elimination(X, y, significance_level=0.05):\n",
    "    # 전체 모델 적합\n",
    "    model = sm.OLS(y, X).fit()\n",
    "\n",
    "    # p-value 확인\n",
    "    p_values = model.pvalues\n",
    "    print(\"모델 p-values:\\n\", p_values)\n",
    "\n",
    "    # p-value가 significance_level보다 큰 변수 제거\n",
    "    while max(p_values) > significance_level:\n",
    "        # 가장 큰 p-value 변수 제거\n",
    "        max_p_value_column = p_values.idxmax()  # p-value가 가장 큰 변수\n",
    "        X = X.drop(columns=[max_p_value_column])  # 해당 변수 제거\n",
    "        model = sm.OLS(y, X).fit()  # 새로운 모델 학습\n",
    "        p_values = model.pvalues  # 새 p-value 계산\n",
    "        print(f\"\\n변수 '{max_p_value_column}'을 제거한 후 모델 p-values:\\n\", p_values)\n",
    "\n",
    "    return model\n",
    "\n",
    "# 후진 제거법 실행\n",
    "final_model = backward_elimination(X, y)\n",
    "\n",
    "# 최종 모델의 회귀식 출력\n",
    "def print_regression_equation(model):\n",
    "    intercept = model.params[0]\n",
    "    coefficients = model.params[1:]\n",
    "\n",
    "    equation = f\"Y = {intercept:.4f} \"\n",
    "    for i, coef in enumerate(coefficients):\n",
    "        equation += f\"+ {coef:.4f} * X{i+1} \"\n",
    "\n",
    "    print(\"\\n최종 회귀식:\")\n",
    "    print(equation)\n",
    "\n",
    "# 회귀식 출력\n",
    "print_regression_equation(final_model)\n",
    "\n",
    "# 최종 모델의 결과 출력\n",
    "print(\"\\n최종 모델 결과:\\n\", final_model.summary())\n"
   ]
  },
  {
   "cell_type": "markdown",
   "id": "ab4b259a-2716-44b5-9ebc-13b406003074",
   "metadata": {
    "id": "ab4b259a-2716-44b5-9ebc-13b406003074",
    "jp-MarkdownHeadingCollapsed": true
   },
   "source": [
    "### 총 추가결제금액 회귀"
   ]
  },
  {
   "cell_type": "code",
   "execution_count": 72,
   "id": "f03d64bb-e7cf-4414-a196-4957c7ee72d7",
   "metadata": {
    "id": "f03d64bb-e7cf-4414-a196-4957c7ee72d7"
   },
   "outputs": [
    {
     "name": "stdout",
     "output_type": "stream",
     "text": [
      "모델 p-values:\n",
      " const        0.000\n",
      "연령           0.003\n",
      "프로그램수정횟수     0.000\n",
      "수수료율         0.210\n",
      "이용자수         0.155\n",
      "서비스총구매수      0.000\n",
      "총구매금액        0.000\n",
      "new_총수정요청수   0.000\n",
      "서비스가격        0.000\n",
      "dtype: float64\n",
      "\n",
      "변수 '수수료율'을 제거한 후 모델 p-values:\n",
      " const        0.000\n",
      "연령           0.003\n",
      "프로그램수정횟수     0.000\n",
      "이용자수         0.156\n",
      "서비스총구매수      0.000\n",
      "총구매금액        0.000\n",
      "new_총수정요청수   0.000\n",
      "서비스가격        0.000\n",
      "dtype: float64\n",
      "\n",
      "변수 '이용자수'을 제거한 후 모델 p-values:\n",
      " const        0.000\n",
      "연령           0.003\n",
      "프로그램수정횟수     0.000\n",
      "서비스총구매수      0.000\n",
      "총구매금액        0.000\n",
      "new_총수정요청수   0.000\n",
      "서비스가격        0.000\n",
      "dtype: float64\n",
      "\n",
      "최종 회귀식:\n",
      "Y = 3.4782 + 0.0035 * X1 + -0.5858 * X2 + -0.7134 * X3 + 0.3786 * X4 + 1.8062 * X5 + -0.1317 * X6 \n",
      "\n",
      "최종 모델 결과:\n",
      "                             OLS Regression Results                            \n",
      "==============================================================================\n",
      "Dep. Variable:                총추가결제금액   R-squared:                       0.112\n",
      "Model:                            OLS   Adj. R-squared:                  0.112\n",
      "Method:                 Least Squares   F-statistic:                     6508.\n",
      "Date:                Mon, 31 Mar 2025   Prob (F-statistic):               0.00\n",
      "Time:                        15:24:58   Log-Likelihood:            -8.9575e+05\n",
      "No. Observations:              310432   AIC:                         1.792e+06\n",
      "Df Residuals:                  310425   BIC:                         1.792e+06\n",
      "Df Model:                           6                                         \n",
      "Covariance Type:            nonrobust                                         \n",
      "==============================================================================\n",
      "                 coef    std err          t      P>|t|      [0.025      0.975]\n",
      "------------------------------------------------------------------------------\n",
      "const          3.4782      0.082     42.630      0.000       3.318       3.638\n",
      "연령             0.0035      0.001      2.924      0.003       0.001       0.006\n",
      "프로그램수정횟수      -0.5858      0.022    -26.044      0.000      -0.630      -0.542\n",
      "서비스총구매수       -0.7134      0.009    -75.224      0.000      -0.732      -0.695\n",
      "총구매금액          0.3786      0.006     63.960      0.000       0.367       0.390\n",
      "new_총수정요청수     1.8062      0.013    139.903      0.000       1.781       1.831\n",
      "서비스가격         -0.1317      0.007    -19.704      0.000      -0.145      -0.119\n",
      "==============================================================================\n",
      "Omnibus:                  4062624.252   Durbin-Watson:                   1.781\n",
      "Prob(Omnibus):                  0.000   Jarque-Bera (JB):            34530.052\n",
      "Skew:                          -0.478   Prob(JB):                         0.00\n",
      "Kurtosis:                       1.675   Cond. No.                         340.\n",
      "==============================================================================\n",
      "\n",
      "Notes:\n",
      "[1] Standard Errors assume that the covariance matrix of the errors is correctly specified.\n"
     ]
    }
   ],
   "source": [
    "import numpy as np\n",
    "import pandas as pd\n",
    "import statsmodels.api as sm\n",
    "from sklearn.model_selection import train_test_split\n",
    "\n",
    "# 독립 변수(X)와 종속 변수(y) 분리 /   \"추가결제금액\"\n",
    "X = df[[\"연령\",'프로그램수정횟수','수수료율','이용자수','서비스총구매수','총구매금액',\"new_총수정요청수\",\"서비스가격\"]]  # 독립 변수들\n",
    "y = df['총추가결제금액']  # 종속 변수\n",
    "\n",
    "# 상수항 추가 (절편 추가)\n",
    "X = sm.add_constant(X)\n",
    "\n",
    "# 후진 제거법 구현\n",
    "def backward_elimination(X, y, significance_level=0.05):\n",
    "    # 전체 모델 적합\n",
    "    model = sm.OLS(y, X).fit()\n",
    "\n",
    "    # p-value 확인\n",
    "    p_values = model.pvalues\n",
    "    print(\"모델 p-values:\\n\", p_values)\n",
    "\n",
    "    # p-value가 significance_level보다 큰 변수 제거\n",
    "    while max(p_values) > significance_level:\n",
    "        # 가장 큰 p-value 변수 제거\n",
    "        max_p_value_column = p_values.idxmax()  # p-value가 가장 큰 변수\n",
    "        X = X.drop(columns=[max_p_value_column])  # 해당 변수 제거\n",
    "        model = sm.OLS(y, X).fit()  # 새로운 모델 학습\n",
    "        p_values = model.pvalues  # 새 p-value 계산\n",
    "        print(f\"\\n변수 '{max_p_value_column}'을 제거한 후 모델 p-values:\\n\", p_values)\n",
    "\n",
    "    return model\n",
    "\n",
    "# 후진 제거법 실행\n",
    "final_model = backward_elimination(X, y)\n",
    "\n",
    "# 최종 모델의 회귀식 출력\n",
    "def print_regression_equation(model):\n",
    "    intercept = model.params[0]\n",
    "    coefficients = model.params[1:]\n",
    "\n",
    "    equation = f\"Y = {intercept:.4f} \"\n",
    "    for i, coef in enumerate(coefficients):\n",
    "        equation += f\"+ {coef:.4f} * X{i+1} \"\n",
    "\n",
    "    print(\"\\n최종 회귀식:\")\n",
    "    print(equation)\n",
    "\n",
    "# 회귀식 출력\n",
    "print_regression_equation(final_model)\n",
    "\n",
    "# 최종 모델의 결과 출력\n",
    "print(\"\\n최종 모델 결과:\\n\", final_model.summary())"
   ]
  },
  {
   "cell_type": "markdown",
   "id": "3b75605b-3920-4350-b6a5-4822ac59eccb",
   "metadata": {
    "id": "3b75605b-3920-4350-b6a5-4822ac59eccb",
    "jp-MarkdownHeadingCollapsed": true
   },
   "source": [
    "### 추가결제금액 회귀"
   ]
  },
  {
   "cell_type": "code",
   "execution_count": 73,
   "id": "a83a76d3-ef1a-4cac-b54d-99990a932757",
   "metadata": {
    "id": "a83a76d3-ef1a-4cac-b54d-99990a932757"
   },
   "outputs": [
    {
     "name": "stdout",
     "output_type": "stream",
     "text": [
      "모델 p-values:\n",
      " const        0.000\n",
      "연령           0.279\n",
      "프로그램수정횟수     0.000\n",
      "수수료율         0.551\n",
      "이용자수         0.823\n",
      "서비스총구매수      0.000\n",
      "총구매금액        0.000\n",
      "new_총수정요청수   0.000\n",
      "서비스가격        0.000\n",
      "dtype: float64\n",
      "\n",
      "변수 '이용자수'을 제거한 후 모델 p-values:\n",
      " const        0.000\n",
      "연령           0.279\n",
      "프로그램수정횟수     0.000\n",
      "수수료율         0.552\n",
      "서비스총구매수      0.000\n",
      "총구매금액        0.000\n",
      "new_총수정요청수   0.000\n",
      "서비스가격        0.000\n",
      "dtype: float64\n",
      "\n",
      "변수 '수수료율'을 제거한 후 모델 p-values:\n",
      " const        0.000\n",
      "연령           0.278\n",
      "프로그램수정횟수     0.000\n",
      "서비스총구매수      0.000\n",
      "총구매금액        0.000\n",
      "new_총수정요청수   0.000\n",
      "서비스가격        0.000\n",
      "dtype: float64\n",
      "\n",
      "변수 '연령'을 제거한 후 모델 p-values:\n",
      " const        0.000\n",
      "프로그램수정횟수     0.000\n",
      "서비스총구매수      0.000\n",
      "총구매금액        0.000\n",
      "new_총수정요청수   0.000\n",
      "서비스가격        0.000\n",
      "dtype: float64\n",
      "\n",
      "최종 회귀식:\n",
      "Y = 3.7727 + 2.5337 * X1 + -0.7067 * X2 + 0.2360 * X3 + -0.4057 * X4 + -0.0714 * X5 \n",
      "\n",
      "최종 모델 결과:\n",
      "                             OLS Regression Results                            \n",
      "==============================================================================\n",
      "Dep. Variable:                 추가결제금액   R-squared:                       0.131\n",
      "Model:                            OLS   Adj. R-squared:                  0.131\n",
      "Method:                 Least Squares   F-statistic:                     9334.\n",
      "Date:                Mon, 31 Mar 2025   Prob (F-statistic):               0.00\n",
      "Time:                        15:24:59   Log-Likelihood:            -8.7522e+05\n",
      "No. Observations:              310432   AIC:                         1.750e+06\n",
      "Df Residuals:                  310426   BIC:                         1.751e+06\n",
      "Df Model:                           5                                         \n",
      "Covariance Type:            nonrobust                                         \n",
      "==============================================================================\n",
      "                 coef    std err          t      P>|t|      [0.025      0.975]\n",
      "------------------------------------------------------------------------------\n",
      "const          3.7727      0.070     54.062      0.000       3.636       3.909\n",
      "프로그램수정횟수       2.5337      0.021    120.353      0.000       2.492       2.575\n",
      "서비스총구매수       -0.7067      0.009    -79.627      0.000      -0.724      -0.689\n",
      "총구매금액          0.2360      0.006     42.599      0.000       0.225       0.247\n",
      "new_총수정요청수    -0.4057      0.012    -33.575      0.000      -0.429      -0.382\n",
      "서비스가격         -0.0714      0.006    -11.407      0.000      -0.084      -0.059\n",
      "==============================================================================\n",
      "Omnibus:                  1453896.355   Durbin-Watson:                   1.746\n",
      "Prob(Omnibus):                  0.000   Jarque-Bera (JB):            34385.378\n",
      "Skew:                          -0.015   Prob(JB):                         0.00\n",
      "Kurtosis:                       1.370   Cond. No.                         153.\n",
      "==============================================================================\n",
      "\n",
      "Notes:\n",
      "[1] Standard Errors assume that the covariance matrix of the errors is correctly specified.\n"
     ]
    }
   ],
   "source": [
    "import numpy as np\n",
    "import pandas as pd\n",
    "import statsmodels.api as sm\n",
    "from sklearn.model_selection import train_test_split\n",
    "\n",
    "# 독립 변수(X)와 종속 변수(y) 분리 /   \"총추가결제금액\"\n",
    "X = df[[\"연령\",'프로그램수정횟수','수수료율','이용자수','서비스총구매수','총구매금액',\"new_총수정요청수\",\"서비스가격\"]]  # 독립 변수들\n",
    "y = df['추가결제금액']  # 종속 변수\n",
    "\n",
    "# 상수항 추가 (절편 추가)\n",
    "X = sm.add_constant(X)\n",
    "\n",
    "# 후진 제거법 구현\n",
    "def backward_elimination(X, y, significance_level=0.05):\n",
    "    # 전체 모델 적합\n",
    "    model = sm.OLS(y, X).fit()\n",
    "\n",
    "    # p-value 확인\n",
    "    p_values = model.pvalues\n",
    "    print(\"모델 p-values:\\n\", p_values)\n",
    "\n",
    "    # p-value가 significance_level보다 큰 변수 제거\n",
    "    while max(p_values) > significance_level:\n",
    "        # 가장 큰 p-value 변수 제거\n",
    "        max_p_value_column = p_values.idxmax()  # p-value가 가장 큰 변수\n",
    "        X = X.drop(columns=[max_p_value_column])  # 해당 변수 제거\n",
    "        model = sm.OLS(y, X).fit()  # 새로운 모델 학습\n",
    "        p_values = model.pvalues  # 새 p-value 계산\n",
    "        print(f\"\\n변수 '{max_p_value_column}'을 제거한 후 모델 p-values:\\n\", p_values)\n",
    "\n",
    "    return model\n",
    "\n",
    "# 후진 제거법 실행\n",
    "final_model = backward_elimination(X, y)\n",
    "\n",
    "# 최종 모델의 회귀식 출력\n",
    "def print_regression_equation(model):\n",
    "    intercept = model.params[0]\n",
    "    coefficients = model.params[1:]\n",
    "\n",
    "    equation = f\"Y = {intercept:.4f} \"\n",
    "    for i, coef in enumerate(coefficients):\n",
    "        equation += f\"+ {coef:.4f} * X{i+1} \"\n",
    "\n",
    "    print(\"\\n최종 회귀식:\")\n",
    "    print(equation)\n",
    "\n",
    "# 회귀식 출력\n",
    "print_regression_equation(final_model)\n",
    "\n",
    "# 최종 모델의 결과 출력\n",
    "print(\"\\n최종 모델 결과:\\n\", final_model.summary())"
   ]
  },
  {
   "cell_type": "markdown",
   "id": "a4b435e5-65d9-408f-9399-eec67c75f6b7",
   "metadata": {
    "id": "a4b435e5-65d9-408f-9399-eec67c75f6b7"
   },
   "source": [
    "### 회귀 범주"
   ]
  },
  {
   "cell_type": "markdown",
   "id": "1f3681a4-74ba-4e4a-92a5-34d6f467ff12",
   "metadata": {
    "id": "1f3681a4-74ba-4e4a-92a5-34d6f467ff12",
    "jp-MarkdownHeadingCollapsed": true
   },
   "source": [
    "### 평균평점 프로그램 수정수\n",
    "- 상관계수랑 그래프를 확인하니 경향성 확인\n",
    "- 최종적으로 회귀분석 결과 유의한가 안한가"
   ]
  },
  {
   "cell_type": "code",
   "execution_count": 74,
   "id": "4179e789-ec15-4c22-b0bc-d1bd3d9bdede",
   "metadata": {
    "id": "4179e789-ec15-4c22-b0bc-d1bd3d9bdede"
   },
   "outputs": [
    {
     "name": "stdout",
     "output_type": "stream",
     "text": [
      "p-values:\n",
      " const        0.000\n",
      "new_총수정요청수   0.000\n",
      "dtype: float64\n",
      "\n",
      "최종 회귀식:\n",
      "Y = 4.8284 + 0.0051 * X1 \n",
      "\n",
      "최종 모델 결과:\n",
      "                             OLS Regression Results                            \n",
      "==============================================================================\n",
      "Dep. Variable:                   평균평점   R-squared:                       0.000\n",
      "Model:                            OLS   Adj. R-squared:                  0.000\n",
      "Method:                 Least Squares   F-statistic:                     15.94\n",
      "Date:                Mon, 31 Mar 2025   Prob (F-statistic):           6.55e-05\n",
      "Time:                        15:24:59   Log-Likelihood:            -3.7464e+05\n",
      "No. Observations:              310424   AIC:                         7.493e+05\n",
      "Df Residuals:                  310422   BIC:                         7.493e+05\n",
      "Df Model:                           1                                         \n",
      "Covariance Type:            nonrobust                                         \n",
      "==============================================================================\n",
      "                 coef    std err          t      P>|t|      [0.025      0.975]\n",
      "------------------------------------------------------------------------------\n",
      "const          4.8284      0.002   2758.132      0.000       4.825       4.832\n",
      "new_총수정요청수     0.0051      0.001      3.992      0.000       0.003       0.008\n",
      "==============================================================================\n",
      "Omnibus:                   328928.599   Durbin-Watson:                   0.428\n",
      "Prob(Omnibus):                  0.000   Jarque-Bera (JB):         14066878.746\n",
      "Skew:                          -5.688   Prob(JB):                         0.00\n",
      "Kurtosis:                      33.954   Cond. No.                         2.05\n",
      "==============================================================================\n",
      "\n",
      "Notes:\n",
      "[1] Standard Errors assume that the covariance matrix of the errors is correctly specified.\n"
     ]
    }
   ],
   "source": [
    "import numpy as np\n",
    "import pandas as pd\n",
    "import statsmodels.api as sm\n",
    "from sklearn.model_selection import train_test_split\n",
    "\n",
    "# 독립 변수(X)와 종속 변수(y) 분리\n",
    "df_or_nzero = df[df.평균평점 != 0]\n",
    "df_or_nzero = df[df.평균평점 != 1]\n",
    "\n",
    "X = df_or_nzero[\"new_총수정요청수\"]\n",
    "y = df_or_nzero['평균평점']\n",
    "\n",
    "# 상수항 추가 (절편 추가)\n",
    "X = sm.add_constant(X)\n",
    "\n",
    "# 후진 제거법 구현\n",
    "def backward_elimination(X, y, significance_level=0.05):\n",
    "    # 전체 모델 적합\n",
    "    model = sm.OLS(y, X).fit()\n",
    "\n",
    "    # p-value 확인\n",
    "    p_values = model.pvalues\n",
    "    print(\"p-values:\\n\", p_values)\n",
    "\n",
    "    # p-value가 significance_level보다 큰 변수 제거\n",
    "    while max(p_values) > significance_level:\n",
    "        # 가장 큰 p-value 변수 제거\n",
    "        max_p_value_column = p_values.idxmax()  # p-value가 가장 큰 변수\n",
    "        X = X.drop(columns=[max_p_value_column])  # 해당 변수 제거\n",
    "        model = sm.OLS(y, X).fit()  # 새로운 모델 학습\n",
    "        p_values = model.pvalues  # 새 p-value 계산\n",
    "        print(f\"\\n변수 '{max_p_value_column}'을 제거한 후 모델 p-values:\\n\", p_values)\n",
    "\n",
    "    return model\n",
    "\n",
    "# 후진 제거법 실행\n",
    "final_model = backward_elimination(X, y)\n",
    "\n",
    "# 최종 모델의 회귀식 출력\n",
    "def print_regression_equation(model):\n",
    "    intercept = model.params[0]\n",
    "    coefficients = model.params[1:]\n",
    "\n",
    "    equation = f\"Y = {intercept:.4f} \"\n",
    "    for i, coef in enumerate(coefficients):\n",
    "        equation += f\"+ {coef:.4f} * X{i+1} \"\n",
    "\n",
    "    print(\"\\n최종 회귀식:\")\n",
    "    print(equation)\n",
    "\n",
    "# 회귀식 출력\n",
    "print_regression_equation(final_model)\n",
    "\n",
    "# 최종 모델의 결과 출력\n",
    "print(\"\\n최종 모델 결과:\\n\", final_model.summary())\n"
   ]
  },
  {
   "cell_type": "markdown",
   "id": "86155aff-3c27-45d6-9761-9bb1f6f5c1e5",
   "metadata": {
    "id": "86155aff-3c27-45d6-9761-9bb1f6f5c1e5",
    "jp-MarkdownHeadingCollapsed": true
   },
   "source": [
    "### 구간화된 평점 & 총수정요청수"
   ]
  },
  {
   "cell_type": "code",
   "execution_count": 75,
   "id": "4eca759d-3996-4a15-aa1e-3e879b1cd9b1",
   "metadata": {
    "id": "4eca759d-3996-4a15-aa1e-3e879b1cd9b1"
   },
   "outputs": [
    {
     "name": "stdout",
     "output_type": "stream",
     "text": [
      "new_총수정요청수 와 평균평점_구간화 ANOVA 결과:\n",
      "F-statistic: 2.9434, p-value: 0.0044\n",
      "\n",
      "Tukey HSD 결과:\n",
      "     Multiple Comparison of Means - Tukey HSD, FWER=0.05      \n",
      "==============================================================\n",
      "   group1      group2   meandiff p-adj   lower   upper  reject\n",
      "--------------------------------------------------------------\n",
      "0.5초과 1.0이하 2.0초과 2.5이하  -0.3415 0.9989 -2.0692  1.3862  False\n",
      "0.5초과 1.0이하 2.5초과 3.0이하   0.1794 0.9999 -1.1142  1.4729  False\n",
      "0.5초과 1.0이하 3.0초과 3.5이하   0.1543    1.0 -1.0942  1.4028  False\n",
      "0.5초과 1.0이하 3.5초과 4.0이하   0.1591 0.9999 -1.0651  1.3834  False\n",
      "0.5초과 1.0이하 4.0초과 4.5이하   0.1503    1.0 -1.0733  1.3739  False\n",
      "0.5초과 1.0이하 4.5초과 5.0이하   0.1783 0.9999 -1.0434     1.4  False\n",
      "0.5초과 1.0이하        리뷰없음   0.1261    1.0 -1.0962  1.3483  False\n",
      "2.0초과 2.5이하 2.5초과 3.0이하   0.5209 0.9262 -0.7727  1.8144  False\n",
      "2.0초과 2.5이하 3.0초과 3.5이하   0.4958 0.9311 -0.7527  1.7443  False\n",
      "2.0초과 2.5이하 3.5초과 4.0이하   0.5006 0.9202 -0.7236  1.7249  False\n",
      "2.0초과 2.5이하 4.0초과 4.5이하   0.4918 0.9268 -0.7318  1.7154  False\n",
      "2.0초과 2.5이하 4.5초과 5.0이하   0.5198  0.903 -0.7018  1.7415  False\n",
      "2.0초과 2.5이하        리뷰없음   0.4676 0.9432 -0.7547  1.6898  False\n",
      "2.5초과 3.0이하 3.0초과 3.5이하  -0.0251    1.0 -0.5223  0.4722  False\n",
      "2.5초과 3.0이하 3.5초과 4.0이하  -0.0202    1.0  -0.453  0.4125  False\n",
      "2.5초과 3.0이하 4.0초과 4.5이하   -0.029    1.0 -0.4599  0.4018  False\n",
      "2.5초과 3.0이하 4.5초과 5.0이하   -0.001    1.0 -0.4264  0.4243  False\n",
      "2.5초과 3.0이하        리뷰없음  -0.0533 0.9999 -0.4803  0.3737  False\n",
      "3.0초과 3.5이하 3.5초과 4.0이하   0.0048    1.0 -0.2648  0.2744  False\n",
      "3.0초과 3.5이하 4.0초과 4.5이하   -0.004    1.0 -0.2706  0.2626  False\n",
      "3.0초과 3.5이하 4.5초과 5.0이하    0.024    1.0 -0.2336  0.2816  False\n",
      "3.0초과 3.5이하        리뷰없음  -0.0282    1.0 -0.2886  0.2321  False\n",
      "3.5초과 4.0이하 4.0초과 4.5이하  -0.0088    1.0 -0.1142  0.0966  False\n",
      "3.5초과 4.0이하 4.5초과 5.0이하   0.0192 0.9962 -0.0608  0.0992  False\n",
      "3.5초과 4.0이하        리뷰없음  -0.0331 0.9494 -0.1214  0.0553  False\n",
      "4.0초과 4.5이하 4.5초과 5.0이하    0.028 0.9246 -0.0412  0.0972  False\n",
      "4.0초과 4.5이하        리뷰없음  -0.0242 0.9829  -0.103  0.0545  False\n",
      "4.5초과 5.0이하        리뷰없음  -0.0522  0.001 -0.0907 -0.0137   True\n",
      "--------------------------------------------------------------\n"
     ]
    },
    {
     "data": {
      "image/png": "[encoded data removed]",
      "text/plain": [
       "<Figure size 1000x600 with 1 Axes>"
      ]
     },
     "metadata": {},
     "output_type": "display_data"
    }
   ],
   "source": [
    "import numpy as np\n",
    "import pandas as pd\n",
    "import scipy.stats as stats\n",
    "\n",
    "group1 = df[df.평균평점_구간화 == \"4.5초과 5.0이하\"].new_총수정요청수\n",
    "group2 = df[df.평균평점_구간화 == \"4.0초과 4.5이하\"].new_총수정요청수\n",
    "group3 = df[df.평균평점_구간화 == \"3.5초과 4.0이하\"].new_총수정요청수\n",
    "group4 = df[df.평균평점_구간화 == \"3.0초과 3.5이하\"].new_총수정요청수\n",
    "group5 = df[df.평균평점_구간화 == \"2.5초과 3.0이하\"].new_총수정요청수\n",
    "group6 = df[df.평균평점_구간화 == \"2.0초과 2.5이하\"].new_총수정요청수\n",
    "group7 = df[df.평균평점_구간화 == \"0.5초과 1.0이하\"].new_총수정요청수\n",
    "group8 = df[df.평균평점_구간화 == \"리뷰없음\"].new_총수정요청수\n",
    "\n",
    "# ANOVA 수행\n",
    "f_stat, p_value = stats.f_oneway(group1, group2, group3,group4,group5,group6,group7,group8)\n",
    "\n",
    "# 결과 출력\n",
    "print(\"new_총수정요청수 와 평균평점_구간화 ANOVA 결과:\")\n",
    "print(f\"F-statistic: {f_stat:.4f}, p-value: {p_value:.4f}\")\n",
    "\n",
    "# 사후검정 (Tukey HSD)\n",
    "from statsmodels.stats.multicomp import pairwise_tukeyhsd\n",
    "\n",
    "# 데이터프레임 변환\n",
    "\n",
    "tukey_result = pairwise_tukeyhsd(df['new_총수정요청수'], df['평균평점_구간화'], alpha=0.05)\n",
    "\n",
    "# 사후검정 결과 출력\n",
    "print(\"\\nTukey HSD 결과:\")\n",
    "print(tukey_result)\n",
    "\n",
    "# 시각화\n",
    "import matplotlib.pyplot as plt\n",
    "tukey_result.plot_simultaneous()\n",
    "plt.show()"
   ]
  },
  {
   "cell_type": "markdown",
   "id": "af4c9ca3-c510-4714-8f4b-766b1213757f",
   "metadata": {
    "id": "af4c9ca3-c510-4714-8f4b-766b1213757f",
    "jp-MarkdownHeadingCollapsed": true
   },
   "source": [
    "### 이용자수 분산분석"
   ]
  },
  {
   "cell_type": "code",
   "execution_count": 76,
   "id": "db9d02bb-c998-4f62-b3a0-28235e0b73d7",
   "metadata": {
    "id": "db9d02bb-c998-4f62-b3a0-28235e0b73d7"
   },
   "outputs": [
    {
     "name": "stdout",
     "output_type": "stream",
     "text": [
      "Levene 검정 통계량: 234228.0528\n",
      "p-value: 0.0000\n",
      "귀무가설 기각 → 두 집단의 분산은 다르다!\n"
     ]
    }
   ],
   "source": [
    "from scipy.stats import levene\n",
    "\n",
    "# 두 집단 데이터\n",
    "group1 = df[\"이용자수\"]\n",
    "group2 = df[\"평균평점\"]\n",
    "\n",
    "# Levene 검정 실행\n",
    "stat, p = levene(group1, group2)\n",
    "\n",
    "print(f\"Levene 검정 통계량: {stat:.4f}\")\n",
    "print(f\"p-value: {p:.4f}\")\n",
    "\n",
    "# 결과 해석\n",
    "alpha = 0.05\n",
    "if p < alpha:\n",
    "    print(\"귀무가설 기각 → 두 집단의 분산은 다르다!\")\n",
    "else:\n",
    "    print(\"귀무가설 채택 → 두 집단의 분산은 같다.\")"
   ]
  },
  {
   "cell_type": "code",
   "execution_count": 77,
   "id": "d228cf94-db32-4c4b-b424-62fd478e88e2",
   "metadata": {
    "id": "d228cf94-db32-4c4b-b424-62fd478e88e2"
   },
   "outputs": [
    {
     "name": "stdout",
     "output_type": "stream",
     "text": [
      "Levene 검정 통계량: 234228.0528\n",
      "p-value: 0.0000\n",
      "귀무가설 기각 → 두 집단의 분산은 다르다!\n"
     ]
    }
   ],
   "source": [
    "from scipy.stats import levene\n",
    "\n",
    "# 두 집단 데이터\n",
    "group1 = df[\"이용자수\"]\n",
    "group2 = df[\"평균평점\"]\n",
    "\n",
    "# Levene 검정 실행\n",
    "stat, p = levene(group1, group2)\n",
    "\n",
    "print(f\"Levene 검정 통계량: {stat:.4f}\")\n",
    "print(f\"p-value: {p:.4f}\")\n",
    "\n",
    "# 결과 해석\n",
    "alpha = 0.05\n",
    "if p < alpha:\n",
    "    print(\"귀무가설 기각 → 두 집단의 분산은 다르다!\")\n",
    "else:\n",
    "    print(\"귀무가설 채택 → 두 집단의 분산은 같다.\")\n"
   ]
  },
  {
   "cell_type": "markdown",
   "id": "c3bdc4f9-445c-4693-91cc-52a19ba36246",
   "metadata": {
    "id": "c3bdc4f9-445c-4693-91cc-52a19ba36246",
    "jp-MarkdownHeadingCollapsed": true
   },
   "source": [
    "### 거래취소 여부에 따른 T검정"
   ]
  },
  {
   "cell_type": "code",
   "execution_count": 78,
   "id": "f887adaa-1d6f-41c7-910e-7efba52e07fe",
   "metadata": {
    "id": "f887adaa-1d6f-41c7-910e-7efba52e07fe"
   },
   "outputs": [
    {
     "name": "stdout",
     "output_type": "stream",
     "text": [
      "t-statistic: -32.13245917537521\n",
      "p-value: 3.6635201144627586e-226\n",
      "두 그룹의 평균에 유의미한 차이가 있습니다.\n"
     ]
    }
   ],
   "source": [
    "import scipy.stats as stats\n",
    "\n",
    "df_취소 = df[df['거래취소여부'] == 1]\n",
    "df_안취소 = df[df['거래취소여부'] == 0]\n",
    "\n",
    "group1 = df_취소.프로그램수정횟수\n",
    "group2 = df_안취소.프로그램수정횟수\n",
    "\n",
    "# 독립 표본 t-검정 수행\n",
    "t_stat, p_value = stats.ttest_ind(group1, group2)\n",
    "\n",
    "# 결과 출력\n",
    "print(\"t-statistic:\", t_stat)\n",
    "print(\"p-value:\", p_value)\n",
    "\n",
    "# p-value가 0.05보다 작은지 확인하여 유의성 판단\n",
    "if p_value < 0.05:\n",
    "    print(\"두 그룹의 평균에 유의미한 차이가 있습니다.\")\n",
    "else:\n",
    "    print(\"두 그룹의 평균에 유의미한 차이가 없습니다.\")"
   ]
  },
  {
   "cell_type": "code",
   "execution_count": 79,
   "id": "6c50ea46-6962-499a-be71-9c9c7379312d",
   "metadata": {
    "id": "6c50ea46-6962-499a-be71-9c9c7379312d"
   },
   "outputs": [
    {
     "name": "stdout",
     "output_type": "stream",
     "text": [
      "t-statistic: -50.757967827245615\n",
      "p-value: 0.0\n",
      "두 그룹의 평균에 유의미한 차이가 있습니다.\n"
     ]
    }
   ],
   "source": [
    "import scipy.stats as stats\n",
    "\n",
    "df_취소 = df[df['거래취소여부'] == 1]\n",
    "df_안취소 = df[df['거래취소여부'] == 0]\n",
    "\n",
    "group1 = df_취소.추가결제금액\n",
    "group2 = df_안취소.추가결제금액\n",
    "\n",
    "# 독립 표본 t-검정 수행\n",
    "t_stat, p_value = stats.ttest_ind(group1, group2)\n",
    "\n",
    "# 결과 출력\n",
    "print(\"t-statistic:\", t_stat)\n",
    "print(\"p-value:\", p_value)\n",
    "\n",
    "# p-value가 0.05보다 작은지 확인하여 유의성 판단\n",
    "if p_value < 0.05:\n",
    "    print(\"두 그룹의 평균에 유의미한 차이가 있습니다.\")\n",
    "else:\n",
    "    print(\"두 그룹의 평균에 유의미한 차이가 없습니다.\")"
   ]
  },
  {
   "cell_type": "code",
   "execution_count": 80,
   "id": "2d6054fd-619a-4a85-99f5-64325e1e669c",
   "metadata": {
    "id": "2d6054fd-619a-4a85-99f5-64325e1e669c",
    "scrolled": true
   },
   "outputs": [
    {
     "name": "stdout",
     "output_type": "stream",
     "text": [
      "t-statistic: 6.69401112149207\n",
      "p-value: 2.1750181933414136e-11\n",
      "두 그룹의 평균에 유의미한 차이가 있습니다.\n"
     ]
    }
   ],
   "source": [
    "import scipy.stats as stats\n",
    "\n",
    "df_취소 = df[df['거래취소여부'] == 1]\n",
    "df_안취소 = df[df['거래취소여부'] == 0]\n",
    "\n",
    "group1 = df_취소.서비스가격\n",
    "group2 = df_안취소.서비스가격\n",
    "\n",
    "# 독립 표본 t-검정 수행\n",
    "t_stat, p_value = stats.ttest_ind(group1, group2)\n",
    "\n",
    "# 결과 출력\n",
    "print(\"t-statistic:\", t_stat)\n",
    "print(\"p-value:\", p_value)\n",
    "\n",
    "# p-value가 0.05보다 작은지 확인하여 유의성 판단\n",
    "if p_value < 0.05:\n",
    "    print(\"두 그룹의 평균에 유의미한 차이가 있습니다.\")\n",
    "else:\n",
    "    print(\"두 그룹의 평균에 유의미한 차이가 없습니다.\")"
   ]
  },
  {
   "cell_type": "code",
   "execution_count": 81,
   "id": "e887ca21-02b1-4d05-a537-61fc81e0c8e5",
   "metadata": {
    "id": "e887ca21-02b1-4d05-a537-61fc81e0c8e5"
   },
   "outputs": [
    {
     "name": "stdout",
     "output_type": "stream",
     "text": [
      "t-statistic: -213.52828862390388\n",
      "p-value: 0.0\n",
      "두 그룹의 평균에 유의미한 차이가 있습니다.\n"
     ]
    }
   ],
   "source": [
    "import scipy.stats as stats\n",
    "\n",
    "df_취소 = df[df['거래취소여부'] == 1]\n",
    "df_안취소 = df[df['거래취소여부'] == 0]\n",
    "\n",
    "group1 = df_취소.총구매금액\n",
    "group2 = df_안취소.총구매금액\n",
    "\n",
    "# 독립 표본 t-검정 수행\n",
    "t_stat, p_value = stats.ttest_ind(group1, group2)\n",
    "\n",
    "# 결과 출력\n",
    "print(\"t-statistic:\", t_stat)\n",
    "print(\"p-value:\", p_value)\n",
    "\n",
    "# p-value가 0.05보다 작은지 확인하여 유의성 판단\n",
    "if p_value < 0.05:\n",
    "    print(\"두 그룹의 평균에 유의미한 차이가 있습니다.\")\n",
    "else:\n",
    "    print(\"두 그룹의 평균에 유의미한 차이가 없습니다.\")"
   ]
  },
  {
   "cell_type": "code",
   "execution_count": 82,
   "id": "6c9c4493-846f-4f12-899e-86547bbd4228",
   "metadata": {
    "id": "6c9c4493-846f-4f12-899e-86547bbd4228"
   },
   "outputs": [
    {
     "name": "stdout",
     "output_type": "stream",
     "text": [
      "t-statistic: -14.376832336322185\n",
      "p-value: 7.488566614791643e-47\n",
      "두 그룹의 평균에 유의미한 차이가 있습니다.\n"
     ]
    }
   ],
   "source": [
    "import scipy.stats as stats\n",
    "\n",
    "df_취소 = df[df['거래취소여부'] == 1]\n",
    "df_안취소 = df[df['거래취소여부'] == 0]\n",
    "\n",
    "group1 = df_취소.총추가결제금액\n",
    "group2 = df_안취소.총추가결제금액\n",
    "\n",
    "# 독립 표본 t-검정 수행\n",
    "t_stat, p_value = stats.ttest_ind(group1, group2)\n",
    "\n",
    "# 결과 출력\n",
    "print(\"t-statistic:\", t_stat)\n",
    "print(\"p-value:\", p_value)\n",
    "\n",
    "# p-value가 0.05보다 작은지 확인하여 유의성 판단\n",
    "if p_value < 0.05:\n",
    "    print(\"두 그룹의 평균에 유의미한 차이가 있습니다.\")\n",
    "else:\n",
    "    print(\"두 그룹의 평균에 유의미한 차이가 없습니다.\")"
   ]
  },
  {
   "cell_type": "code",
   "execution_count": 83,
   "id": "cb66f571-b8f6-4da6-b00f-b78aa42e15c9",
   "metadata": {
    "id": "cb66f571-b8f6-4da6-b00f-b78aa42e15c9"
   },
   "outputs": [
    {
     "name": "stdout",
     "output_type": "stream",
     "text": [
      "t-statistic: -27.160324794657708\n",
      "p-value: 2.9653677196831063e-162\n",
      "두 그룹의 평균에 유의미한 차이가 있습니다.\n"
     ]
    }
   ],
   "source": [
    "import scipy.stats as stats\n",
    "\n",
    "df_취소 = df[df['거래취소여부'] == 1]\n",
    "df_안취소 = df[df['거래취소여부'] == 0]\n",
    "\n",
    "group1 = df_취소.new_총수정요청수\n",
    "group2 = df_안취소.new_총수정요청수\n",
    "\n",
    "# 독립 표본 t-검정 수행\n",
    "t_stat, p_value = stats.ttest_ind(group1, group2)\n",
    "\n",
    "# 결과 출력\n",
    "print(\"t-statistic:\", t_stat)\n",
    "print(\"p-value:\", p_value)\n",
    "\n",
    "# p-value가 0.05보다 작은지 확인하여 유의성 판단\n",
    "if p_value < 0.05:\n",
    "    print(\"두 그룹의 평균에 유의미한 차이가 있습니다.\")\n",
    "else:\n",
    "    print(\"두 그룹의 평균에 유의미한 차이가 없습니다.\")"
   ]
  },
  {
   "cell_type": "markdown",
   "id": "0c6b0758-602a-4066-8bfd-136dadcd5966",
   "metadata": {
    "id": "0c6b0758-602a-4066-8bfd-136dadcd5966",
    "jp-MarkdownHeadingCollapsed": true
   },
   "source": [
    "### 거래취소여부"
   ]
  },
  {
   "cell_type": "code",
   "execution_count": 84,
   "id": "3f813b25-d6e2-4df9-9843-7e3a9d2cf41e",
   "metadata": {
    "id": "3f813b25-d6e2-4df9-9843-7e3a9d2cf41e"
   },
   "outputs": [
    {
     "name": "stdout",
     "output_type": "stream",
     "text": [
      "**유의**\n",
      "거주지\n",
      "카이제곱통계량 : 16.960877494154175, 유의확률 :0.01, 자유도: 6\n",
      "------------------------------\n",
      "**유의**\n",
      "대분류\n",
      "카이제곱통계량 : 278.4606376726579, 유의확률 :0.00, 자유도: 11\n",
      "------------------------------\n",
      "**유의**\n",
      "사용기기_제조사\n",
      "카이제곱통계량 : 11.304016337869555, 유의확률 :0.01, 자유도: 3\n",
      "------------------------------\n",
      "**유의**\n",
      "서비스명\n",
      "카이제곱통계량 : 12855.682889792675, 유의확률 :0.00, 자유도: 2763\n",
      "------------------------------\n",
      "#########성별는 거래취소여부와 유의하지 않음\n",
      "#########수수료율는 거래취소여부와 유의하지 않음\n",
      "#########신속_알람_서비스_사용여부는 거래취소여부와 유의하지 않음\n",
      "**유의**\n",
      "운영체제\n",
      "카이제곱통계량 : 9.040406124481095, 유의확률 :0.00, 자유도: 1\n",
      "------------------------------\n",
      "#########유입경로는 거래취소여부와 유의하지 않음\n",
      "**유의**\n",
      "일회다회\n",
      "카이제곱통계량 : 447.2418002733479, 유의확률 :0.00, 자유도: 1\n",
      "------------------------------\n",
      "**유의**\n",
      "판매자\n",
      "카이제곱통계량 : 11008.108972542374, 유의확률 :0.00, 자유도: 2052\n",
      "------------------------------\n",
      "#########프리미엄_서비스_가입여부는 거래취소여부와 유의하지 않음\n",
      "#########회원상태는 거래취소여부와 유의하지 않음\n"
     ]
    }
   ],
   "source": [
    "col = [ '거주지', '대분류', '사용기기_제조사', '서비스명', '성별', '수수료율', '신속_알람_서비스_사용여부', '운영체제', '유입경로', '일회다회', '판매자', '프리미엄_서비스_가입여부', '회원상태']\n",
    "기준='거래취소여부'\n",
    "for c in col:\n",
    "    obs = pd.crosstab(df[기준], df[c])\n",
    "    chi2_stat, p_value, dof, expected = chi2_contingency(obs)\n",
    "    if p_value<0.05:\n",
    "        print('**유의**')\n",
    "        print(c)\n",
    "        print(f'카이제곱통계량 : {chi2_stat}, 유의확률 :{p_value:.2f}, 자유도: {dof}')\n",
    "        print('-'*30)\n",
    "    else :\n",
    "        print(f'#########{c}는 거래취소여부와 유의하지 않음')"
   ]
  },
  {
   "cell_type": "code",
   "execution_count": 85,
   "id": "91528a89-8d1a-4497-99db-239415312984",
   "metadata": {
    "id": "91528a89-8d1a-4497-99db-239415312984"
   },
   "outputs": [
    {
     "name": "stdout",
     "output_type": "stream",
     "text": [
      "거래취소여부\n",
      "-32.13245917537521 3.6635201144627586e-226\n",
      "------------------------------\n",
      "거래취소여부\n",
      "-50.757967827245615 0.0\n",
      "------------------------------\n",
      "거래취소여부\n",
      "-738.965755633047 0.0\n",
      "------------------------------\n",
      "거래취소여부\n",
      "6.69401112149207 2.1750181933414136e-11\n",
      "------------------------------\n",
      "#####이용자수와 거래취소여부는 유의하지 않음\n",
      "거래취소여부\n",
      "-441.0310657729171 0.0\n",
      "------------------------------\n",
      "거래취소여부\n",
      "-4.711409468231391 2.4611566636981003e-06\n",
      "------------------------------\n",
      "거래취소여부\n",
      "-4.288933894633007 1.7958694176106144e-05\n",
      "------------------------------\n",
      "거래취소여부\n",
      "-3.8405351317091636 0.000122790764960932\n",
      "------------------------------\n",
      "#####총_판매_금액와 거래취소여부는 유의하지 않음\n",
      "#####연령와 거래취소여부는 유의하지 않음\n",
      "거래취소여부\n",
      "-21.769397420812975 5.425734262369912e-105\n",
      "------------------------------\n",
      "거래취소여부\n",
      "-213.52828862390388 0.0\n",
      "------------------------------\n",
      "거래취소여부\n",
      "-14.376832336322185 7.488566614791643e-47\n",
      "------------------------------\n",
      "거래취소여부\n",
      "-16.868672917536102 8.168414303985926e-64\n",
      "------------------------------\n",
      "거래취소여부\n",
      "-27.160324794657708 2.9653677196831063e-162\n",
      "------------------------------\n",
      "#####연령대와 거래취소여부는 유의하지 않음\n"
     ]
    }
   ],
   "source": [
    "from scipy.stats import ttest_ind\n",
    "\n",
    "col = '거래취소여부'\n",
    "for c in ['프로그램수정횟수', '추가결제금액', '판매금액', '서비스가격', '이용자수', 'L사매출', '평균평점', '누적판매수',\n",
    "       '판매_서비스_수', '총_판매_금액', '연령', '서비스총구매수', '총구매금액', '총추가결제금액', '주문수',\n",
    "       'new_총수정요청수', '연령대']:\n",
    "\n",
    "    cond1 = df[col]== 1.0\n",
    "    cond2 = df[col]==0.0\n",
    "    g1 = df.loc[cond1,c]\n",
    "    g2 = df.loc[cond2,c]\n",
    "\n",
    "    t_value, p_value = ttest_ind(g1, g2, equal_var=True)\n",
    "    if p_value <0.05:\n",
    "        print(col)\n",
    "        print(t_value, p_value)\n",
    "        print('-'*30)\n",
    "    else :\n",
    "        print(f'#####{c}와 거래취소여부는 유의하지 않음')"
   ]
  },
  {
   "cell_type": "markdown",
   "id": "2a36935d-b6a4-4bc8-b705-4a147a125d2e",
   "metadata": {
    "id": "2a36935d-b6a4-4bc8-b705-4a147a125d2e",
    "jp-MarkdownHeadingCollapsed": true
   },
   "source": [
    "### 평점구간과 연관있는 연속형변수"
   ]
  },
  {
   "cell_type": "code",
   "execution_count": 86,
   "id": "ffc93446-2816-4f7f-9eac-f78e14c8e708",
   "metadata": {
    "id": "ffc93446-2816-4f7f-9eac-f78e14c8e708"
   },
   "outputs": [
    {
     "name": "stdout",
     "output_type": "stream",
     "text": [
      "프로그램수정횟수\n",
      "F_onewayResult(statistic=1.3134784946651432, pvalue=0.239006434382278)\n",
      "------------------------------\n",
      "추가결제금액\n",
      "F_onewayResult(statistic=6.98258191383248, pvalue=2.4009645246222066e-08)\n",
      "------------------------------\n",
      "판매금액\n",
      "F_onewayResult(statistic=411.6237339776919, pvalue=0.0)\n",
      "------------------------------\n",
      "서비스가격\n",
      "F_onewayResult(statistic=1444.1118099687883, pvalue=0.0)\n",
      "------------------------------\n",
      "평균평점\n",
      "F_onewayResult(statistic=6710505.310426693, pvalue=0.0)\n",
      "------------------------------\n",
      "판매_서비스_수\n",
      "F_onewayResult(statistic=506.20503237945906, pvalue=0.0)\n",
      "------------------------------\n",
      "총_판매_금액\n",
      "F_onewayResult(statistic=1155.2573000357484, pvalue=0.0)\n",
      "------------------------------\n",
      "연령\n",
      "F_onewayResult(statistic=1.5935877608359972, pvalue=0.1319992883649535)\n",
      "------------------------------\n",
      "총구매금액\n",
      "F_onewayResult(statistic=74.61321332269515, pvalue=1.5992323912971584e-108)\n",
      "------------------------------\n",
      "추가결제금액\n",
      "F_onewayResult(statistic=6.98258191383248, pvalue=2.4009645246222066e-08)\n",
      "------------------------------\n",
      "추가결제금액\n",
      "F_onewayResult(statistic=6.98258191383248, pvalue=2.4009645246222066e-08)\n",
      "------------------------------\n",
      "L사매출\n",
      "F_onewayResult(statistic=548.0753168146476, pvalue=0.0)\n",
      "------------------------------\n",
      "누적판매수\n",
      "F_onewayResult(statistic=586.5014661595909, pvalue=0.0)\n",
      "------------------------------\n",
      "new_총수정요청수\n",
      "F_onewayResult(statistic=2.94342277118241, pvalue=0.004403628515415354)\n",
      "------------------------------\n"
     ]
    }
   ],
   "source": [
    "from scipy.stats import f_oneway\n",
    "\n",
    "col_name = '평균평점_구간화'\n",
    "for c in [ '프로그램수정횟수', '추가결제금액',\n",
    "          '판매금액','서비스가격','평균평점','판매_서비스_수',\n",
    "          '총_판매_금액','연령','총구매금액','추가결제금액'\n",
    "          ,'추가결제금액','L사매출','누적판매수'\n",
    "         ,'new_총수정요청수']:\n",
    "\n",
    "    리뷰없음2 = df2[df2[col_name] == '리뷰없음'][c]\n",
    "\n",
    "    a0_5초과1_0이하 = df2[df2[col_name] == '0.5초과 1.0이하'][c]\n",
    "    a2_0초과2_5이하 = df2[df2[col_name] == '2.0초과 2.5이하'][c]\n",
    "    a2_5초과3_0이하 = df2[df2[col_name] == '2.5초과 3.0이하'][c]\n",
    "    a3_0초과3_5이하 = df2[df2[col_name] == '3.0초과 3.5이하'][c]\n",
    "    a3_5초과4_0이하 = df2[df2[col_name] == '3.5초과 4.0이하'][c]\n",
    "    a4_0초과4_5이하 = df2[df2[col_name] == '4.0초과 4.5이하'][c]\n",
    "    a4_5초과5_0이하 = df2[df2[col_name] == '4.5초과 5.0이하'][c]\n",
    "    print(c)\n",
    "\n",
    "    print(f_oneway(리뷰없음2\n",
    "                ,a0_5초과1_0이하\n",
    "                ,a2_0초과2_5이하\n",
    "                ,a2_5초과3_0이하\n",
    "                ,a3_0초과3_5이하\n",
    "                ,a3_5초과4_0이하\n",
    "                ,a4_0초과4_5이하\n",
    "                ,a4_5초과5_0이하))\n",
    "    print('-'*30)"
   ]
  },
  {
   "cell_type": "markdown",
   "id": "ad6d9b08-7505-4eb8-8905-7791a329d73a",
   "metadata": {
    "id": "ad6d9b08-7505-4eb8-8905-7791a329d73a",
    "jp-MarkdownHeadingCollapsed": true
   },
   "source": [
    "# RFM 분석\n",
    "\n",
    "\n",
    "- RFM 계산 (Recency구매 최근성, Frequency 구매 빈도, Monetary 구매금액)\n",
    "</br>\n",
    "R, F, M을 각각 1~5점으로 점수를 부여하였고, 그 점수는 20%, 40%, 60%, 80% 분위수를 계산해 5등분을 하여\n",
    "각 구간에 해당하면 그 구간의 점수 할당하였음\n",
    "</br>\n",
    "Recency\n",
    "- 최근 구매일이 가장 가까운 고객 (최근 구매함) → 5점\n",
    "오래된 고객 → 1점\n",
    "</br>\n",
    "Frequency\n",
    "- 구매빈도 : 고객이 거래 취소를 제외한 구매 횟수를 누적 합산\n",
    "(거래취소여부가 0인 것은 집계하지 않음)\n",
    "- 구매빈도 많을수록 5점에 가까움\n",
    "</br>\n",
    "Monetary\n",
    "</br>\n",
    "- RFM 점수 -> RFM점수는 345 처럼 R, F, M 점수를 연결한 것과 동일함\n",
    "- 그래서 RFM점수는 RFM점수별로 구매최근성, 구매빈도, 구매금액별로 할당된 점수를 기반으로 그룹화하여 고객층 타겟 전략에 활용함"
   ]
  },
  {
   "cell_type": "code",
   "execution_count": 87,
   "id": "ec8410c9-c324-4fcf-b98e-acf10b84795f",
   "metadata": {
    "id": "ec8410c9-c324-4fcf-b98e-acf10b84795f"
   },
   "outputs": [
    {
     "data": {
      "text/plain": [
       "(310432, 45)"
      ]
     },
     "execution_count": 87,
     "metadata": {},
     "output_type": "execute_result"
    }
   ],
   "source": [
    "latestdata = np.max(df['거래일자'])\n",
    "df['Recency'] = df['거래일자'].apply(lambda x: (latestdata- x).days)\n",
    "\n",
    "# Frequency 계산 (취소된 거래 제외)\n",
    "df2 = df.sort_values(by=['고객ID', '거래일자']).copy()\n",
    "df2['Frequency'] = df2.groupby('고객ID')['거래취소여부'].transform(lambda x: x.eq(0).cumsum()) # 거래 취소가 0이면 1씩 더하기\n",
    "\n",
    "df = df.sort_values(by=['고객ID', '거래일자'])\n",
    "df = pd.concat([df, df2['Frequency']], axis=1)\n",
    "\n",
    "#RFM 점수 계산 _ Quantile이용해서 분위수 기반으로 점수 계산\n",
    "quintiles = df[['Recency', 'Frequency', '총구매금액']].quantile([.2, .4, .6, .8]).to_dict()\n",
    "\n",
    "def r_score(x):\n",
    "    if x <= quintiles['Recency'][.2]:\n",
    "        return 5\n",
    "    elif x <= quintiles['Recency'][.4]:\n",
    "        return 4\n",
    "    elif x <= quintiles['Recency'][.6]:\n",
    "        return 3\n",
    "    elif x <= quintiles['Recency'][.8]:\n",
    "        return 2\n",
    "    else:\n",
    "        return 1\n",
    "\n",
    "def fm_score(x, c):\n",
    "    if x <= quintiles[c][.2]:\n",
    "        return 1\n",
    "    elif x <= quintiles[c][.4]:\n",
    "        return 2\n",
    "    elif x <= quintiles[c][.6]:\n",
    "        return 3\n",
    "    elif x <= quintiles[c][.8]:\n",
    "        return 4\n",
    "    else:\n",
    "        return 5\n",
    "\n",
    "df['R'] = df['Recency'].apply(r_score)\n",
    "df['F'] = df['Frequency'].apply(lambda x: fm_score(x, 'Frequency'))\n",
    "df['M'] = df['총구매금액'].apply(lambda x: fm_score(x, '총구매금액'))\n",
    "df['RFM_Score'] = df['R'].map(str) + df['F'].map(str) + df['M'].map(str)\n",
    "\n",
    "\n",
    "\n",
    "def calculate_rfm_scores(data):\n",
    "    quantiles = data[['Recency', 'Frequency', '총구매금액']].quantile([0.2, 0.4, 0.6, 0.8]).to_dict()\n",
    "\n",
    "    data['R'] = data['Recency'].apply(lambda x: 5 if x <= quantiles['Recency'][0.2] else 4 if x <= quantiles['Recency'][0.4] else 3 if x <= quantiles['Recency'][0.6] else 2 if x <= quantiles['Recency'][0.8] else 1)\n",
    "    data['F'] = data['Frequency'].apply(lambda x: 1 if x <= quantiles['Frequency'][0.2] else 2 if x <= quantiles['Frequency'][0.4] else 3 if x <= quantiles['Frequency'][0.6] else 4 if x <= quantiles['Frequency'][0.8] else 5)\n",
    "    data['M'] = data['총구매금액'].apply(lambda x: 1 if x <= quantiles['총구매금액'][0.2] else 2 if x <= quantiles['총구매금액'][0.4] else 3 if x <= quantiles['총구매금액'][0.6] else 4 if x <= quantiles['총구매금액'][0.8] else 5)\n",
    "\n",
    "    # RFM 점수 문자열 변환\n",
    "    data['RFM_Score'] = data['R'].astype(str) + data['F'].astype(str) + data['M'].astype(str)\n",
    "    return data\n",
    "\n",
    "df = calculate_rfm_scores(df)\n",
    "\n",
    "# 매핑 -> 주제에 맞게 최우수고객, 신규고객 집중 마케팅\n",
    "segt_map = {\n",
    "    r'[4-5][4-5][1-5]': '저가다회구매고객', # 최근에 자주, 많은 금액을 지출한 고객\n",
    "    r'[5][1][1-5]': '신규고객', # 최근에 한 번 구매\n",
    "}\n",
    "\n",
    "df['Segment'] = df['RFM_Score'].replace(segt_map, regex=True)\n",
    "df['Segment'] = np.where((df['Segment']=='신규고객')|(df['Segment']=='저가다회구매고객'),df['Segment'], '일반고객')\n",
    "df['Segment'] =  pd.Categorical(df['Segment'])\n",
    "\n",
    "df.shape"
   ]
  },
  {
   "cell_type": "code",
   "execution_count": 88,
   "id": "e199472a-9035-4612-8729-30a126900c05",
   "metadata": {
    "id": "e199472a-9035-4612-8729-30a126900c05"
   },
   "outputs": [
    {
     "name": "stdout",
     "output_type": "stream",
     "text": [
      "RFM 5등분 기준 구간의 평균:\n"
     ]
    },
    {
     "data": {
      "text/html": [
       "<div>\n",
       "<style scoped>\n",
       "    .dataframe tbody tr th:only-of-type {\n",
       "        vertical-align: middle;\n",
       "    }\n",
       "\n",
       "    .dataframe tbody tr th {\n",
       "        vertical-align: top;\n",
       "    }\n",
       "\n",
       "    .dataframe thead th {\n",
       "        text-align: right;\n",
       "    }\n",
       "</style>\n",
       "<table border=\"1\" class=\"dataframe\">\n",
       "  <thead>\n",
       "    <tr style=\"text-align: right;\">\n",
       "      <th></th>\n",
       "      <th>R</th>\n",
       "      <th>F</th>\n",
       "      <th>M</th>\n",
       "    </tr>\n",
       "  </thead>\n",
       "  <tbody>\n",
       "    <tr>\n",
       "      <th>1</th>\n",
       "      <td>162.6</td>\n",
       "      <td>1.0</td>\n",
       "      <td>12245.8</td>\n",
       "    </tr>\n",
       "    <tr>\n",
       "      <th>2</th>\n",
       "      <td>126.7</td>\n",
       "      <td>NaN</td>\n",
       "      <td>64432.4</td>\n",
       "    </tr>\n",
       "    <tr>\n",
       "      <th>3</th>\n",
       "      <td>90.3</td>\n",
       "      <td>2.4</td>\n",
       "      <td>146723.5</td>\n",
       "    </tr>\n",
       "    <tr>\n",
       "      <th>4</th>\n",
       "      <td>52.8</td>\n",
       "      <td>4.4</td>\n",
       "      <td>372225.7</td>\n",
       "    </tr>\n",
       "    <tr>\n",
       "      <th>5</th>\n",
       "      <td>16.8</td>\n",
       "      <td>16.9</td>\n",
       "      <td>1614485.9</td>\n",
       "    </tr>\n",
       "  </tbody>\n",
       "</table>\n",
       "</div>"
      ],
      "text/plain": [
       "      R    F         M\n",
       "1 162.6  1.0   12245.8\n",
       "2 126.7  NaN   64432.4\n",
       "3  90.3  2.4  146723.5\n",
       "4  52.8  4.4  372225.7\n",
       "5  16.8 16.9 1614485.9"
      ]
     },
     "execution_count": 88,
     "metadata": {},
     "output_type": "execute_result"
    }
   ],
   "source": [
    "pd.set_option('display.float_format', '{:.1f}'.format)  # 소수점 10자리까지 출력\n",
    "\n",
    "RFM_mean = pd.DataFrame({\n",
    "'R' : df.groupby('R')['Recency'].mean(),\n",
    "'F' : df.groupby('F')['Frequency'].mean(),\n",
    "'M' : np.exp(df.groupby('M')['총구매금액'].mean())})\n",
    "print(\"RFM 5등분 기준 구간의 평균:\")\n",
    "RFM_mean"
   ]
  },
  {
   "cell_type": "code",
   "execution_count": 89,
   "id": "d3146f01-984b-4547-957a-c9ff2c903735",
   "metadata": {
    "id": "d3146f01-984b-4547-957a-c9ff2c903735"
   },
   "outputs": [
    {
     "name": "stdout",
     "output_type": "stream",
     "text": [
      "RFM 5등분 기준:\n"
     ]
    },
    {
     "data": {
      "text/html": [
       "<div>\n",
       "<style scoped>\n",
       "    .dataframe tbody tr th:only-of-type {\n",
       "        vertical-align: middle;\n",
       "    }\n",
       "\n",
       "    .dataframe tbody tr th {\n",
       "        vertical-align: top;\n",
       "    }\n",
       "\n",
       "    .dataframe thead th {\n",
       "        text-align: right;\n",
       "    }\n",
       "</style>\n",
       "<table border=\"1\" class=\"dataframe\">\n",
       "  <thead>\n",
       "    <tr style=\"text-align: right;\">\n",
       "      <th></th>\n",
       "      <th>R</th>\n",
       "      <th>F</th>\n",
       "      <th>M</th>\n",
       "    </tr>\n",
       "  </thead>\n",
       "  <tbody>\n",
       "    <tr>\n",
       "      <th>0.0</th>\n",
       "      <td>0.0</td>\n",
       "      <td>0.0</td>\n",
       "      <td>0.0</td>\n",
       "    </tr>\n",
       "    <tr>\n",
       "      <th>0.2</th>\n",
       "      <td>34.0</td>\n",
       "      <td>1.0</td>\n",
       "      <td>10.6</td>\n",
       "    </tr>\n",
       "    <tr>\n",
       "      <th>0.4</th>\n",
       "      <td>71.0</td>\n",
       "      <td>1.0</td>\n",
       "      <td>11.5</td>\n",
       "    </tr>\n",
       "    <tr>\n",
       "      <th>0.6</th>\n",
       "      <td>108.0</td>\n",
       "      <td>3.0</td>\n",
       "      <td>12.3</td>\n",
       "    </tr>\n",
       "    <tr>\n",
       "      <th>0.8</th>\n",
       "      <td>144.0</td>\n",
       "      <td>5.0</td>\n",
       "      <td>13.4</td>\n",
       "    </tr>\n",
       "    <tr>\n",
       "      <th>1.0</th>\n",
       "      <td>179.0</td>\n",
       "      <td>92.0</td>\n",
       "      <td>17.6</td>\n",
       "    </tr>\n",
       "  </tbody>\n",
       "</table>\n",
       "</div>"
      ],
      "text/plain": [
       "        R    F    M\n",
       "0.0   0.0  0.0  0.0\n",
       "0.2  34.0  1.0 10.6\n",
       "0.4  71.0  1.0 11.5\n",
       "0.6 108.0  3.0 12.3\n",
       "0.8 144.0  5.0 13.4\n",
       "1.0 179.0 92.0 17.6"
      ]
     },
     "execution_count": 89,
     "metadata": {},
     "output_type": "execute_result"
    }
   ],
   "source": [
    "r = df['Recency'].quantile([0,0.2, 0.4, 0.6, 0.8,1.0])\n",
    "f = df['Frequency'].quantile([0,0.2, 0.4, 0.6, 0.8,1.0])\n",
    "m = df['총구매금액'].quantile([0,0.2, 0.4, 0.6, 0.8,1.0])\n",
    "\n",
    "print(\"RFM 5등분 기준:\")\n",
    "pd.DataFrame(\n",
    "    {'R':r, 'F':f, 'M':m}\n",
    ")"
   ]
  },
  {
   "cell_type": "code",
   "execution_count": 90,
   "id": "115a237a-6eb1-4e79-b021-e7b05cfcec69",
   "metadata": {
    "id": "115a237a-6eb1-4e79-b021-e7b05cfcec69"
   },
   "outputs": [
    {
     "data": {
      "text/plain": [
       "89.35864537161117"
      ]
     },
     "execution_count": 90,
     "metadata": {},
     "output_type": "execute_result"
    }
   ],
   "source": [
    "df['Recency'].mean() # 평균구매주기"
   ]
  },
  {
   "cell_type": "code",
   "execution_count": 91,
   "id": "d393edfd-a4cc-4648-b231-d1f67e72e1f9",
   "metadata": {
    "id": "d393edfd-a4cc-4648-b231-d1f67e72e1f9"
   },
   "outputs": [],
   "source": [
    "df = df.drop(columns=['R','F','M'])"
   ]
  },
  {
   "cell_type": "code",
   "execution_count": 92,
   "id": "860034ee-d05e-4e4b-bcba-7fada60fecdb",
   "metadata": {
    "id": "860034ee-d05e-4e4b-bcba-7fada60fecdb"
   },
   "outputs": [],
   "source": [
    "df['거래취소여부'] = df['거래취소여부'].astype(int)"
   ]
  },
  {
   "cell_type": "code",
   "execution_count": 93,
   "id": "3ba8da8f-f161-4189-bf95-cb85a91a1563",
   "metadata": {
    "id": "3ba8da8f-f161-4189-bf95-cb85a91a1563",
    "scrolled": true
   },
   "outputs": [
    {
     "data": {
      "image/png": "[encoded data removed]",
      "text/plain": [
       "<Figure size 640x480 with 1 Axes>"
      ]
     },
     "metadata": {},
     "output_type": "display_data"
    }
   ],
   "source": [
    "df.groupby('Segment')['거래취소여부'].mean().plot(kind='bar', color=['#C4F0C5','lightgrey','#5EC7AC'])\n",
    "plt.title('고객분류별 거래취소율', fontsize=18)\n",
    "plt.xticks(rotation=0)\n",
    "plt.xlabel('')\n",
    "plt.show()"
   ]
  },
  {
   "cell_type": "code",
   "execution_count": 94,
   "id": "4a35177e-154d-43b2-bbd4-35c6bdf3bb5a",
   "metadata": {
    "id": "4a35177e-154d-43b2-bbd4-35c6bdf3bb5a"
   },
   "outputs": [
    {
     "name": "stdout",
     "output_type": "stream",
     "text": [
      "new_총수정요청수\n",
      "카이제곱통계량 : 944.0901359428558, 유의확률 :0.00, 자유도: 2\n"
     ]
    }
   ],
   "source": [
    "# 카이제곱검정결과 추가\n",
    "\n",
    "비교 = 'Segment'\n",
    "obs = pd.crosstab(df[비교], df['거래취소여부'])\n",
    "chi2_stat, p_value, dof, expected = chi2_contingency(obs)\n",
    "print(c)\n",
    "print(f'카이제곱통계량 : {chi2_stat}, 유의확률 :{p_value:.2f}, 자유도: {dof}')\n",
    "if p_value >0.05:\n",
    "    print(f'{비교}와 {c}은 서로 독립이다.')"
   ]
  },
  {
   "cell_type": "markdown",
   "id": "39389d0f-c37d-4705-9819-a59f9e7011f3",
   "metadata": {
    "id": "39389d0f-c37d-4705-9819-a59f9e7011f3"
   },
   "source": [
    "# RFM 기반 페르소나 특징 도출"
   ]
  },
  {
   "cell_type": "markdown",
   "id": "efb370f9-9bfe-4c89-a4da-3f94d120becc",
   "metadata": {
    "id": "efb370f9-9bfe-4c89-a4da-3f94d120becc",
    "jp-MarkdownHeadingCollapsed": true
   },
   "source": [
    "### RFM 고객 분류와 통계적으로 유의한 변수 도출"
   ]
  },
  {
   "cell_type": "code",
   "execution_count": 95,
   "id": "0b54da19-f9be-4a73-b015-030647745ee7",
   "metadata": {
    "id": "0b54da19-f9be-4a73-b015-030647745ee7",
    "scrolled": true
   },
   "outputs": [
    {
     "name": "stdout",
     "output_type": "stream",
     "text": [
      "거주지\n",
      "카이제곱통계량 : 36.730038463487105, 유의확률 :0.00, 자유도: 12\n",
      "------------------------------\n",
      "대분류\n",
      "카이제곱통계량 : 93.8928672349851, 유의확률 :0.00, 자유도: 22\n",
      "------------------------------\n",
      "사용기기_제조사\n",
      "카이제곱통계량 : 33.04185383626072, 유의확률 :0.00, 자유도: 6\n",
      "------------------------------\n",
      "서비스명\n",
      "카이제곱통계량 : 17742.88025201029, 유의확률 :0.00, 자유도: 5526\n",
      "------------------------------\n",
      "성별\n",
      "카이제곱통계량 : 17.555604288797113, 유의확률 :0.00, 자유도: 2\n",
      "------------------------------\n",
      "신속_알람_서비스_사용여부\n",
      "카이제곱통계량 : 6.026898716582622, 유의확률 :0.05, 자유도: 2\n",
      "------------------------------\n",
      "운영체제\n",
      "카이제곱통계량 : 21.899602022744077, 유의확률 :0.00, 자유도: 2\n",
      "------------------------------\n",
      "유입경로\n",
      "카이제곱통계량 : 49.404525065112466, 유의확률 :0.00, 자유도: 18\n",
      "------------------------------\n",
      "일회다회\n",
      "카이제곱통계량 : 50505.67712992843, 유의확률 :0.00, 자유도: 2\n",
      "------------------------------\n",
      "판매자\n",
      "카이제곱통계량 : 13315.745745035358, 유의확률 :0.00, 자유도: 4104\n",
      "------------------------------\n",
      "프리미엄_서비스_가입여부\n",
      "카이제곱통계량 : 22.459094920884656, 유의확률 :0.00, 자유도: 2\n",
      "------------------------------\n",
      "회원상태\n",
      "카이제곱통계량 : 20.526986644298578, 유의확률 :0.00, 자유도: 4\n",
      "------------------------------\n"
     ]
    }
   ],
   "source": [
    "cond_할인 = df['Segment'] == '할인구매고객'\n",
    "cond_신규 = df['Segment'] == '신규고객'\n",
    "\n",
    "할인 = df[cond_할인]\n",
    "신규 = df[cond_신규]\n",
    "\n",
    "from scipy.stats import chi2_contingency\n",
    "\n",
    "for c in ['거주지',\n",
    " '대분류',\n",
    " '사용기기_제조사',\n",
    " '서비스명',\n",
    " '성별',\n",
    " '신속_알람_서비스_사용여부',\n",
    " '운영체제',\n",
    " '유입경로',\n",
    " '일회다회',\n",
    " '판매자',\n",
    " '프리미엄_서비스_가입여부',\n",
    " '회원상태']:\n",
    "    비교 = 'Segment'\n",
    "    obs = pd.crosstab(df[비교], df[c])\n",
    "    chi2_stat, p_value, dof, expected = chi2_contingency(obs)\n",
    "    print(c)\n",
    "    print(f'카이제곱통계량 : {chi2_stat}, 유의확률 :{p_value:.2f}, 자유도: {dof}')\n",
    "    if p_value >0.05:\n",
    "        print(f'{비교}와 {c}은 서로 독립이다.')\n",
    "    print('-'*30)"
   ]
  },
  {
   "cell_type": "code",
   "execution_count": 96,
   "id": "b195c92d-c44d-4309-9ca2-8a7f99f416ea",
   "metadata": {
    "id": "b195c92d-c44d-4309-9ca2-8a7f99f416ea",
    "scrolled": true
   },
   "outputs": [
    {
     "name": "stdout",
     "output_type": "stream",
     "text": [
      "Segment의 집단 간 **수수료율**의 차이가 없다..\n",
      "------------------------------\n",
      "Segment 과 프로그램수정횟수 분산분석 결과\n",
      "F통계량 :  17.022511196047457\n",
      "유의확률 :   4.051563746652503e-08\n",
      "------------------------------\n",
      "Segment 과 추가결제금액 분산분석 결과\n",
      "F통계량 :  2694.286814979755\n",
      "유의확률 :   0.0\n",
      "------------------------------\n",
      "Segment 과 판매금액 분산분석 결과\n",
      "F통계량 :  125.28575683386494\n",
      "유의확률 :   4.0835228212210314e-55\n",
      "------------------------------\n",
      "Segment 과 서비스가격 분산분석 결과\n",
      "F통계량 :  5.542200627014674\n",
      "유의확률 :   0.003918283192680783\n",
      "------------------------------\n",
      "Segment 과 이용자수 분산분석 결과\n",
      "F통계량 :  7.940878339985725\n",
      "유의확률 :   0.0003559660430853732\n",
      "------------------------------\n",
      "Segment 과 평균평점 분산분석 결과\n",
      "F통계량 :  331.8754126430803\n",
      "유의확률 :   1.0524694752596563e-144\n",
      "------------------------------\n",
      "Segment 과 누적판매수 분산분석 결과\n",
      "F통계량 :  6.0162029659962615\n",
      "유의확률 :   0.0024391970469600384\n",
      "------------------------------\n",
      "Segment 과 판매_서비스_수 분산분석 결과\n",
      "F통계량 :  4.355728329425542\n",
      "유의확률 :   0.012833873791198576\n",
      "------------------------------\n",
      "Segment 과 총_판매_금액 분산분석 결과\n",
      "F통계량 :  3.4675014136926685\n",
      "유의확률 :   0.03119608471716045\n",
      "------------------------------\n",
      "Segment 과 연령 분산분석 결과\n",
      "F통계량 :  6.866687184167487\n",
      "유의확률 :   0.0010420813191566554\n",
      "------------------------------\n",
      "Segment 과 서비스총구매수 분산분석 결과\n",
      "F통계량 :  24165.95592909997\n",
      "유의확률 :   0.0\n",
      "------------------------------\n",
      "Segment 과 총구매금액 분산분석 결과\n",
      "F통계량 :  21462.389354973184\n",
      "유의확률 :   0.0\n",
      "------------------------------\n",
      "Segment 과 총추가결제금액 분산분석 결과\n",
      "F통계량 :  489.6931600085044\n",
      "유의확률 :   4.6104307865023895e-213\n",
      "------------------------------\n",
      "Segment 과 new_총수정요청수 분산분석 결과\n",
      "F통계량 :  11410.54718976959\n",
      "유의확률 :   0.0\n",
      "------------------------------\n"
     ]
    }
   ],
   "source": [
    "from scipy.stats import f_oneway\n",
    "대분 = df['Segment'].unique()\n",
    "col_name='Segment'\n",
    "dic = {'독립변수':[],'F통계량':[],'유의확률':[]}\n",
    "for col in ['수수료율',  '프로그램수정횟수', '추가결제금액', '판매금액',\n",
    "       '서비스가격', '이용자수', '평균평점', '누적판매수', '판매_서비스_수',\n",
    "       '총_판매_금액', '연령', '서비스총구매수', '총구매금액', '총추가결제금액',\n",
    "       'new_총수정요청수']:\n",
    "\n",
    "    g1 = df[df[col_name] == 대분[0]][col]\n",
    "    g2 = df[df[col_name] == 대분[1]][col]\n",
    "    g3 = df[df[col_name] == 대분[2]][col]\n",
    "\n",
    "    F, p_value = f_oneway(g1, g2, g3)\n",
    "    if p_value < 0.05:\n",
    "\n",
    "        print(col_name,'과',col,'분산분석 결과')\n",
    "        print('F통계량 : ',F)\n",
    "        print('유의확률 :  ', p_value)\n",
    "        dic['독립변수'].append(col)\n",
    "        dic['F통계량'].append(F)\n",
    "        dic['유의확률'].append(p_value)\n",
    "    else : print(f'{col_name}의 집단 간 **{col}**의 차이가 없다..')\n",
    "    # g1, g2, g3,g4,g5,g6,g7,g8,g9,,g9, g10\n",
    "    print('-'*30)"
   ]
  },
  {
   "cell_type": "markdown",
   "id": "040852d7-ee63-4c9b-96f0-ef956aea25a3",
   "metadata": {
    "id": "040852d7-ee63-4c9b-96f0-ef956aea25a3",
    "jp-MarkdownHeadingCollapsed": true
   },
   "source": [
    "### 저가다회구매고객, 신규고객의 금전적인 특징 도출\n",
    "### ① 저가다회구매고객\n",
    "\n",
    "- 저가다회구매고객은 **서비스총구매수**가 평균±표준편차 기준으로 **약 10.7에서 17.5 사이**에 분포하는 경향\n",
    "- 저가다회구매고객은 **총구매금액**이 일반적으로 **536,581.9원에서 536,588.3원** 사이에 위치\n",
    "- 할인구매고객은 **평균평점**이 **3.8점에서 5.7점** 범위에 있으며, 대체로 긍정적인 평가\n",
    "- 할인구매고객의 **연령대**는 주로 **21.1세에서 34.0세**\n",
    "\n",
    "### ② 신규고객\n",
    "\n",
    "- 신규고객은 **서비스총구매수**가 **1.2에서 1.3** 사이로, 매우 적은 편\n",
    "- 신규고객은 **총추가결제금액**이 **151.3원에서 310.5원** 사이로 비교적 소액 결제를 하는 경향\n",
    "- 신규고객은 **이용자수**가 **12.8명에서 53.6명** 사이\n",
    "- 신규고객의 **연령대**는 **21.2세에서 34.3세**로, 할인구매고객과 유사한 분포"
   ]
  },
  {
   "cell_type": "code",
   "execution_count": 97,
   "id": "3ff34819-0bfe-4a3b-8a52-46ee4d2d45e8",
   "metadata": {
    "id": "3ff34819-0bfe-4a3b-8a52-46ee4d2d45e8"
   },
   "outputs": [
    {
     "name": "stdout",
     "output_type": "stream",
     "text": [
      "저가다회구매고객과 신규고객 특징 :\n"
     ]
    },
    {
     "data": {
      "text/html": [
       "<div>\n",
       "<style scoped>\n",
       "    .dataframe tbody tr th:only-of-type {\n",
       "        vertical-align: middle;\n",
       "    }\n",
       "\n",
       "    .dataframe tbody tr th {\n",
       "        vertical-align: top;\n",
       "    }\n",
       "\n",
       "    .dataframe thead th {\n",
       "        text-align: right;\n",
       "    }\n",
       "</style>\n",
       "<table border=\"1\" class=\"dataframe\">\n",
       "  <thead>\n",
       "    <tr style=\"text-align: right;\">\n",
       "      <th></th>\n",
       "      <th>타겟층</th>\n",
       "      <th>변수</th>\n",
       "      <th>최솟값</th>\n",
       "      <th>최댓값</th>\n",
       "    </tr>\n",
       "  </thead>\n",
       "  <tbody>\n",
       "    <tr>\n",
       "      <th>0</th>\n",
       "      <td>저가다회구매고객</td>\n",
       "      <td>서비스총구매수</td>\n",
       "      <td>10.7</td>\n",
       "      <td>17.5</td>\n",
       "    </tr>\n",
       "    <tr>\n",
       "      <th>1</th>\n",
       "      <td>저가다회구매고객</td>\n",
       "      <td>총구매금액</td>\n",
       "      <td>536581.9</td>\n",
       "      <td>536588.3</td>\n",
       "    </tr>\n",
       "    <tr>\n",
       "      <th>2</th>\n",
       "      <td>저가다회구매고객</td>\n",
       "      <td>new_총수정요청수</td>\n",
       "      <td>0.0</td>\n",
       "      <td>2.8</td>\n",
       "    </tr>\n",
       "    <tr>\n",
       "      <th>3</th>\n",
       "      <td>저가다회구매고객</td>\n",
       "      <td>추가결제금액</td>\n",
       "      <td>-1.1</td>\n",
       "      <td>7.0</td>\n",
       "    </tr>\n",
       "    <tr>\n",
       "      <th>4</th>\n",
       "      <td>저가다회구매고객</td>\n",
       "      <td>총추가결제금액</td>\n",
       "      <td>694.7</td>\n",
       "      <td>931.0</td>\n",
       "    </tr>\n",
       "    <tr>\n",
       "      <th>5</th>\n",
       "      <td>저가다회구매고객</td>\n",
       "      <td>평균평점</td>\n",
       "      <td>3.8</td>\n",
       "      <td>5.7</td>\n",
       "    </tr>\n",
       "    <tr>\n",
       "      <th>6</th>\n",
       "      <td>저가다회구매고객</td>\n",
       "      <td>판매금액</td>\n",
       "      <td>21482.6</td>\n",
       "      <td>21492.3</td>\n",
       "    </tr>\n",
       "    <tr>\n",
       "      <th>7</th>\n",
       "      <td>저가다회구매고객</td>\n",
       "      <td>프로그램수정횟수</td>\n",
       "      <td>-0.2</td>\n",
       "      <td>0.2</td>\n",
       "    </tr>\n",
       "    <tr>\n",
       "      <th>8</th>\n",
       "      <td>저가다회구매고객</td>\n",
       "      <td>이용자수</td>\n",
       "      <td>15.0</td>\n",
       "      <td>54.8</td>\n",
       "    </tr>\n",
       "    <tr>\n",
       "      <th>9</th>\n",
       "      <td>저가다회구매고객</td>\n",
       "      <td>연령</td>\n",
       "      <td>21.1</td>\n",
       "      <td>34.0</td>\n",
       "    </tr>\n",
       "    <tr>\n",
       "      <th>10</th>\n",
       "      <td>저가다회구매고객</td>\n",
       "      <td>누적판매수</td>\n",
       "      <td>-11.2</td>\n",
       "      <td>1520.4</td>\n",
       "    </tr>\n",
       "    <tr>\n",
       "      <th>11</th>\n",
       "      <td>저가다회구매고객</td>\n",
       "      <td>서비스가격</td>\n",
       "      <td>21446.7</td>\n",
       "      <td>21453.6</td>\n",
       "    </tr>\n",
       "    <tr>\n",
       "      <th>12</th>\n",
       "      <td>저가다회구매고객</td>\n",
       "      <td>판매_서비스_수</td>\n",
       "      <td>34.1</td>\n",
       "      <td>1724.3</td>\n",
       "    </tr>\n",
       "    <tr>\n",
       "      <th>13</th>\n",
       "      <td>저가다회구매고객</td>\n",
       "      <td>총_판매_금액</td>\n",
       "      <td>6713379.0</td>\n",
       "      <td>45446192.0</td>\n",
       "    </tr>\n",
       "    <tr>\n",
       "      <th>14</th>\n",
       "      <td>신규고객</td>\n",
       "      <td>서비스총구매수</td>\n",
       "      <td>1.2</td>\n",
       "      <td>1.3</td>\n",
       "    </tr>\n",
       "    <tr>\n",
       "      <th>15</th>\n",
       "      <td>신규고객</td>\n",
       "      <td>총구매금액</td>\n",
       "      <td>25190.5</td>\n",
       "      <td>25207.0</td>\n",
       "    </tr>\n",
       "    <tr>\n",
       "      <th>16</th>\n",
       "      <td>신규고객</td>\n",
       "      <td>new_총수정요청수</td>\n",
       "      <td>-0.3</td>\n",
       "      <td>0.6</td>\n",
       "    </tr>\n",
       "    <tr>\n",
       "      <th>17</th>\n",
       "      <td>신규고객</td>\n",
       "      <td>추가결제금액</td>\n",
       "      <td>0.9</td>\n",
       "      <td>9.6</td>\n",
       "    </tr>\n",
       "    <tr>\n",
       "      <th>18</th>\n",
       "      <td>신규고객</td>\n",
       "      <td>총추가결제금액</td>\n",
       "      <td>151.3</td>\n",
       "      <td>310.5</td>\n",
       "    </tr>\n",
       "    <tr>\n",
       "      <th>19</th>\n",
       "      <td>신규고객</td>\n",
       "      <td>평균평점</td>\n",
       "      <td>3.6</td>\n",
       "      <td>5.8</td>\n",
       "    </tr>\n",
       "    <tr>\n",
       "      <th>20</th>\n",
       "      <td>신규고객</td>\n",
       "      <td>판매금액</td>\n",
       "      <td>16867.8</td>\n",
       "      <td>16892.6</td>\n",
       "    </tr>\n",
       "    <tr>\n",
       "      <th>21</th>\n",
       "      <td>신규고객</td>\n",
       "      <td>프로그램수정횟수</td>\n",
       "      <td>-0.2</td>\n",
       "      <td>0.2</td>\n",
       "    </tr>\n",
       "    <tr>\n",
       "      <th>22</th>\n",
       "      <td>신규고객</td>\n",
       "      <td>이용자수</td>\n",
       "      <td>12.8</td>\n",
       "      <td>53.6</td>\n",
       "    </tr>\n",
       "    <tr>\n",
       "      <th>23</th>\n",
       "      <td>신규고객</td>\n",
       "      <td>연령</td>\n",
       "      <td>21.2</td>\n",
       "      <td>34.3</td>\n",
       "    </tr>\n",
       "    <tr>\n",
       "      <th>24</th>\n",
       "      <td>신규고객</td>\n",
       "      <td>누적판매수</td>\n",
       "      <td>7.0</td>\n",
       "      <td>1487.8</td>\n",
       "    </tr>\n",
       "    <tr>\n",
       "      <th>25</th>\n",
       "      <td>신규고객</td>\n",
       "      <td>서비스가격</td>\n",
       "      <td>22062.6</td>\n",
       "      <td>22069.5</td>\n",
       "    </tr>\n",
       "    <tr>\n",
       "      <th>26</th>\n",
       "      <td>신규고객</td>\n",
       "      <td>판매_서비스_수</td>\n",
       "      <td>47.6</td>\n",
       "      <td>1699.4</td>\n",
       "    </tr>\n",
       "    <tr>\n",
       "      <th>27</th>\n",
       "      <td>신규고객</td>\n",
       "      <td>총_판매_금액</td>\n",
       "      <td>6920269.1</td>\n",
       "      <td>44944515.6</td>\n",
       "    </tr>\n",
       "  </tbody>\n",
       "</table>\n",
       "</div>"
      ],
      "text/plain": [
       "         타겟층          변수       최솟값        최댓값\n",
       "0   저가다회구매고객     서비스총구매수      10.7       17.5\n",
       "1   저가다회구매고객       총구매금액  536581.9   536588.3\n",
       "2   저가다회구매고객  new_총수정요청수       0.0        2.8\n",
       "3   저가다회구매고객      추가결제금액      -1.1        7.0\n",
       "4   저가다회구매고객     총추가결제금액     694.7      931.0\n",
       "5   저가다회구매고객        평균평점       3.8        5.7\n",
       "6   저가다회구매고객        판매금액   21482.6    21492.3\n",
       "7   저가다회구매고객    프로그램수정횟수      -0.2        0.2\n",
       "8   저가다회구매고객        이용자수      15.0       54.8\n",
       "9   저가다회구매고객          연령      21.1       34.0\n",
       "10  저가다회구매고객       누적판매수     -11.2     1520.4\n",
       "11  저가다회구매고객       서비스가격   21446.7    21453.6\n",
       "12  저가다회구매고객    판매_서비스_수      34.1     1724.3\n",
       "13  저가다회구매고객     총_판매_금액 6713379.0 45446192.0\n",
       "14      신규고객     서비스총구매수       1.2        1.3\n",
       "15      신규고객       총구매금액   25190.5    25207.0\n",
       "16      신규고객  new_총수정요청수      -0.3        0.6\n",
       "17      신규고객      추가결제금액       0.9        9.6\n",
       "18      신규고객     총추가결제금액     151.3      310.5\n",
       "19      신규고객        평균평점       3.6        5.8\n",
       "20      신규고객        판매금액   16867.8    16892.6\n",
       "21      신규고객    프로그램수정횟수      -0.2        0.2\n",
       "22      신규고객        이용자수      12.8       53.6\n",
       "23      신규고객          연령      21.2       34.3\n",
       "24      신규고객       누적판매수       7.0     1487.8\n",
       "25      신규고객       서비스가격   22062.6    22069.5\n",
       "26      신규고객    판매_서비스_수      47.6     1699.4\n",
       "27      신규고객     총_판매_금액 6920269.1 44944515.6"
      ]
     },
     "execution_count": 97,
     "metadata": {},
     "output_type": "execute_result"
    }
   ],
   "source": [
    "import numpy as np\n",
    "import pandas as pd\n",
    "\n",
    "페르소나_연속 = pd.DataFrame(dic).sort_values('F통계량', ascending=False)\n",
    "고객리스트 = ['저가다회구매고객', '신규고객']\n",
    "\n",
    "dac = {\n",
    "    '타겟층': [],\n",
    "    '변수': [],\n",
    "    '최솟값': [],\n",
    "    '최댓값': []\n",
    "}\n",
    "\n",
    "for 고객 in 고객리스트:\n",
    "    data = df[df['Segment'] == 고객]\n",
    "\n",
    "    for 변수명 in 페르소나_연속['독립변수']:\n",
    "        평균 = data[변수명].mean()\n",
    "        표준편차 = data[변수명].std()\n",
    "\n",
    "        if 변수명 in ['판매금액', '서비스가격', 'L사매출', '총구매금액', '총추가결제금액']:\n",
    "            평균 = np.exp(평균)\n",
    "            표준편차 = np.exp(표준편차)\n",
    "\n",
    "        if 변수명 in ['프로그램수정횟수', '이용자수', '서비스총구매수', '총수정요청수']:\n",
    "            평균 = 평균**2\n",
    "            표준편차 = 표준편차**2\n",
    "\n",
    "        minimum = 평균 - 표준편차\n",
    "        maximum = 평균 + 표준편차\n",
    "\n",
    "        dac['타겟층'].append(고객)\n",
    "        dac['변수'].append(변수명)\n",
    "        dac['최솟값'].append(minimum)\n",
    "        dac['최댓값'].append(maximum)\n",
    "\n",
    "print('저가다회구매고객과 신규고객 특징 :')\n",
    "pd.DataFrame(dac)"
   ]
  },
  {
   "cell_type": "code",
   "execution_count": 98,
   "id": "1c539d98-37d5-4f21-a5ad-d072d411c2f6",
   "metadata": {
    "id": "1c539d98-37d5-4f21-a5ad-d072d411c2f6"
   },
   "outputs": [
    {
     "name": "stdout",
     "output_type": "stream",
     "text": [
      "카이제곱통계량 : 3.394011053656004, 유의확률 :0.49, 자유도: 4\n",
      "수수료율와 **Segment**은 서로 독립이다.\n",
      "------------------------------\n"
     ]
    }
   ],
   "source": [
    "from scipy.stats import chi2_contingency\n",
    "col = 'Segment'\n",
    "비교 = '수수료율'\n",
    "obs = pd.crosstab(df[비교],df[col])\n",
    "chi2_stat, p_value, dof, expected = chi2_contingency(obs)\n",
    "print(f'카이제곱통계량 : {chi2_stat}, 유의확률 :{p_value:.2f}, 자유도: {dof}')\n",
    "if p_value >0.05:\n",
    "    print(f'{비교}와 **{col}**은 서로 독립이다.')\n",
    "print('-'*30)"
   ]
  },
  {
   "cell_type": "markdown",
   "id": "1ef86386-e2ea-455a-8810-21c5b1072e7f",
   "metadata": {
    "id": "1ef86386-e2ea-455a-8810-21c5b1072e7f",
    "jp-MarkdownHeadingCollapsed": true
   },
   "source": [
    "## 타겟층인 신규고객, 할인구매고객 특징"
   ]
  },
  {
   "cell_type": "code",
   "execution_count": 99,
   "id": "6dd5425a-8a89-47a5-90e7-ab1bb6973e45",
   "metadata": {
    "id": "6dd5425a-8a89-47a5-90e7-ab1bb6973e45"
   },
   "outputs": [
    {
     "data": {
      "image/png": "[encoded data removed]",
      "text/plain": [
       "<Figure size 640x480 with 1 Axes>"
      ]
     },
     "metadata": {},
     "output_type": "display_data"
    }
   ],
   "source": [
    "df.groupby('Segment')['Recency'].mean().plot(kind='bar', color=['#7FCBB8','grey','#C1E1C1'])\n",
    "plt.title('타겟층별 구매주기 평균')\n",
    "plt.show()"
   ]
  },
  {
   "cell_type": "code",
   "execution_count": 100,
   "id": "cf36e946-e19e-4a98-8fd1-8c6f748e0720",
   "metadata": {
    "id": "cf36e946-e19e-4a98-8fd1-8c6f748e0720"
   },
   "outputs": [
    {
     "data": {
      "image/png": "[encoded data removed]",
      "text/plain": [
       "<Figure size 640x480 with 1 Axes>"
      ]
     },
     "metadata": {},
     "output_type": "display_data"
    }
   ],
   "source": [
    "df.groupby('Segment')['Frequency'].mean().plot(kind='bar', color=['#7FCBB8','grey','#C1E1C1'])\n",
    "plt.title('타겟층별 총구매빈도 평균')\n",
    "plt.show()"
   ]
  },
  {
   "cell_type": "code",
   "execution_count": 101,
   "id": "cd6c83bf-cf3d-4319-98d8-7a0909de103b",
   "metadata": {
    "id": "cd6c83bf-cf3d-4319-98d8-7a0909de103b"
   },
   "outputs": [
    {
     "data": {
      "image/png": "[encoded data removed]",
      "text/plain": [
       "<Figure size 640x480 with 1 Axes>"
      ]
     },
     "metadata": {},
     "output_type": "display_data"
    }
   ],
   "source": [
    "df.groupby('Segment')['총구매금액'].mean().plot(kind='bar', color=['#7FCBB8','grey','#C1E1C1'])\n",
    "plt.title('타겟층별 총구매금액 평균')\n",
    "plt.show()"
   ]
  },
  {
   "cell_type": "markdown",
   "id": "464bbb6a-b2d6-4479-9e5f-10595b47d378",
   "metadata": {
    "id": "464bbb6a-b2d6-4479-9e5f-10595b47d378",
    "jp-MarkdownHeadingCollapsed": true
   },
   "source": [
    "# 모델링"
   ]
  },
  {
   "cell_type": "markdown",
   "id": "98139edb-c2f7-452a-80b5-33062e6146c3",
   "metadata": {
    "id": "98139edb-c2f7-452a-80b5-33062e6146c3",
    "jp-MarkdownHeadingCollapsed": true
   },
   "source": [
    "## 데이터타입 변경"
   ]
  },
  {
   "cell_type": "code",
   "execution_count": 102,
   "id": "6074e259-4020-4e7a-b315-d3bea6b7c05c",
   "metadata": {
    "id": "6074e259-4020-4e7a-b315-d3bea6b7c05c"
   },
   "outputs": [],
   "source": [
    "clm_model = ['수수료율', '프로그램수정횟수', '추가결제금액', '거래취소여부',\n",
    "       '판매금액', '서비스가격', '이용자수', '대분류', 'L사매출', '평균평점', '누적판매수',\n",
    "       '판매_서비스_수', '총_판매_금액', '프리미엄_서비스_가입여부', '신속_알람_서비스_사용여부', '유입경로',\n",
    "       '회원상태', '거주지', '연령', '성별', '서비스총구매수', '총구매금액', 'new_총수정요청수', '총추가결제금액',\n",
    "       '사용기기_제조사', '연령대', '판매금액_5만원', '판매금액_20만원', '요일', '평균평점_구간화', '운영체제',\n",
    "       'Recency', 'Frequency', '주문수',\n",
    "       '일회다회','Segment']"
   ]
  },
  {
   "cell_type": "code",
   "execution_count": 103,
   "id": "9087f852-63b7-4964-bf7e-5927754fdec9",
   "metadata": {
    "id": "9087f852-63b7-4964-bf7e-5927754fdec9"
   },
   "outputs": [
    {
     "data": {
      "text/plain": [
       "(310432, 42)"
      ]
     },
     "execution_count": 103,
     "metadata": {},
     "output_type": "execute_result"
    }
   ],
   "source": [
    "df.shape"
   ]
  },
  {
   "cell_type": "code",
   "execution_count": 104,
   "id": "723eab58-d838-45c7-b84a-9dfa8a5ae394",
   "metadata": {
    "id": "723eab58-d838-45c7-b84a-9dfa8a5ae394"
   },
   "outputs": [],
   "source": [
    "df = df[clm_model]"
   ]
  },
  {
   "cell_type": "code",
   "execution_count": 105,
   "id": "68e72b2f-d93d-4b73-85c0-67108a51a20a",
   "metadata": {
    "id": "68e72b2f-d93d-4b73-85c0-67108a51a20a"
   },
   "outputs": [
    {
     "data": {
      "text/plain": [
       "(310432, 62)"
      ]
     },
     "execution_count": 105,
     "metadata": {},
     "output_type": "execute_result"
    }
   ],
   "source": [
    "clm_오디너리 = '요일 평균평점_구간화 수수료율 프리미엄_서비스_가입여부\t신속_알람_서비스_사용여부\t회원상태\t일회다회 Segment 판매금액_20만원 판매금액_5만원'.split()\n",
    "clm_원핫 = '대분류 거주지\t성별\t사용기기_제조사\t운영체제 유입경로 Segment'.split()\n",
    "\n",
    "mapping_dict = {\n",
    "    '평균평점_구간화':{'0.5초과 1.0이하':0,'2.5초과 3.0이하':1, '3.0초과 3.5이하':2, '3.5초과 4.0이하':3, '4.0초과 4.5이하':4, '4.5초과 5.0이하':5, '리뷰없음':6}\n",
    "    ,'수수료율': {6.5:1, 7.5:2, 9.0:3},\n",
    "    '프리미엄_서비스_가입여부': {'가입':1, '미가입':0},\n",
    "    '신속_알람_서비스_사용여부': {'미사용':0, '사용':1},\n",
    "    '회원상태': {'정상회원':2, '탈퇴':0, '탈퇴처리중':1},\n",
    "    '일회다회': {'다회':1, '일회':0},\n",
    "    '판매금액_20만원':{'20만원 미만 지불 고객':0, '20만원 이상 지불 고객':1},\n",
    "    '판매금액_5만원':{'5만원 이하 지불 고객':0, '5만원 초과 지불 고객':1},\n",
    "    '요일':{'월':1,'화':2,'수':3,'목':4,'금':5,'토':6,'일':7}\n",
    "}\n",
    "\n",
    "# 매핑 적용\n",
    "for col, mapping in mapping_dict.items():\n",
    "    df[col] = df[col].map(mapping)\n",
    "\n",
    "\n",
    "df = pd.get_dummies(df, columns = clm_원핫, drop_first = True)\n",
    "for col in df.select_dtypes(bool).columns:\n",
    "    df[col]=np.where(df[col]==True,1,0)\n",
    "\n",
    "df.shape"
   ]
  },
  {
   "cell_type": "code",
   "execution_count": 106,
   "id": "4b4927d0-15f1-4f21-bf4f-66ce6207d5d3",
   "metadata": {
    "id": "4b4927d0-15f1-4f21-bf4f-66ce6207d5d3"
   },
   "outputs": [
    {
     "data": {
      "text/plain": [
       "Index(['수수료율', '프로그램수정횟수', '추가결제금액', '거래취소여부', '판매금액', '서비스가격', '이용자수', 'L사매출',\n",
       "       '평균평점', '누적판매수', '판매_서비스_수', '총_판매_금액', '프리미엄_서비스_가입여부',\n",
       "       '신속_알람_서비스_사용여부', '회원상태', '연령', '서비스총구매수', '총구매금액', 'new_총수정요청수',\n",
       "       '총추가결제금액', '연령대', '판매금액_5만원', '판매금액_20만원', '요일', '평균평점_구간화', 'Recency',\n",
       "       'Frequency', '주문수', '일회다회', '대분류_게임', '대분류_기타', '대분류_기획', '대분류_데이터',\n",
       "       '대분류_디자인', '대분류_모바일', '대분류_인공지능', '대분류_커머스', '대분류_프로그래밍', '대분류_프로그램',\n",
       "       '대분류_홈페이지', '거주지_경기도', '거주지_경상도', '거주지_서울시', '거주지_전라도', '거주지_제주도',\n",
       "       '거주지_충청도', '성별_여성', '사용기기_제조사_ETC', '사용기기_제조사_LG', '사용기기_제조사_SAMSUNG',\n",
       "       '운영체제_iOS', '유입경로_구글광고', '유입경로_네이버블로그', '유입경로_네이버카페', '유입경로_뉴스광고',\n",
       "       '유입경로_다음카페', '유입경로_유튜브', '유입경로_인스타그램', '유입경로_직접검색', '유입경로_페이스북',\n",
       "       'Segment_일반고객', 'Segment_저가다회구매고객'],\n",
       "      dtype='object')"
      ]
     },
     "execution_count": 106,
     "metadata": {},
     "output_type": "execute_result"
    }
   ],
   "source": [
    "df.columns"
   ]
  },
  {
   "cell_type": "code",
   "execution_count": 107,
   "id": "0162e255-986c-4130-ad58-8154e0961c21",
   "metadata": {
    "id": "0162e255-986c-4130-ad58-8154e0961c21"
   },
   "outputs": [],
   "source": [
    "clm_model=['수수료율', '프로그램수정횟수', '추가결제금액', '거래취소여부', '판매금액', '서비스가격', '이용자수', 'L사매출',\n",
    "       '평균평점', '누적판매수', '판매_서비스_수', '총_판매_금액', '프리미엄_서비스_가입여부',\n",
    "       '신속_알람_서비스_사용여부', '회원상태', '연령', '서비스총구매수', '총구매금액', 'new_총수정요청수',\n",
    "       '총추가결제금액', '연령대', '판매금액_5만원', '판매금액_20만원', '요일', '평균평점_구간화', 'Recency',\n",
    "       'Frequency', '주문수', '일회다회', '대분류_게임', '대분류_기타', '대분류_기획', '대분류_데이터',\n",
    "       '대분류_디자인', '대분류_모바일', '대분류_인공지능', '대분류_커머스', '대분류_프로그래밍', '대분류_프로그램',\n",
    "       '대분류_홈페이지', '거주지_경기도', '거주지_경상도', '거주지_서울시', '거주지_전라도', '거주지_제주도',\n",
    "       '거주지_충청도', '성별_여성', '사용기기_제조사_ETC', '사용기기_제조사_LG', '사용기기_제조사_SAMSUNG',\n",
    "       '운영체제_iOS', '유입경로_구글광고', '유입경로_네이버블로그', '유입경로_네이버카페', '유입경로_뉴스광고',\n",
    "       '유입경로_다음카페', '유입경로_유튜브', '유입경로_인스타그램', '유입경로_직접검색', '유입경로_페이스북',\n",
    "       'Segment_일반고객', 'Segment_저가다회구매고객']"
   ]
  },
  {
   "cell_type": "code",
   "execution_count": 108,
   "id": "21107649-3e6f-49de-8be1-a24a07c42c46",
   "metadata": {
    "id": "21107649-3e6f-49de-8be1-a24a07c42c46"
   },
   "outputs": [],
   "source": [
    "clm_X =  set(df[clm_model])-set('L사매출')\n",
    "clm_X = list(clm_X)\n",
    "clm_y = ['L사매출']\n",
    "\n",
    "cond1 = np.exp(df['판매금액'])>= 200000\n",
    "cond2 = np.exp(df['판매금액'])< 200000\n",
    "over = df.loc[cond1,clm_model]\n",
    "under = df.loc[cond2, clm_model]"
   ]
  },
  {
   "cell_type": "markdown",
   "id": "aedb3ec4-168b-4ae3-b3a7-e367bdf1e7b0",
   "metadata": {
    "id": "aedb3ec4-168b-4ae3-b3a7-e367bdf1e7b0",
    "jp-MarkdownHeadingCollapsed": true
   },
   "source": [
    "## 일반고객(20만원 이하) 회귀"
   ]
  },
  {
   "cell_type": "code",
   "execution_count": 109,
   "id": "CiVCWfxFuve1",
   "metadata": {
    "id": "CiVCWfxFuve1"
   },
   "outputs": [
    {
     "name": "stdout",
     "output_type": "stream",
     "text": [
      "모델 p-values:\n",
      " const      0.0\n",
      "수수료율       0.0\n",
      "프로그램수정횟수   1.0\n",
      "추가결제금액     0.0\n",
      "판매금액       0.0\n",
      "서비스가격      0.0\n",
      "이용자수       0.0\n",
      "평균평점       0.0\n",
      "누적판매수      0.0\n",
      "판매_서비스_수   0.4\n",
      "총_판매_금액    0.0\n",
      "연령         0.0\n",
      "서비스총구매수    0.0\n",
      "총구매금액      0.0\n",
      "총추가결제금액    0.9\n",
      "dtype: float64\n",
      "\n",
      "변수 '프로그램수정횟수'을 제거한 후 모델 p-values:\n",
      " const      0.0\n",
      "수수료율       0.0\n",
      "추가결제금액     0.0\n",
      "판매금액       0.0\n",
      "서비스가격      0.0\n",
      "이용자수       0.0\n",
      "평균평점       0.0\n",
      "누적판매수      0.0\n",
      "판매_서비스_수   0.4\n",
      "총_판매_금액    0.0\n",
      "연령         0.0\n",
      "서비스총구매수    0.0\n",
      "총구매금액      0.0\n",
      "총추가결제금액    0.9\n",
      "dtype: float64\n",
      "\n",
      "변수 '총추가결제금액'을 제거한 후 모델 p-values:\n",
      " const      0.0\n",
      "수수료율       0.0\n",
      "추가결제금액     0.0\n",
      "판매금액       0.0\n",
      "서비스가격      0.0\n",
      "이용자수       0.0\n",
      "평균평점       0.0\n",
      "누적판매수      0.0\n",
      "판매_서비스_수   0.4\n",
      "총_판매_금액    0.0\n",
      "연령         0.0\n",
      "서비스총구매수    0.0\n",
      "총구매금액      0.0\n",
      "dtype: float64\n",
      "\n",
      "변수 '판매_서비스_수'을 제거한 후 모델 p-values:\n",
      " const     0.0\n",
      "수수료율      0.0\n",
      "추가결제금액    0.0\n",
      "판매금액      0.0\n",
      "서비스가격     0.0\n",
      "이용자수      0.0\n",
      "평균평점      0.0\n",
      "누적판매수     0.0\n",
      "총_판매_금액   0.0\n",
      "연령        0.0\n",
      "서비스총구매수   0.0\n",
      "총구매금액     0.0\n",
      "dtype: float64\n",
      "\n",
      "최종 회귀식:\n",
      "Y = -0.9346 + 0.1530 * X1 + 0.0798 * X2 + 0.6641 * X3 + 0.2066 * X4 + -0.0007 * X5 + 0.0051 * X6 + -0.0000 * X7 + 0.0000 * X8 + 0.0003 * X9 + 0.0565 * X10 + -0.0769 * X11 \n",
      "\n",
      "최종 모델 결과:\n",
      "                             OLS Regression Results                            \n",
      "==============================================================================\n",
      "Dep. Variable:                   L사매출   R-squared:                       0.914\n",
      "Model:                            OLS   Adj. R-squared:                  0.914\n",
      "Method:                 Least Squares   F-statistic:                 2.827e+05\n",
      "Date:                Mon, 31 Mar 2025   Prob (F-statistic):               0.00\n",
      "Time:                        15:25:28   Log-Likelihood:            -1.5775e+05\n",
      "No. Observations:              291376   AIC:                         3.155e+05\n",
      "Df Residuals:                  291364   BIC:                         3.157e+05\n",
      "Df Model:                          11                                         \n",
      "Covariance Type:            nonrobust                                         \n",
      "==============================================================================\n",
      "                 coef    std err          t      P>|t|      [0.025      0.975]\n",
      "------------------------------------------------------------------------------\n",
      "const         -0.9346      0.013    -69.363      0.000      -0.961      -0.908\n",
      "수수료율           0.1530      0.001    131.849      0.000       0.151       0.155\n",
      "추가결제금액         0.0798      0.000    419.657      0.000       0.079       0.080\n",
      "판매금액           0.6641      0.001   1170.243      0.000       0.663       0.665\n",
      "서비스가격          0.2066      0.001    183.298      0.000       0.204       0.209\n",
      "이용자수          -0.0007      0.000     -3.762      0.000      -0.001      -0.000\n",
      "평균평점           0.0051      0.001      4.429      0.000       0.003       0.007\n",
      "누적판매수      -6.903e-06   1.54e-06     -4.495      0.000   -9.91e-06   -3.89e-06\n",
      "총_판매_금액     3.703e-10   6.01e-11      6.163      0.000    2.53e-10    4.88e-10\n",
      "연령             0.0003      0.000      2.729      0.006    9.12e-05       0.001\n",
      "서비스총구매수        0.0565      0.001     79.133      0.000       0.055       0.058\n",
      "총구매금액         -0.0769      0.001   -115.412      0.000      -0.078      -0.076\n",
      "==============================================================================\n",
      "Omnibus:                   371474.721   Durbin-Watson:                   1.333\n",
      "Prob(Omnibus):                  0.000   Jarque-Bera (JB):         96866574.849\n",
      "Skew:                           6.958   Prob(JB):                         0.00\n",
      "Kurtosis:                      91.233   Cond. No.                     5.53e+08\n",
      "==============================================================================\n",
      "\n",
      "Notes:\n",
      "[1] Standard Errors assume that the covariance matrix of the errors is correctly specified.\n",
      "[2] The condition number is large, 5.53e+08. This might indicate that there are\n",
      "strong multicollinearity or other numerical problems.\n"
     ]
    }
   ],
   "source": [
    "import numpy as np\n",
    "import pandas as pd\n",
    "import statsmodels.api as sm\n",
    "from sklearn.model_selection import train_test_split\n",
    "\n",
    "y_col_name = \"L사매출\"\n",
    "x_col_name = [\"수수료율\",\"프로그램수정횟수\",\"추가결제금액\",\"판매금액\",'서비스가격', '이용자수', 'L사매출',\n",
    "       '평균평점', '누적판매수', '판매_서비스_수', '총_판매_금액','연령','서비스총구매수','총구매금액','총추가결제금액']\n",
    "x_col_name.remove(y_col_name)\n",
    "\n",
    "# 독립 변수(X)와 종속 변수(y) 분리\n",
    "X = under[x_col_name]  # 독립 변수들\n",
    "y = under[y_col_name]  # 종속 변수\n",
    "\n",
    "# 상수항 추가 (절편 추가)\n",
    "X = sm.add_constant(X)\n",
    "\n",
    "# 후진 제거법 구현\n",
    "def backward_elimination(X, y, significance_level=0.05):\n",
    "    # 전체 모델 적합\n",
    "    model = sm.OLS(y, X).fit()\n",
    "\n",
    "    # p-value 확인\n",
    "    p_values = model.pvalues\n",
    "    print(\"모델 p-values:\\n\", p_values)\n",
    "\n",
    "    # p-value가 significance_level보다 큰 변수 제거\n",
    "    while max(p_values) > significance_level:\n",
    "        # 가장 큰 p-value 변수 제거\n",
    "        max_p_value_column = p_values.idxmax()  # p-value가 가장 큰 변수\n",
    "        X = X.drop(columns=[max_p_value_column])  # 해당 변수 제거\n",
    "        model = sm.OLS(y, X).fit()  # 새로운 모델 학습\n",
    "        p_values = model.pvalues  # 새 p-value 계산\n",
    "        print(f\"\\n변수 '{max_p_value_column}'을 제거한 후 모델 p-values:\\n\", p_values)\n",
    "\n",
    "    return model\n",
    "\n",
    "# 후진 제거법 실행\n",
    "final_model = backward_elimination(X, y)\n",
    "\n",
    "# 최종 모델의 회귀식 출력\n",
    "def print_regression_equation(model):\n",
    "    intercept = model.params[0]\n",
    "    coefficients = model.params[1:]\n",
    "\n",
    "    equation = f\"Y = {intercept:.4f} \"\n",
    "    for i, coef in enumerate(coefficients):\n",
    "        equation += f\"+ {coef:.4f} * X{i+1} \"\n",
    "\n",
    "    print(\"\\n최종 회귀식:\")\n",
    "    print(equation)\n",
    "\n",
    "# 회귀식 출력\n",
    "print_regression_equation(final_model)\n",
    "\n",
    "# 최종 모델의 결과 출력\n",
    "print(\"\\n최종 모델 결과:\\n\", final_model.summary())\n"
   ]
  },
  {
   "cell_type": "code",
   "execution_count": 110,
   "id": "7a7a6bba-bb40-4e36-a10b-8769152c4a6f",
   "metadata": {
    "id": "7a7a6bba-bb40-4e36-a10b-8769152c4a6f"
   },
   "outputs": [
    {
     "name": "stdout",
     "output_type": "stream",
     "text": [
      "    Variable   VIF\n",
      "0      const 349.1\n",
      "1       수수료율   1.0\n",
      "2   프로그램수정횟수   1.1\n",
      "3     추가결제금액   3.5\n",
      "4       판매금액   1.8\n",
      "5      서비스가격   2.6\n",
      "6       이용자수   1.2\n",
      "7       평균평점   1.1\n",
      "8      누적판매수   6.1\n",
      "9   판매_서비스_수   9.4\n",
      "10   총_판매_금액   3.4\n",
      "11        연령   1.0\n",
      "12   서비스총구매수   2.9\n",
      "13     총구매금액   2.9\n",
      "14   총추가결제금액   3.1\n"
     ]
    }
   ],
   "source": [
    "import numpy as np\n",
    "import pandas as pd\n",
    "from statsmodels.stats.outliers_influence import variance_inflation_factor\n",
    "from statsmodels.tools.tools import add_constant\n",
    "\n",
    "y_col_name = \"L사매출\"\n",
    "x_col_name = [\"수수료율\",\"프로그램수정횟수\",\"추가결제금액\",\"판매금액\",'서비스가격', '이용자수', 'L사매출',\n",
    "       '평균평점', '누적판매수', '판매_서비스_수', '총_판매_금액','연령','서비스총구매수','총구매금액','총추가결제금액']\n",
    "x_col_name.remove(y_col_name)\n",
    "\n",
    "X = under[x_col_name]  # 독립 변수들\n",
    "y = under[y_col_name]  # 종속 변수\n",
    "\n",
    "# 상수항 추가 (절편 추가)\n",
    "X_with_const = add_constant(X)\n",
    "\n",
    "# VIF 계산 함수\n",
    "def calculate_vif(X):\n",
    "    vif_data = pd.DataFrame()\n",
    "    vif_data['Variable'] = X.columns\n",
    "    vif_data['VIF'] = [variance_inflation_factor(X.values, i) for i in range(X.shape[1])]\n",
    "    return vif_data\n",
    "\n",
    "# VIF 계산\n",
    "vif_result = calculate_vif(X_with_const)\n",
    "\n",
    "# VIF 결과 출력\n",
    "print(vif_result)"
   ]
  },
  {
   "cell_type": "markdown",
   "id": "50598754-72d0-4323-846d-9b7bbb6e1618",
   "metadata": {
    "id": "50598754-72d0-4323-846d-9b7bbb6e1618",
    "jp-MarkdownHeadingCollapsed": true
   },
   "source": [
    "## 특수고객 (20만원 초과) 회귀"
   ]
  },
  {
   "cell_type": "code",
   "execution_count": 111,
   "id": "iZTu-4ZgxMQb",
   "metadata": {
    "id": "iZTu-4ZgxMQb"
   },
   "outputs": [
    {
     "name": "stdout",
     "output_type": "stream",
     "text": [
      "모델 p-values:\n",
      " const      0.0\n",
      "수수료율       0.0\n",
      "프로그램수정횟수   0.0\n",
      "추가결제금액     0.0\n",
      "판매금액       0.0\n",
      "서비스가격      0.0\n",
      "이용자수       0.2\n",
      "평균평점       0.6\n",
      "누적판매수      0.0\n",
      "판매_서비스_수   0.5\n",
      "총_판매_금액    0.0\n",
      "연령         0.3\n",
      "서비스총구매수    0.6\n",
      "총구매금액      0.0\n",
      "총추가결제금액    0.0\n",
      "dtype: float64\n",
      "\n",
      "변수 '평균평점'을 제거한 후 모델 p-values:\n",
      " const      0.0\n",
      "수수료율       0.0\n",
      "프로그램수정횟수   0.0\n",
      "추가결제금액     0.0\n",
      "판매금액       0.0\n",
      "서비스가격      0.0\n",
      "이용자수       0.1\n",
      "누적판매수      0.0\n",
      "판매_서비스_수   0.5\n",
      "총_판매_금액    0.0\n",
      "연령         0.3\n",
      "서비스총구매수    0.6\n",
      "총구매금액      0.0\n",
      "총추가결제금액    0.0\n",
      "dtype: float64\n",
      "\n",
      "변수 '서비스총구매수'을 제거한 후 모델 p-values:\n",
      " const      0.0\n",
      "수수료율       0.0\n",
      "프로그램수정횟수   0.0\n",
      "추가결제금액     0.0\n",
      "판매금액       0.0\n",
      "서비스가격      0.0\n",
      "이용자수       0.1\n",
      "누적판매수      0.0\n",
      "판매_서비스_수   0.5\n",
      "총_판매_금액    0.0\n",
      "연령         0.4\n",
      "총구매금액      0.0\n",
      "총추가결제금액    0.0\n",
      "dtype: float64\n",
      "\n",
      "변수 '판매_서비스_수'을 제거한 후 모델 p-values:\n",
      " const      0.0\n",
      "수수료율       0.0\n",
      "프로그램수정횟수   0.0\n",
      "추가결제금액     0.0\n",
      "판매금액       0.0\n",
      "서비스가격      0.0\n",
      "이용자수       0.1\n",
      "누적판매수      0.0\n",
      "총_판매_금액    0.0\n",
      "연령         0.3\n",
      "총구매금액      0.0\n",
      "총추가결제금액    0.0\n",
      "dtype: float64\n",
      "\n",
      "변수 '연령'을 제거한 후 모델 p-values:\n",
      " const      0.0\n",
      "수수료율       0.0\n",
      "프로그램수정횟수   0.0\n",
      "추가결제금액     0.0\n",
      "판매금액       0.0\n",
      "서비스가격      0.0\n",
      "이용자수       0.1\n",
      "누적판매수      0.0\n",
      "총_판매_금액    0.0\n",
      "총구매금액      0.0\n",
      "총추가결제금액    0.0\n",
      "dtype: float64\n",
      "\n",
      "변수 '이용자수'을 제거한 후 모델 p-values:\n",
      " const      0.0\n",
      "수수료율       0.0\n",
      "프로그램수정횟수   0.0\n",
      "추가결제금액     0.0\n",
      "판매금액       0.0\n",
      "서비스가격      0.0\n",
      "누적판매수      0.0\n",
      "총_판매_금액    0.0\n",
      "총구매금액      0.0\n",
      "총추가결제금액    0.0\n",
      "dtype: float64\n",
      "\n",
      "최종 회귀식:\n",
      "Y = -2.6832 + 0.1578 * X1 + 0.0035 * X2 + 0.0047 * X3 + 1.3578 * X4 + -0.3713 * X5 + -0.0001 * X6 + 0.0000 * X7 + -0.0030 * X8 + 0.0002 * X9 \n",
      "\n",
      "최종 모델 결과:\n",
      "                             OLS Regression Results                            \n",
      "==============================================================================\n",
      "Dep. Variable:                   L사매출   R-squared:                       0.997\n",
      "Model:                            OLS   Adj. R-squared:                  0.997\n",
      "Method:                 Least Squares   F-statistic:                 7.021e+05\n",
      "Date:                Mon, 31 Mar 2025   Prob (F-statistic):               0.00\n",
      "Time:                        15:25:31   Log-Likelihood:                 37146.\n",
      "No. Observations:               19056   AIC:                        -7.427e+04\n",
      "Df Residuals:                   19046   BIC:                        -7.419e+04\n",
      "Df Model:                           9                                         \n",
      "Covariance Type:            nonrobust                                         \n",
      "==============================================================================\n",
      "                 coef    std err          t      P>|t|      [0.025      0.975]\n",
      "------------------------------------------------------------------------------\n",
      "const         -2.6832      0.007   -404.034      0.000      -2.696      -2.670\n",
      "수수료율           0.1578      0.000    418.205      0.000       0.157       0.159\n",
      "프로그램수정횟수       0.0035      0.001      5.998      0.000       0.002       0.005\n",
      "추가결제금액         0.0047      0.000     46.975      0.000       0.005       0.005\n",
      "판매금액           1.3578      0.002    762.553      0.000       1.354       1.361\n",
      "서비스가격         -0.3713      0.002   -199.413      0.000      -0.375      -0.368\n",
      "누적판매수       -5.13e-05   4.42e-06    -11.592      0.000      -6e-05   -4.26e-05\n",
      "총_판매_금액     1.309e-10   1.54e-11      8.504      0.000    1.01e-10    1.61e-10\n",
      "총구매금액         -0.0030      0.000     -6.788      0.000      -0.004      -0.002\n",
      "총추가결제금액        0.0002   9.32e-05      2.435      0.015    4.43e-05       0.000\n",
      "==============================================================================\n",
      "Omnibus:                    13504.369   Durbin-Watson:                   1.234\n",
      "Prob(Omnibus):                  0.000   Jarque-Bera (JB):          5607625.205\n",
      "Skew:                           2.226   Prob(JB):                         0.00\n",
      "Kurtosis:                      86.921   Cond. No.                     1.13e+09\n",
      "==============================================================================\n",
      "\n",
      "Notes:\n",
      "[1] Standard Errors assume that the covariance matrix of the errors is correctly specified.\n",
      "[2] The condition number is large, 1.13e+09. This might indicate that there are\n",
      "strong multicollinearity or other numerical problems.\n"
     ]
    }
   ],
   "source": [
    "import numpy as np\n",
    "import pandas as pd\n",
    "import statsmodels.api as sm\n",
    "from sklearn.model_selection import train_test_split\n",
    "\n",
    "y_col_name = \"L사매출\"\n",
    "x_col_name = [\"수수료율\",\"프로그램수정횟수\",\"추가결제금액\",\"판매금액\",'서비스가격', '이용자수', 'L사매출',\n",
    "       '평균평점', '누적판매수', '판매_서비스_수', '총_판매_금액','연령','서비스총구매수','총구매금액','총추가결제금액']\n",
    "x_col_name.remove(y_col_name)\n",
    "\n",
    "# 독립 변수(X)와 종속 변수(y) 분리\n",
    "X = over[x_col_name]  # 독립 변수들\n",
    "y = over[y_col_name]  # 종속 변수\n",
    "\n",
    "# 상수항 추가 (절편 추가)\n",
    "X = sm.add_constant(X)\n",
    "\n",
    "# 후진 제거법 구현\n",
    "def backward_elimination(X, y, significance_level=0.05):\n",
    "    # 전체 모델 적합\n",
    "    model = sm.OLS(y, X).fit()\n",
    "\n",
    "    # p-value 확인\n",
    "    p_values = model.pvalues\n",
    "    print(\"모델 p-values:\\n\", p_values)\n",
    "\n",
    "    # p-value가 significance_level보다 큰 변수 제거\n",
    "    while max(p_values) > significance_level:\n",
    "        # 가장 큰 p-value 변수 제거\n",
    "        max_p_value_column = p_values.idxmax()  # p-value가 가장 큰 변수\n",
    "        X = X.drop(columns=[max_p_value_column])  # 해당 변수 제거\n",
    "        model = sm.OLS(y, X).fit()  # 새로운 모델 학습\n",
    "        p_values = model.pvalues  # 새 p-value 계산\n",
    "        print(f\"\\n변수 '{max_p_value_column}'을 제거한 후 모델 p-values:\\n\", p_values)\n",
    "\n",
    "    return model\n",
    "\n",
    "# 후진 제거법 실행\n",
    "final_model = backward_elimination(X, y)\n",
    "\n",
    "# 최종 모델의 회귀식 출력\n",
    "def print_regression_equation(model):\n",
    "    intercept = model.params[0]\n",
    "    coefficients = model.params[1:]\n",
    "\n",
    "    equation = f\"Y = {intercept:.4f} \"\n",
    "    for i, coef in enumerate(coefficients):\n",
    "        equation += f\"+ {coef:.4f} * X{i+1} \"\n",
    "\n",
    "    print(\"\\n최종 회귀식:\")\n",
    "    print(equation)\n",
    "\n",
    "# 회귀식 출력\n",
    "print_regression_equation(final_model)\n",
    "\n",
    "# 최종 모델의 결과 출력\n",
    "print(\"\\n최종 모델 결과:\\n\", final_model.summary())\n"
   ]
  },
  {
   "cell_type": "code",
   "execution_count": 112,
   "id": "f8abfbf8-0b39-469b-b866-b647910d137a",
   "metadata": {
    "id": "f8abfbf8-0b39-469b-b866-b647910d137a"
   },
   "outputs": [
    {
     "name": "stdout",
     "output_type": "stream",
     "text": [
      "    Variable   VIF\n",
      "0      const 834.0\n",
      "1       수수료율   1.0\n",
      "2   프로그램수정횟수   1.1\n",
      "3     추가결제금액   3.6\n",
      "4       판매금액  22.3\n",
      "5      서비스가격  25.1\n",
      "6       이용자수   1.8\n",
      "7       평균평점   1.3\n",
      "8      누적판매수   4.2\n",
      "9   판매_서비스_수   2.0\n",
      "10   총_판매_금액   2.6\n",
      "11        연령   1.0\n",
      "12   서비스총구매수   5.2\n",
      "13     총구매금액   6.7\n",
      "14   총추가결제금액   3.3\n",
      "모델 p-values:\n",
      " const        0.0\n",
      "프로그램수정횟수     0.0\n",
      "추가결제금액       0.0\n",
      "이용자수         0.0\n",
      "서비스총구매수      0.0\n",
      "총추가결제금액      0.0\n",
      "new_총수정요청수   0.0\n",
      "dtype: float64\n",
      "\n",
      "최종 회귀식:\n",
      "Y = 7.4331 + -0.0608 * X1 + 0.1855 * X2 + -0.0732 * X3 + 0.0213 * X4 + -0.0609 * X5 + 0.1553 * X6 \n",
      "\n",
      "최종 모델 결과:\n",
      "                             OLS Regression Results                            \n",
      "==============================================================================\n",
      "Dep. Variable:                   L사매출   R-squared:                       0.190\n",
      "Model:                            OLS   Adj. R-squared:                  0.190\n",
      "Method:                 Least Squares   F-statistic:                 1.212e+04\n",
      "Date:                Mon, 31 Mar 2025   Prob (F-statistic):               0.00\n",
      "Time:                        15:25:32   Log-Likelihood:            -5.4233e+05\n",
      "No. Observations:              310432   AIC:                         1.085e+06\n",
      "Df Residuals:                  310425   BIC:                         1.085e+06\n",
      "Df Model:                           6                                         \n",
      "Covariance Type:            nonrobust                                         \n",
      "==============================================================================\n",
      "                 coef    std err          t      P>|t|      [0.025      0.975]\n",
      "------------------------------------------------------------------------------\n",
      "const          7.4331      0.007   1059.461      0.000       7.419       7.447\n",
      "프로그램수정횟수      -0.0608      0.008     -7.616      0.000      -0.076      -0.045\n",
      "추가결제금액         0.1855      0.001    159.700      0.000       0.183       0.188\n",
      "이용자수          -0.0732      0.001   -131.687      0.000      -0.074      -0.072\n",
      "서비스총구매수        0.0213      0.003      8.222      0.000       0.016       0.026\n",
      "총추가결제금액       -0.0609      0.001    -56.237      0.000      -0.063      -0.059\n",
      "new_총수정요청수     0.1553      0.005     32.725      0.000       0.146       0.165\n",
      "==============================================================================\n",
      "Omnibus:                   130762.825   Durbin-Watson:                   1.870\n",
      "Prob(Omnibus):                  0.000   Jarque-Bera (JB):          1284736.731\n",
      "Skew:                          -1.765   Prob(JB):                         0.00\n",
      "Kurtosis:                      12.320   Cond. No.                         42.2\n",
      "==============================================================================\n",
      "\n",
      "Notes:\n",
      "[1] Standard Errors assume that the covariance matrix of the errors is correctly specified.\n"
     ]
    }
   ],
   "source": [
    "import numpy as np\n",
    "import pandas as pd\n",
    "from statsmodels.stats.outliers_influence import variance_inflation_factor\n",
    "from statsmodels.tools.tools import add_constant\n",
    "\n",
    "y_col_name = \"L사매출\"\n",
    "x_col_name = [\"수수료율\",\"프로그램수정횟수\",\"추가결제금액\",\"판매금액\",'서비스가격', '이용자수', 'L사매출',\n",
    "       '평균평점', '누적판매수', '판매_서비스_수', '총_판매_금액','연령','서비스총구매수','총구매금액','총추가결제금액']\n",
    "x_col_name.remove(y_col_name)\n",
    "\n",
    "X = over[x_col_name]  # 독립 변수들\n",
    "y = over[y_col_name]  # 종속 변수\n",
    "# 상수항 추가 (절편 추가)\n",
    "X_with_const = add_constant(X)\n",
    "\n",
    "# VIF 계산 함수\n",
    "def calculate_vif(X):\n",
    "    vif_data = pd.DataFrame()\n",
    "    vif_data['Variable'] = X.columns\n",
    "    vif_data['VIF'] = [variance_inflation_factor(X.values, i) for i in range(X.shape[1])]\n",
    "    return vif_data\n",
    "\n",
    "# VIF 계산\n",
    "vif_result = calculate_vif(X_with_const)\n",
    "\n",
    "# VIF 결과 출력\n",
    "print(vif_result)\n",
    "\n",
    "import numpy as np\n",
    "import pandas as pd\n",
    "import statsmodels.api as sm\n",
    "from sklearn.model_selection import train_test_split\n",
    "\n",
    "# 독립 변수(X)와 종속 변수(y) 분리\n",
    "X = df[['프로그램수정횟수','추가결제금액','이용자수','서비스총구매수','총추가결제금액','new_총수정요청수']]\n",
    "y = df['L사매출']  # 종속 변수\n",
    "\n",
    "# 상수항 추가 (절편 추가)\n",
    "X = sm.add_constant(X)\n",
    "\n",
    "# 후진 제거법 구현\n",
    "def backward_elimination(X, y, significance_level=0.05):\n",
    "    # 전체 모델 적합\n",
    "    model = sm.OLS(y, X).fit()\n",
    "\n",
    "    # p-value 확인\n",
    "    p_values = model.pvalues\n",
    "    print(\"모델 p-values:\\n\", p_values)\n",
    "\n",
    "    # p-value가 significance_level보다 큰 변수 제거\n",
    "    while max(p_values) > significance_level:\n",
    "        # 가장 큰 p-value 변수 제거\n",
    "        max_p_value_column = p_values.idxmax()  # p-value가 가장 큰 변수\n",
    "        X = X.drop(columns=[max_p_value_column])  # 해당 변수 제거\n",
    "        model = sm.OLS(y, X).fit()  # 새로운 모델 학습\n",
    "        p_values = model.pvalues  # 새 p-value 계산\n",
    "        print(f\"\\n변수 '{max_p_value_column}'을 제거한 후 모델 p-values:\\n\", p_values)\n",
    "\n",
    "    return model\n",
    "\n",
    "# 후진 제거법 실행\n",
    "final_model = backward_elimination(X, y)\n",
    "\n",
    "# 최종 모델의 회귀식 출력\n",
    "def print_regression_equation(model):\n",
    "    intercept = model.params[0]\n",
    "    coefficients = model.params[1:]\n",
    "\n",
    "    equation = f\"Y = {intercept:.4f} \"\n",
    "    for i, coef in enumerate(coefficients):\n",
    "        equation += f\"+ {coef:.4f} * X{i+1} \"\n",
    "\n",
    "    print(\"\\n최종 회귀식:\")\n",
    "    print(equation)\n",
    "\n",
    "# 회귀식 출력\n",
    "print_regression_equation(final_model)\n",
    "\n",
    "# 최종 모델의 결과 출력\n",
    "print(\"\\n최종 모델 결과:\\n\", final_model.summary())\n"
   ]
  },
  {
   "cell_type": "markdown",
   "id": "b6b9458f-ef6e-4330-92ff-4409eba690fa",
   "metadata": {
    "id": "b6b9458f-ef6e-4330-92ff-4409eba690fa"
   },
   "source": [
    "### 수수료율 회귀분석"
   ]
  },
  {
   "cell_type": "code",
   "execution_count": 113,
   "id": "xlostd1CxSN9",
   "metadata": {
    "id": "xlostd1CxSN9"
   },
   "outputs": [
    {
     "name": "stdout",
     "output_type": "stream",
     "text": [
      "모델 p-values:\n",
      " const     0.0\n",
      "연령        0.2\n",
      "추가결제금액    0.2\n",
      "서비스가격     0.9\n",
      "이용자수      0.5\n",
      "서비스총구매수   0.9\n",
      "총구매금액     0.1\n",
      "총추가결제금액   0.1\n",
      "판매금액      0.8\n",
      "평균평점      0.2\n",
      "주문수       0.9\n",
      "dtype: float64\n",
      "\n",
      "변수 '주문수'을 제거한 후 모델 p-values:\n",
      " const     0.0\n",
      "연령        0.2\n",
      "추가결제금액    0.2\n",
      "서비스가격     0.9\n",
      "이용자수      0.5\n",
      "서비스총구매수   0.7\n",
      "총구매금액     0.0\n",
      "총추가결제금액   0.1\n",
      "판매금액      0.8\n",
      "평균평점      0.2\n",
      "dtype: float64\n",
      "\n",
      "변수 '서비스가격'을 제거한 후 모델 p-values:\n",
      " const     0.0\n",
      "연령        0.2\n",
      "추가결제금액    0.2\n",
      "이용자수      0.4\n",
      "서비스총구매수   0.7\n",
      "총구매금액     0.0\n",
      "총추가결제금액   0.1\n",
      "판매금액      0.8\n",
      "평균평점      0.1\n",
      "dtype: float64\n",
      "\n",
      "변수 '판매금액'을 제거한 후 모델 p-values:\n",
      " const     0.0\n",
      "연령        0.2\n",
      "추가결제금액    0.2\n",
      "이용자수      0.4\n",
      "서비스총구매수   0.7\n",
      "총구매금액     0.0\n",
      "총추가결제금액   0.1\n",
      "평균평점      0.2\n",
      "dtype: float64\n",
      "\n",
      "변수 '서비스총구매수'을 제거한 후 모델 p-values:\n",
      " const     0.0\n",
      "연령        0.2\n",
      "추가결제금액    0.1\n",
      "이용자수      0.4\n",
      "총구매금액     0.0\n",
      "총추가결제금액   0.0\n",
      "평균평점      0.2\n",
      "dtype: float64\n",
      "\n",
      "변수 '이용자수'을 제거한 후 모델 p-values:\n",
      " const     0.0\n",
      "연령        0.2\n",
      "추가결제금액    0.1\n",
      "총구매금액     0.0\n",
      "총추가결제금액   0.0\n",
      "평균평점      0.1\n",
      "dtype: float64\n",
      "\n",
      "변수 '연령'을 제거한 후 모델 p-values:\n",
      " const     0.0\n",
      "추가결제금액    0.1\n",
      "총구매금액     0.0\n",
      "총추가결제금액   0.1\n",
      "평균평점      0.1\n",
      "dtype: float64\n",
      "\n",
      "변수 '평균평점'을 제거한 후 모델 p-values:\n",
      " const     0.0\n",
      "추가결제금액    0.1\n",
      "총구매금액     0.0\n",
      "총추가결제금액   0.1\n",
      "dtype: float64\n",
      "\n",
      "변수 '추가결제금액'을 제거한 후 모델 p-values:\n",
      " const     0.0\n",
      "총구매금액     0.0\n",
      "총추가결제금액   0.3\n",
      "dtype: float64\n",
      "\n",
      "변수 '총추가결제금액'을 제거한 후 모델 p-values:\n",
      " const   0.0\n",
      "총구매금액   0.1\n",
      "dtype: float64\n",
      "\n",
      "변수 '총구매금액'을 제거한 후 모델 p-values:\n",
      " const   0.0\n",
      "dtype: float64\n",
      "\n",
      "최종 회귀식:\n",
      "Y = 1.4009 \n",
      "\n",
      "최종 모델 결과:\n",
      "                             OLS Regression Results                            \n",
      "==============================================================================\n",
      "Dep. Variable:                   수수료율   R-squared:                       0.000\n",
      "Model:                            OLS   Adj. R-squared:                  0.000\n",
      "Method:                 Least Squares   F-statistic:                       nan\n",
      "Date:                Mon, 31 Mar 2025   Prob (F-statistic):                nan\n",
      "Time:                        15:25:32   Log-Likelihood:            -2.9402e+05\n",
      "No. Observations:              291376   AIC:                         5.880e+05\n",
      "Df Residuals:                  291375   BIC:                         5.881e+05\n",
      "Df Model:                           0                                         \n",
      "Covariance Type:            nonrobust                                         \n",
      "==============================================================================\n",
      "                 coef    std err          t      P>|t|      [0.025      0.975]\n",
      "------------------------------------------------------------------------------\n",
      "const          1.4009      0.001   1139.276      0.000       1.398       1.403\n",
      "==============================================================================\n",
      "Omnibus:                    57774.176   Durbin-Watson:                   2.002\n",
      "Prob(Omnibus):                  0.000   Jarque-Bera (JB):            98832.924\n",
      "Skew:                           1.394   Prob(JB):                         0.00\n",
      "Kurtosis:                       3.602   Cond. No.                         1.00\n",
      "==============================================================================\n",
      "\n",
      "Notes:\n",
      "[1] Standard Errors assume that the covariance matrix of the errors is correctly specified.\n"
     ]
    }
   ],
   "source": [
    "import numpy as np\n",
    "import pandas as pd\n",
    "import statsmodels.api as sm\n",
    "from sklearn.model_selection import train_test_split\n",
    "\n",
    "# 독립 변수(X)와 종속 변수(y) 분리\n",
    "X = under[[\"연령\",'추가결제금액','서비스가격',\n",
    "           '이용자수','서비스총구매수','총구매금액','총추가결제금액',\n",
    "           \"판매금액\",'평균평점','주문수']]\n",
    "y = under['수수료율']\n",
    "\n",
    "# 상수항 추가 (절편 추가)\n",
    "X = sm.add_constant(X)\n",
    "\n",
    "# 후진 제거법 구현\n",
    "def backward_elimination(X, y, significance_level=0.05):\n",
    "    # 전체 모델 적합\n",
    "    model = sm.OLS(y, X).fit()\n",
    "\n",
    "    # p-value 확인\n",
    "    p_values = model.pvalues\n",
    "    print(\"모델 p-values:\\n\", p_values)\n",
    "\n",
    "    # p-value가 significance_level보다 큰 변수 제거\n",
    "    while max(p_values) > significance_level:\n",
    "        # 가장 큰 p-value 변수 제거\n",
    "        max_p_value_column = p_values.idxmax()  # p-value가 가장 큰 변수\n",
    "        X = X.drop(columns=[max_p_value_column])  # 해당 변수 제거\n",
    "        model = sm.OLS(y, X).fit()  # 새로운 모델 학습\n",
    "        p_values = model.pvalues  # 새 p-value 계산\n",
    "        print(f\"\\n변수 '{max_p_value_column}'을 제거한 후 모델 p-values:\\n\", p_values)\n",
    "\n",
    "    return model\n",
    "\n",
    "# 후진 제거법 실행\n",
    "final_model = backward_elimination(X, y)\n",
    "\n",
    "# 최종 모델의 회귀식 출력\n",
    "def print_regression_equation(model):\n",
    "    intercept = model.params[0]\n",
    "    coefficients = model.params[1:]\n",
    "\n",
    "    equation = f\"Y = {intercept:.4f} \"\n",
    "    for i, coef in enumerate(coefficients):\n",
    "        equation += f\"+ {coef:.4f} * X{i+1} \"\n",
    "\n",
    "    print(\"\\n최종 회귀식:\")\n",
    "    print(equation)\n",
    "\n",
    "# 회귀식 출력\n",
    "print_regression_equation(final_model)\n",
    "\n",
    "# 최종 모델의 결과 출력\n",
    "print(\"\\n최종 모델 결과:\\n\", final_model.summary())\n"
   ]
  },
  {
   "cell_type": "markdown",
   "id": "cbd06ae0-f519-4b92-b478-c0f8c7bda1f5",
   "metadata": {
    "id": "cbd06ae0-f519-4b92-b478-c0f8c7bda1f5"
   },
   "source": [
    "# 창업자 추이 & L사 20만 이상 고객\n",
    "- 창업 관련해서는 L사를 이용한다면 금액이 클 것이므로"
   ]
  },
  {
   "cell_type": "code",
   "execution_count": 114,
   "id": "bf560a05-7585-4694-b3bf-d3fead2bbbb4",
   "metadata": {
    "id": "bf560a05-7585-4694-b3bf-d3fead2bbbb4"
   },
   "outputs": [],
   "source": [
    "startup = pd.read_excel(\"창업기업수_2021상반기_전체만.xlsx\")"
   ]
  },
  {
   "cell_type": "code",
   "execution_count": 115,
   "id": "0ff3d8c7-ae18-46f5-9e49-c2d5e6f444a5",
   "metadata": {
    "id": "0ff3d8c7-ae18-46f5-9e49-c2d5e6f444a5"
   },
   "outputs": [
    {
     "name": "stdout",
     "output_type": "stream",
     "text": [
      "서비스총구매수와 창업수의 약한 양의 상관관계\n"
     ]
    },
    {
     "data": {
      "text/html": [
       "<div>\n",
       "<style scoped>\n",
       "    .dataframe tbody tr th:only-of-type {\n",
       "        vertical-align: middle;\n",
       "    }\n",
       "\n",
       "    .dataframe tbody tr th {\n",
       "        vertical-align: top;\n",
       "    }\n",
       "\n",
       "    .dataframe thead th {\n",
       "        text-align: right;\n",
       "    }\n",
       "</style>\n",
       "<table border=\"1\" class=\"dataframe\">\n",
       "  <thead>\n",
       "    <tr style=\"text-align: right;\">\n",
       "      <th></th>\n",
       "      <th>서비스총구매수</th>\n",
       "      <th>창업수</th>\n",
       "    </tr>\n",
       "  </thead>\n",
       "  <tbody>\n",
       "    <tr>\n",
       "      <th>서비스총구매수</th>\n",
       "      <td>1.0</td>\n",
       "      <td>0.2</td>\n",
       "    </tr>\n",
       "    <tr>\n",
       "      <th>창업수</th>\n",
       "      <td>0.2</td>\n",
       "      <td>1.0</td>\n",
       "    </tr>\n",
       "  </tbody>\n",
       "</table>\n",
       "</div>"
      ],
      "text/plain": [
       "         서비스총구매수  창업수\n",
       "서비스총구매수      1.0  0.2\n",
       "창업수          0.2  1.0"
      ]
     },
     "execution_count": 115,
     "metadata": {},
     "output_type": "execute_result"
    }
   ],
   "source": [
    "# @title\n",
    "import warnings\n",
    "warnings.filterwarnings('ignore')\n",
    "\n",
    "MMM = startup[startup.구분 == \"전체\"]\n",
    "MMM.거래일자 = MMM.거래일자.astype(str)\n",
    "MMM.거래일자 = MMM.거래일자.replace(\".\",\"-\")\n",
    "MMM['거래일자'] = pd.to_datetime(MMM['거래일자'])\n",
    "MMM['거래일자'] = MMM['거래일자'].dt.to_period('M')\n",
    "AAA = MMM.창업수\n",
    "\n",
    "ordf = org_df.copy()\n",
    "ordf['거래일자'] = pd.to_datetime(ordf['거래일자'], format='%Y%m%d')\n",
    "AAA = AAA.reset_index().창업수\n",
    "NNN = ordf.groupby(ordf['거래일자'].dt.to_period('M')).서비스총구매수.sum()\n",
    "NNN.columns = [\"거래일자\",\"서비스총구매수\"]\n",
    "NNN = NNN.reset_index()\n",
    "RRR = pd.concat([NNN,AAA],axis=1)\n",
    "GGG = RRR[[\"서비스총구매수\",\"창업수\"]]\n",
    "\n",
    "from sklearn.preprocessing import MinMaxScaler\n",
    "\n",
    "# MinMaxScaler 선언 및 Fitting\n",
    "mMscaler = MinMaxScaler()\n",
    "mMscaler.fit(GGG)\n",
    "\n",
    "# 데이터 변환\n",
    "mMscaled_data = mMscaler.transform(GGG)\n",
    "\n",
    "# 데이터 프레임으로 저장\n",
    "mMscaled_data = pd.DataFrame(mMscaled_data)\n",
    "mMscaled_data.columns = [\"서비스총구매수\",\"창업수\"]\n",
    "print('서비스총구매수와 창업수의 약한 양의 상관관계')\n",
    "mMscaled_data[[\"서비스총구매수\",\"창업수\"]].corr()"
   ]
  },
  {
   "cell_type": "code",
   "execution_count": null,
   "id": "2b81570c-28e0-4b5e-a2cb-78abfeaabf1d",
   "metadata": {
    "id": "2b81570c-28e0-4b5e-a2cb-78abfeaabf1d"
   },
   "outputs": [],
   "source": []
  }
 ],
 "metadata": {
  "colab": {
   "collapsed_sections": [
    "b11b49e5-0b41-4711-8837-c02a9f417ebb",
    "6de5122f-42bd-40a2-beeb-f403dea158a0",
    "af92dda9-0f5f-4fa8-8ead-dbf2c4a31e88",
    "e28262f5-73fa-4b1c-9b35-0cb168b61189",
    "99779f4d-1799-4781-814a-6b01591c4d16",
    "cd47c117-e985-4164-8bd3-4b43a956d1fe",
    "4f415bf6-ce35-4b62-90bc-97f341f53036",
    "0eef15c9-953e-4684-b61a-9f7e9db90984",
    "ad6d9b08-7505-4eb8-8905-7791a329d73a",
    "39389d0f-c37d-4705-9819-a59f9e7011f3",
    "b6b9458f-ef6e-4330-92ff-4409eba690fa",
    "cbd06ae0-f519-4b92-b478-c0f8c7bda1f5"
   ],
   "provenance": []
  },
  "kernelspec": {
   "display_name": "Python 3 (ipykernel)",
   "language": "python",
   "name": "python3"
  },
  "language_info": {
   "codemirror_mode": {
    "name": "ipython",
    "version": 3
   },
   "file_extension": ".py",
   "mimetype": "text/x-python",
   "name": "python",
   "nbconvert_exporter": "python",
   "pygments_lexer": "ipython3",
   "version": "3.12.7"
  }
 },
 "nbformat": 4,
 "nbformat_minor": 5
}
